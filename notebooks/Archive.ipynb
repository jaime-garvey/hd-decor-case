{
 "cells": [
  {
   "cell_type": "markdown",
   "metadata": {},
   "source": [
    "# Tree"
   ]
  },
  {
   "cell_type": "code",
   "execution_count": null,
   "metadata": {},
   "outputs": [],
   "source": [
    "# Get Nodes\n",
    "nodes = pd.unique(df.iloc[:,-6:].values.ravel())\n",
    "node_ids = np.arange(1, len(nodes)+1, 1)\n",
    "\n",
    "len(nodes) == len(set(nodes))\n",
    "\n",
    "#get edges\n",
    "l1_l2_edges = set(zip(l1_encoded, l2_encoded))\n",
    "#l2_l3_edges = set(zip(df['L2'], df['L3']))\n",
    "#l3_l4_edges = set(zip(df['L3'], df['L4']))\n",
    "#l4_l5_edges = set(zip(df['L4'], df['L5']))\n",
    "#l5_l6_edges = set(zip(df['L5'], df['L6']))\n",
    "\n",
    "\n",
    "edges = set(l1_l2_edges + l2_l3_edges+ l3_l4_edges+ l4_l5_edges+ l5_l6_edges)\n",
    "\n"
   ]
  }
 ],
 "metadata": {
  "kernelspec": {
   "display_name": "Python [conda env:thddecor]",
   "language": "python",
   "name": "conda-env-thddecor-py"
  },
  "language_info": {
   "codemirror_mode": {
    "name": "ipython",
    "version": 3
   },
   "file_extension": ".py",
   "mimetype": "text/x-python",
   "name": "python",
   "nbconvert_exporter": "python",
   "pygments_lexer": "ipython3",
   "version": "3.7.3"
  },
  "toc": {
   "base_numbering": 1,
   "nav_menu": {},
   "number_sections": true,
   "sideBar": true,
   "skip_h1_title": false,
   "title_cell": "Table of Contents",
   "title_sidebar": "Contents",
   "toc_cell": false,
   "toc_position": {},
   "toc_section_display": true,
   "toc_window_display": false
  }
 },
 "nbformat": 4,
 "nbformat_minor": 2
}
