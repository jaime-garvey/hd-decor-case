{
 "cells": [
  {
   "cell_type": "markdown",
   "metadata": {},
   "source": [
    "# Visualization"
   ]
  },
  {
   "cell_type": "code",
   "execution_count": 1,
   "metadata": {
    "ExecuteTime": {
     "end_time": "2019-07-24T03:48:43.087080Z",
     "start_time": "2019-07-24T03:48:42.536790Z"
    }
   },
   "outputs": [],
   "source": [
    "import pandas as pd\n",
    "import plotly\n",
    "\n",
    "import numpy as np\n",
    "import matplotlib.pyplot as plt\n",
    "\n",
    "import plotly.graph_objects as go\n",
    "import plotly.express as px\n",
    "import plotly.io as pio"
   ]
  },
  {
   "cell_type": "markdown",
   "metadata": {
    "heading_collapsed": true
   },
   "source": [
    "# Item-Item CF"
   ]
  },
  {
   "cell_type": "code",
   "execution_count": null,
   "metadata": {
    "hidden": true
   },
   "outputs": [],
   "source": [
    "# Data Strutures\n",
    "\n",
    "prod2idx\n",
    "\n",
    "prod2term\n",
    "\n"
   ]
  },
  {
   "cell_type": "code",
   "execution_count": null,
   "metadata": {
    "hidden": true
   },
   "outputs": [],
   "source": [
    "# number of neighbors to consider\n",
    "k = 20\n",
    "\n",
    "# number of common categories items habe to common to be considered\n",
    "limit = 2\n",
    "\n",
    "# list of neighbors\n",
    "neighbors = []\n",
    "\n",
    "# products average rating\n",
    "avgs = []\n",
    "\n",
    "# product deviations\n",
    "\n",
    "deviations = []"
   ]
  },
  {
   "cell_type": "code",
   "execution_count": null,
   "metadata": {
    "hidden": true
   },
   "outputs": [],
   "source": [
    "for i in range(P):\n",
    "    #find the K cloest items to item i\n",
    "    term_i = prod2term[i]\n",
    "    "
   ]
  },
  {
   "cell_type": "markdown",
   "metadata": {
    "heading_collapsed": true
   },
   "source": [
    "# Tree"
   ]
  },
  {
   "cell_type": "code",
   "execution_count": null,
   "metadata": {
    "hidden": true
   },
   "outputs": [],
   "source": []
  },
  {
   "cell_type": "code",
   "execution_count": null,
   "metadata": {
    "hidden": true
   },
   "outputs": [],
   "source": [
    "# Get Nodes\n",
    "nodes = pd.unique(df.iloc[:,-6:].values.ravel())\n",
    "node_ids = np.arange(1, len(nodes)+1, 1)\n",
    "\n",
    "len(nodes) == len(set(nodes))\n",
    "\n",
    "#get edges\n",
    "l1_l2_edges = set(zip(l1_encoded, l2_encoded))\n",
    "#l2_l3_edges = set(zip(df['L2'], df['L3']))\n",
    "#l3_l4_edges = set(zip(df['L3'], df['L4']))\n",
    "#l4_l5_edges = set(zip(df['L4'], df['L5']))\n",
    "#l5_l6_edges = set(zip(df['L5'], df['L6']))\n",
    "\n",
    "\n",
    "edges = set(l1_l2_edges + l2_l3_edges+ l3_l4_edges+ l4_l5_edges+ l5_l6_edges)\n",
    "\n"
   ]
  },
  {
   "cell_type": "code",
   "execution_count": null,
   "metadata": {
    "hidden": true
   },
   "outputs": [],
   "source": []
  }
 ],
 "metadata": {
  "hide_input": false,
  "kernelspec": {
   "display_name": "Python [conda env:thddecor]",
   "language": "python",
   "name": "conda-env-thddecor-py"
  },
  "language_info": {
   "codemirror_mode": {
    "name": "ipython",
    "version": 3
   },
   "file_extension": ".py",
   "mimetype": "text/x-python",
   "name": "python",
   "nbconvert_exporter": "python",
   "pygments_lexer": "ipython3",
   "version": "3.7.3"
  },
  "toc": {
   "base_numbering": 1,
   "nav_menu": {},
   "number_sections": true,
   "sideBar": true,
   "skip_h1_title": false,
   "title_cell": "Table of Contents",
   "title_sidebar": "Contents",
   "toc_cell": false,
   "toc_position": {},
   "toc_section_display": true,
   "toc_window_display": false
  }
 },
 "nbformat": 4,
 "nbformat_minor": 2
}
