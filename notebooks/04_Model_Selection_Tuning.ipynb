{
 "cells": [
  {
   "cell_type": "markdown",
   "metadata": {},
   "source": [
    "# The Home Depot Decor Case\n",
    "\n",
    "Getting Started  |  Data Prep  |  Data Exploration  |  Preprocessing  |  **Model Selection & Tuning**  |  Final Model"
   ]
  },
  {
   "cell_type": "code",
   "execution_count": 56,
   "metadata": {
    "ExecuteTime": {
     "end_time": "2019-07-22T18:23:03.914682Z",
     "start_time": "2019-07-22T18:23:03.906306Z"
    }
   },
   "outputs": [],
   "source": [
    "import pandas as pd\n",
    "import numpy as np\n",
    "import matplotlib.pyplot as plt\n",
    "import math\n",
    "\n",
    "import gensim\n",
    "\n",
    "from gensim.models import KeyedVectors as kv\n",
    "\n",
    "from nltk.corpus import stopwords\n",
    "from sklearn import preprocessing\n",
    "from sklearn.feature_extraction.text import TfidfVectorizer, CountVectorizer\n",
    "from sklearn.metrics.pairwise import cosine_similarity\n",
    "\n",
    "from collections import Counter\n",
    "\n",
    "# other imports\n",
    "%matplotlib inline"
   ]
  },
  {
   "cell_type": "code",
   "execution_count": 2,
   "metadata": {
    "ExecuteTime": {
     "end_time": "2019-07-22T17:57:25.493867Z",
     "start_time": "2019-07-22T17:57:25.482901Z"
    }
   },
   "outputs": [],
   "source": [
    "import sys\n",
    "import inspect\n",
    "sys.path.insert(0, '../modules')\n",
    "\n",
    "\n",
    "# now read in new functions\n",
    "from helpers import read_in_dataset, get_num_of_levels, flatten_categories, search_cons_status\n",
    "from hierarchy import Hierarchy\n",
    "from textpreprocessor import TextPreprocessor"
   ]
  },
  {
   "cell_type": "markdown",
   "metadata": {},
   "source": [
    "**Read in Data**"
   ]
  },
  {
   "cell_type": "code",
   "execution_count": 3,
   "metadata": {
    "ExecuteTime": {
     "end_time": "2019-07-22T16:43:37.535469Z",
     "start_time": "2019-07-22T16:43:37.328927Z"
    }
   },
   "outputs": [],
   "source": [
    "# Read in product related data\n",
    "verbose_opt = False\n",
    "catalog = read_in_dataset('Decor_catalog.csv', verbose=verbose_opt)\n",
    "#prod_desc = read_in_dataset('Product_name_description.csv', verbose=verbose_opt)\n",
    "#prod_engagement = read_in_dataset('Product_engagement.csv', verbose=verbose_opt)\n",
    "\n",
    "# Read in search related data\n",
    "#navigations = read_in_dataset('Visual_navigations.csv', verbose=verbose_opt)\n",
    "search_imp = read_in_dataset('Search_impression.csv', verbose=verbose_opt)"
   ]
  },
  {
   "cell_type": "markdown",
   "metadata": {},
   "source": [
    "# Overview\n",
    "----------Data---------------\n",
    "1. Get Product Hierarchy Dictionary\n",
    "2. Preprocess Search Terms\n",
    "3. Consolidate Search Terms\n",
    "\n",
    "----------Recommender------------ \n",
    "\n",
    "_Query Understanding_\n",
    "4. Search similarity Matrix\n",
    "  - Get Search Product Matrix\n",
    "  - Compute Cosine Similarity\n",
    "  \n",
    "5. Match Search Term\n",
    "  - Get Top Recommendation\n",
    "  \n",
    "_Query Classification_\n",
    "6. Get Search-Cat Map\n",
    "7. Get Top N Nodes\n",
    "8. Classify Node\n",
    "9. Make Recommendations\n"
   ]
  },
  {
   "cell_type": "markdown",
   "metadata": {
    "ExecuteTime": {
     "end_time": "2019-07-19T18:30:33.125314Z",
     "start_time": "2019-07-19T18:30:33.121633Z"
    }
   },
   "source": [
    "# Get Hierarchy"
   ]
  },
  {
   "cell_type": "markdown",
   "metadata": {
    "heading_collapsed": true
   },
   "source": [
    "## Hierarchy Class"
   ]
  },
  {
   "cell_type": "code",
   "execution_count": 3,
   "metadata": {
    "ExecuteTime": {
     "end_time": "2019-07-22T17:57:32.795316Z",
     "start_time": "2019-07-22T17:57:32.607834Z"
    },
    "hidden": true
   },
   "outputs": [],
   "source": [
    "#read in data\n",
    "catalog = read_in_dataset('Decor_catalog.csv', verbose=False)"
   ]
  },
  {
   "cell_type": "code",
   "execution_count": 4,
   "metadata": {
    "ExecuteTime": {
     "end_time": "2019-07-22T17:57:38.206544Z",
     "start_time": "2019-07-22T17:57:33.511107Z"
    },
    "hidden": true
   },
   "outputs": [],
   "source": [
    "# Get Product Taxonomy \n",
    "h = Hierarchy(data=catalog, num_levels=6)"
   ]
  },
  {
   "cell_type": "markdown",
   "metadata": {
    "heading_collapsed": true
   },
   "source": [
    "# Preprocess & Consolidate Search Terms"
   ]
  },
  {
   "cell_type": "code",
   "execution_count": 5,
   "metadata": {
    "ExecuteTime": {
     "end_time": "2019-07-22T17:57:54.752007Z",
     "start_time": "2019-07-22T17:57:54.740308Z"
    },
    "hidden": true
   },
   "outputs": [],
   "source": [
    "# Read in Data \n",
    "search_imp = read_in_dataset('Search_impression.csv', verbose=False)"
   ]
  },
  {
   "cell_type": "code",
   "execution_count": 6,
   "metadata": {
    "ExecuteTime": {
     "end_time": "2019-07-22T17:57:56.555035Z",
     "start_time": "2019-07-22T17:57:55.307675Z"
    },
    "hidden": true
   },
   "outputs": [],
   "source": [
    "# Search\n",
    "search_corpus = search_imp['Search_term'].values\n",
    "\n",
    "\n",
    "tp = TextPreprocessor()\n",
    "\n",
    "# Use preprocessor on searches\n",
    "search_docs = tp.clean_text(search_imp,'Search_term')\n",
    "\n",
    "#Consolidate Search after Preprocessing\n",
    "consolidated_search = tp.compare_clean_searches(search_docs, search_imp)\n",
    "\n",
    "#searches_trigram = search.trigram_model(clean_searches, verbose=False)\n",
    "#searches_vec, searches_matrix = tp.vectorize(search_docs, format='docs')"
   ]
  },
  {
   "cell_type": "markdown",
   "metadata": {},
   "source": [
    "# Query Understanding"
   ]
  },
  {
   "cell_type": "code",
   "execution_count": 7,
   "metadata": {
    "ExecuteTime": {
     "end_time": "2019-07-22T17:58:03.515250Z",
     "start_time": "2019-07-22T17:58:03.330977Z"
    }
   },
   "outputs": [],
   "source": [
    "catalog = read_in_dataset('Decor_catalog.csv', verbose=False)"
   ]
  },
  {
   "cell_type": "code",
   "execution_count": 8,
   "metadata": {
    "ExecuteTime": {
     "end_time": "2019-07-22T17:58:04.134195Z",
     "start_time": "2019-07-22T17:58:04.095872Z"
    }
   },
   "outputs": [
    {
     "data": {
      "text/html": [
       "<div>\n",
       "<style scoped>\n",
       "    .dataframe tbody tr th:only-of-type {\n",
       "        vertical-align: middle;\n",
       "    }\n",
       "\n",
       "    .dataframe tbody tr th {\n",
       "        vertical-align: top;\n",
       "    }\n",
       "\n",
       "    .dataframe thead th {\n",
       "        text-align: right;\n",
       "    }\n",
       "</style>\n",
       "<table border=\"1\" class=\"dataframe\">\n",
       "  <thead>\n",
       "    <tr style=\"text-align: right;\">\n",
       "      <th></th>\n",
       "      <th>100012014</th>\n",
       "      <th>100022800</th>\n",
       "      <th>100023109</th>\n",
       "      <th>100023973</th>\n",
       "      <th>100036137</th>\n",
       "      <th>100044505</th>\n",
       "      <th>100048075</th>\n",
       "      <th>100051570</th>\n",
       "      <th>100061089</th>\n",
       "      <th>100074869</th>\n",
       "      <th>...</th>\n",
       "      <th>307717049</th>\n",
       "      <th>307717219</th>\n",
       "      <th>307717221</th>\n",
       "      <th>307727052</th>\n",
       "      <th>307833295</th>\n",
       "      <th>307920434</th>\n",
       "      <th>307939445</th>\n",
       "      <th>307939707</th>\n",
       "      <th>307940057</th>\n",
       "      <th>307940314</th>\n",
       "    </tr>\n",
       "  </thead>\n",
       "  <tbody>\n",
       "    <tr>\n",
       "      <th>coffee</th>\n",
       "      <td>0</td>\n",
       "      <td>0</td>\n",
       "      <td>0</td>\n",
       "      <td>0</td>\n",
       "      <td>0</td>\n",
       "      <td>0</td>\n",
       "      <td>0</td>\n",
       "      <td>0</td>\n",
       "      <td>0</td>\n",
       "      <td>0</td>\n",
       "      <td>...</td>\n",
       "      <td>0</td>\n",
       "      <td>0</td>\n",
       "      <td>0</td>\n",
       "      <td>0</td>\n",
       "      <td>0</td>\n",
       "      <td>0</td>\n",
       "      <td>0</td>\n",
       "      <td>0</td>\n",
       "      <td>0</td>\n",
       "      <td>0</td>\n",
       "    </tr>\n",
       "    <tr>\n",
       "      <th>bag chair</th>\n",
       "      <td>0</td>\n",
       "      <td>0</td>\n",
       "      <td>0</td>\n",
       "      <td>0</td>\n",
       "      <td>0</td>\n",
       "      <td>0</td>\n",
       "      <td>0</td>\n",
       "      <td>0</td>\n",
       "      <td>0</td>\n",
       "      <td>0</td>\n",
       "      <td>...</td>\n",
       "      <td>0</td>\n",
       "      <td>0</td>\n",
       "      <td>0</td>\n",
       "      <td>0</td>\n",
       "      <td>0</td>\n",
       "      <td>0</td>\n",
       "      <td>0</td>\n",
       "      <td>0</td>\n",
       "      <td>0</td>\n",
       "      <td>0</td>\n",
       "    </tr>\n",
       "    <tr>\n",
       "      <th>kitchen wall tile</th>\n",
       "      <td>0</td>\n",
       "      <td>0</td>\n",
       "      <td>0</td>\n",
       "      <td>0</td>\n",
       "      <td>0</td>\n",
       "      <td>0</td>\n",
       "      <td>0</td>\n",
       "      <td>0</td>\n",
       "      <td>0</td>\n",
       "      <td>0</td>\n",
       "      <td>...</td>\n",
       "      <td>0</td>\n",
       "      <td>0</td>\n",
       "      <td>0</td>\n",
       "      <td>0</td>\n",
       "      <td>0</td>\n",
       "      <td>0</td>\n",
       "      <td>0</td>\n",
       "      <td>0</td>\n",
       "      <td>0</td>\n",
       "      <td>0</td>\n",
       "    </tr>\n",
       "    <tr>\n",
       "      <th>mirror tile</th>\n",
       "      <td>0</td>\n",
       "      <td>0</td>\n",
       "      <td>0</td>\n",
       "      <td>0</td>\n",
       "      <td>0</td>\n",
       "      <td>0</td>\n",
       "      <td>0</td>\n",
       "      <td>0</td>\n",
       "      <td>0</td>\n",
       "      <td>0</td>\n",
       "      <td>...</td>\n",
       "      <td>0</td>\n",
       "      <td>0</td>\n",
       "      <td>0</td>\n",
       "      <td>0</td>\n",
       "      <td>0</td>\n",
       "      <td>0</td>\n",
       "      <td>0</td>\n",
       "      <td>0</td>\n",
       "      <td>0</td>\n",
       "      <td>0</td>\n",
       "    </tr>\n",
       "    <tr>\n",
       "      <th>entryway</th>\n",
       "      <td>0</td>\n",
       "      <td>0</td>\n",
       "      <td>0</td>\n",
       "      <td>0</td>\n",
       "      <td>0</td>\n",
       "      <td>0</td>\n",
       "      <td>0</td>\n",
       "      <td>0</td>\n",
       "      <td>0</td>\n",
       "      <td>0</td>\n",
       "      <td>...</td>\n",
       "      <td>0</td>\n",
       "      <td>0</td>\n",
       "      <td>0</td>\n",
       "      <td>0</td>\n",
       "      <td>0</td>\n",
       "      <td>0</td>\n",
       "      <td>0</td>\n",
       "      <td>0</td>\n",
       "      <td>0</td>\n",
       "      <td>0</td>\n",
       "    </tr>\n",
       "  </tbody>\n",
       "</table>\n",
       "<p>5 rows × 4764 columns</p>\n",
       "</div>"
      ],
      "text/plain": [
       "                   100012014  100022800  100023109  100023973  100036137  \\\n",
       "coffee                     0          0          0          0          0   \n",
       "bag chair                  0          0          0          0          0   \n",
       "kitchen wall tile          0          0          0          0          0   \n",
       "mirror tile                0          0          0          0          0   \n",
       "entryway                   0          0          0          0          0   \n",
       "\n",
       "                   100044505  100048075  100051570  100061089  100074869  ...  \\\n",
       "coffee                     0          0          0          0          0  ...   \n",
       "bag chair                  0          0          0          0          0  ...   \n",
       "kitchen wall tile          0          0          0          0          0  ...   \n",
       "mirror tile                0          0          0          0          0  ...   \n",
       "entryway                   0          0          0          0          0  ...   \n",
       "\n",
       "                   307717049  307717219  307717221  307727052  307833295  \\\n",
       "coffee                     0          0          0          0          0   \n",
       "bag chair                  0          0          0          0          0   \n",
       "kitchen wall tile          0          0          0          0          0   \n",
       "mirror tile                0          0          0          0          0   \n",
       "entryway                   0          0          0          0          0   \n",
       "\n",
       "                   307920434  307939445  307939707  307940057  307940314  \n",
       "coffee                     0          0          0          0          0  \n",
       "bag chair                  0          0          0          0          0  \n",
       "kitchen wall tile          0          0          0          0          0  \n",
       "mirror tile                0          0          0          0          0  \n",
       "entryway                   0          0          0          0          0  \n",
       "\n",
       "[5 rows x 4764 columns]"
      ]
     },
     "execution_count": 8,
     "metadata": {},
     "output_type": "execute_result"
    }
   ],
   "source": [
    "# get Search Term Similarity Matrix\n",
    "\n",
    "# Get impresions as document of sku ids\n",
    "search_imp['Impression'] = search_imp['Impression'].str.replace(';', ' ')\n",
    "\n",
    "# impressions array\n",
    "imp = search_imp['Impression'].values\n",
    "\n",
    "# Vectorize Data\n",
    "vec = CountVectorizer()\n",
    "\n",
    "#Fit Transform\n",
    "seach_prod = vec.fit_transform(imp)\n",
    "\n",
    "# Preview Sparse Matrix\n",
    "pd.DataFrame(seach_prod.toarray(), index=search_imp['Search_term'].values, columns=vec.get_feature_names()).head()"
   ]
  },
  {
   "cell_type": "code",
   "execution_count": 9,
   "metadata": {
    "ExecuteTime": {
     "end_time": "2019-07-22T17:58:05.463761Z",
     "start_time": "2019-07-22T17:58:05.449211Z"
    }
   },
   "outputs": [],
   "source": [
    "#Get Search Term Similarity Matrix\n",
    "search_similarity_matrix = cosine_similarity(seach_prod,seach_prod)\n",
    "\n",
    "#Dataframe\n",
    "index = search_imp['Search_term'].values\n",
    "search_similarity_matrix_df = pd.DataFrame(search_similarity_matrix, index=index, columns=index)"
   ]
  },
  {
   "cell_type": "code",
   "execution_count": 10,
   "metadata": {
    "ExecuteTime": {
     "end_time": "2019-07-22T17:58:07.271519Z",
     "start_time": "2019-07-22T17:58:07.266216Z"
    }
   },
   "outputs": [],
   "source": [
    "# get term to index\n",
    "def term2index_dict(search_terms_lst):\n",
    "    d = {}\n",
    "    for i,term in enumerate(search_terms_lst):\n",
    "        d[term] = i\n",
    "        \n",
    "    return d\n",
    "\n",
    "term2index = term2index_dict(search_imp.index.values)\n",
    "\n",
    "#get top n closest query\n",
    "def get_topn_query(term, sim_matrix=search_similarity_matrix_df, n=1):\n",
    "    return sim_matrix.loc[:,term].sort_values(ascending=False).head(n)"
   ]
  },
  {
   "cell_type": "code",
   "execution_count": 11,
   "metadata": {
    "ExecuteTime": {
     "end_time": "2019-07-22T17:58:08.660181Z",
     "start_time": "2019-07-22T17:58:08.652222Z"
    }
   },
   "outputs": [
    {
     "data": {
      "text/plain": [
       "coffee    1.0\n",
       "Name: coffee, dtype: float64"
      ]
     },
     "execution_count": 11,
     "metadata": {},
     "output_type": "execute_result"
    }
   ],
   "source": [
    "get_topn_query('coffee')"
   ]
  },
  {
   "cell_type": "markdown",
   "metadata": {
    "heading_collapsed": true
   },
   "source": [
    "# Query Classification\n",
    "\n",
    "1. Get Search Term-Cat Matrix: Extract Categories from Top 24 Products \n",
    "2. Get Top N Nodes\n",
    "3. Flatten: Create Node/Category Vectors with Node and Children*\n",
    "4. Compute Cosine Similarity*\n",
    "5. Take Top Match (Node/Category)*\n"
   ]
  },
  {
   "cell_type": "code",
   "execution_count": 12,
   "metadata": {
    "ExecuteTime": {
     "end_time": "2019-07-22T17:58:14.087529Z",
     "start_time": "2019-07-22T17:58:14.079482Z"
    },
    "hidden": true
   },
   "outputs": [],
   "source": [
    "#get search terms to limit catelog \n",
    "search_labels = pd.Series(vec.get_feature_names(), name='prod')\n",
    "search_labels.index = search_labels"
   ]
  },
  {
   "cell_type": "code",
   "execution_count": 13,
   "metadata": {
    "ExecuteTime": {
     "end_time": "2019-07-22T17:58:16.437509Z",
     "start_time": "2019-07-22T17:58:14.685758Z"
    },
    "hidden": true
   },
   "outputs": [],
   "source": [
    "# Expand Path Columns(e.g. Furniture>Living Room>Accent Tables)\n",
    "\n",
    "catalog['Category'] = catalog['Category'].str.split('>')\n",
    "\n",
    "cat = catalog['Category'].values\n",
    "\n",
    "# Vectorize Product Categories (SKU-ID - Category Matrix)\n",
    "def dummy(doc):\n",
    "    return doc\n",
    "\n",
    "vec_cat = CountVectorizer(lowercase=False, preprocessor=dummy,tokenizer=dummy)\n",
    "\n",
    "#Fit Transform\n",
    "prod_cat = vec_cat.fit_transform(cat)\n",
    "\n",
    "\n",
    "#Get category list \n",
    "cat_labels = vec_cat.get_feature_names()\n",
    "\n",
    "#reduce catalog to product that are in our top 24 product list across search terms\n",
    "catalog_reduced = catalog[catalog['SKU_ID'].isin(search_labels)]\n",
    "\n",
    "#reset index for impressions and catelog data\n",
    "search_imp.set_index('Search_term', inplace=True)\n",
    "catalog_reduced.set_index('SKU_ID', inplace=True)"
   ]
  },
  {
   "cell_type": "code",
   "execution_count": 14,
   "metadata": {
    "ExecuteTime": {
     "end_time": "2019-07-22T17:58:16.443890Z",
     "start_time": "2019-07-22T17:58:16.439592Z"
    },
    "hidden": true
   },
   "outputs": [],
   "source": [
    "#search terms list for for eligible searches\n",
    "search_terms_unique = list(search_imp.index.unique())"
   ]
  },
  {
   "cell_type": "code",
   "execution_count": 15,
   "metadata": {
    "ExecuteTime": {
     "end_time": "2019-07-22T17:58:16.453726Z",
     "start_time": "2019-07-22T17:58:16.446290Z"
    },
    "hidden": true
   },
   "outputs": [],
   "source": [
    "#split impressions into list\n",
    "search_imp['Impression'] = search_imp['Impression'].str.split()"
   ]
  },
  {
   "cell_type": "code",
   "execution_count": 16,
   "metadata": {
    "ExecuteTime": {
     "end_time": "2019-07-22T17:58:17.249999Z",
     "start_time": "2019-07-22T17:58:17.243333Z"
    },
    "hidden": true
   },
   "outputs": [],
   "source": [
    "'''\n",
    "Get dictionary of {term1: cat1: count, Cat2, count},\n",
    "                    term2: {cat4: count, Cat9, count}...}\n",
    "''' \n",
    "def get_labels(prod_lst):\n",
    "    \n",
    "    labels = []\n",
    "    for prod in prod_lst:\n",
    "        lst = catalog_reduced.loc[int(prod)]\n",
    "        \n",
    "        if len(lst)>1:\n",
    "            lsts = catalog_reduced.loc[int(prod)]['Category'].to_list()\n",
    "            for l in lsts:\n",
    "                labels.extend(l)\n",
    "        else:\n",
    "            labels.extend(lst['Category'])\n",
    "        \n",
    "    d = Counter(labels)\n",
    "    \n",
    "    return d \n",
    "\n",
    "def get_term_cat_dict(search_term_lst):\n",
    "    term_cat_dict = {}\n",
    "    for term in search_term_lst:\n",
    "        term_imp = search_imp.loc[term]['Impression']\n",
    "        labels = get_labels(term_imp)\n",
    "        \n",
    "        term_cat_dict[term] = labels\n",
    "        \n",
    "    return term_cat_dict"
   ]
  },
  {
   "cell_type": "code",
   "execution_count": 17,
   "metadata": {
    "ExecuteTime": {
     "end_time": "2019-07-22T17:58:20.492255Z",
     "start_time": "2019-07-22T17:58:18.567184Z"
    },
    "hidden": true
   },
   "outputs": [],
   "source": [
    "term_cat_dict = get_term_cat_dict(search_terms_unique)"
   ]
  },
  {
   "cell_type": "code",
   "execution_count": null,
   "metadata": {
    "hidden": true
   },
   "outputs": [],
   "source": [
    "def flatten_nodes(candidates=candidates, n=5):\n",
    "    \n",
    "    keys = list(candidates.keys())\n",
    "    \n",
    "    candiate_cats = keys[:n]\n",
    "    \n",
    "    candidate_docs = {}\n",
    "    \n",
    "    for candidate in candiate_cats:\n",
    "        #get node id\n",
    "        id = h.node2id[candidate]\n",
    "        \n",
    "        #get children node ids\n",
    "        children_ids = h.prod_map[id]\n",
    "        \n",
    "        #convert back to children names\n",
    "        child_doc= ' '.join([h.id2node[child_id] for child_id in children_ids])\n",
    "        \n",
    "        candidate_docs[candidate] = child_doc\n",
    "    \n",
    "    return candidate_docs"
   ]
  },
  {
   "cell_type": "markdown",
   "metadata": {
    "heading_collapsed": true
   },
   "source": [
    "# Recommendation"
   ]
  },
  {
   "cell_type": "code",
   "execution_count": 120,
   "metadata": {
    "ExecuteTime": {
     "end_time": "2019-07-22T19:29:19.504230Z",
     "start_time": "2019-07-22T19:29:19.501147Z"
    },
    "hidden": true
   },
   "outputs": [],
   "source": [
    "query = 'accent table'"
   ]
  },
  {
   "cell_type": "code",
   "execution_count": 121,
   "metadata": {
    "ExecuteTime": {
     "end_time": "2019-07-22T19:29:20.011725Z",
     "start_time": "2019-07-22T19:29:20.006410Z"
    },
    "hidden": true
   },
   "outputs": [
    {
     "data": {
      "text/plain": [
       "Counter({'Furniture': 27,\n",
       "         'Living Room Furniture': 24,\n",
       "         'Accent Tables': 24,\n",
       "         'End Tables': 21,\n",
       "         'Entryway Furniture': 3,\n",
       "         'Entryway Tables': 3,\n",
       "         'Console Tables': 3})"
      ]
     },
     "execution_count": 121,
     "metadata": {},
     "output_type": "execute_result"
    }
   ],
   "source": [
    "#Example\n",
    "candidates = term_cat_dict[query]\n",
    "candidates"
   ]
  },
  {
   "cell_type": "code",
   "execution_count": 122,
   "metadata": {
    "ExecuteTime": {
     "end_time": "2019-07-22T19:29:23.551757Z",
     "start_time": "2019-07-22T19:29:23.546261Z"
    },
    "hidden": true
   },
   "outputs": [
    {
     "data": {
      "text/plain": [
       "{'Furniture': 'Furniture Accessories & Replacement Parts Kids & Baby Furniture Folding Tables & Chairs Home Office Furniture Entryway Furniture Living Room Furniture Kitchen & Dining Room Furniture Bedroom Furniture',\n",
       " 'Living Room Furniture': 'Accent Tables Chairs Futons Slipcovers Sectionals Ottomans Media Storage TV Stands Living Room Sets Sofas & Loveseats',\n",
       " 'Accent Tables': 'End Tables Indoor Plant Stands Console Tables Coffee Tables',\n",
       " 'End Tables': 'nan',\n",
       " 'Entryway Furniture': 'Umbrella Holders Coat Racks Hall Trees Entryway Benches & Trunks Entryway Tables nan'}"
      ]
     },
     "execution_count": 122,
     "metadata": {},
     "output_type": "execute_result"
    }
   ],
   "source": [
    "#save candidate docs\n",
    "candidate_docs = flatten_nodes()\n",
    "candidate_docs"
   ]
  },
  {
   "cell_type": "code",
   "execution_count": 79,
   "metadata": {
    "ExecuteTime": {
     "end_time": "2019-07-22T18:40:03.813867Z",
     "start_time": "2019-07-22T18:40:03.807975Z"
    },
    "hidden": true
   },
   "outputs": [
    {
     "data": {
      "text/plain": [
       "['accent table',\n",
       " 'Furniture Accessories & Replacement Parts Kids & Baby Furniture Folding Tables & Chairs Home Office Furniture Entryway Furniture Living Room Furniture Kitchen & Dining Room Furniture Bedroom Furniture',\n",
       " 'Accent Tables Chairs Futons Slipcovers Sectionals Ottomans Media Storage TV Stands Living Room Sets Sofas & Loveseats',\n",
       " 'End Tables Indoor Plant Stands Console Tables Coffee Tables',\n",
       " 'nan',\n",
       " 'Umbrella Holders Coat Racks Hall Trees Entryway Benches & Trunks Entryway Tables nan']"
      ]
     },
     "execution_count": 79,
     "metadata": {},
     "output_type": "execute_result"
    }
   ],
   "source": [
    "[query] + list(candidate_docs.values())"
   ]
  },
  {
   "cell_type": "code",
   "execution_count": 80,
   "metadata": {
    "ExecuteTime": {
     "end_time": "2019-07-22T18:40:26.436829Z",
     "start_time": "2019-07-22T18:40:26.427277Z"
    },
    "hidden": true
   },
   "outputs": [],
   "source": [
    "#Preprocess docs\n",
    "t = TextPreprocessor()\n",
    "\n",
    "# Use preprocessor on searches\n",
    "node_docs = t.clean_docs([query] + list(candidate_docs.values()))\n",
    "\n",
    "#vectorize\n",
    "vec_cand, matrix_cand = t.vectorize(node_docs)"
   ]
  },
  {
   "cell_type": "code",
   "execution_count": 82,
   "metadata": {
    "ExecuteTime": {
     "end_time": "2019-07-22T18:40:59.232168Z",
     "start_time": "2019-07-22T18:40:59.202663Z"
    },
    "hidden": true
   },
   "outputs": [
    {
     "data": {
      "text/html": [
       "<div>\n",
       "<style scoped>\n",
       "    .dataframe tbody tr th:only-of-type {\n",
       "        vertical-align: middle;\n",
       "    }\n",
       "\n",
       "    .dataframe tbody tr th {\n",
       "        vertical-align: top;\n",
       "    }\n",
       "\n",
       "    .dataframe thead th {\n",
       "        text-align: right;\n",
       "    }\n",
       "</style>\n",
       "<table border=\"1\" class=\"dataframe\">\n",
       "  <thead>\n",
       "    <tr style=\"text-align: right;\">\n",
       "      <th></th>\n",
       "      <th>accent</th>\n",
       "      <th>accessory</th>\n",
       "      <th>baby</th>\n",
       "      <th>bedroom</th>\n",
       "      <th>bench</th>\n",
       "      <th>chair</th>\n",
       "      <th>coat</th>\n",
       "      <th>coffee</th>\n",
       "      <th>console</th>\n",
       "      <th>dining</th>\n",
       "      <th>...</th>\n",
       "      <th>set</th>\n",
       "      <th>slipcover</th>\n",
       "      <th>sofa</th>\n",
       "      <th>stand</th>\n",
       "      <th>storage</th>\n",
       "      <th>table</th>\n",
       "      <th>tree</th>\n",
       "      <th>trunk</th>\n",
       "      <th>tv</th>\n",
       "      <th>umbrella</th>\n",
       "    </tr>\n",
       "  </thead>\n",
       "  <tbody>\n",
       "    <tr>\n",
       "      <th>accent table</th>\n",
       "      <td>0.848083</td>\n",
       "      <td>0.00000</td>\n",
       "      <td>0.00000</td>\n",
       "      <td>0.00000</td>\n",
       "      <td>0.000000</td>\n",
       "      <td>0.000000</td>\n",
       "      <td>0.000000</td>\n",
       "      <td>0.000000</td>\n",
       "      <td>0.000000</td>\n",
       "      <td>0.00000</td>\n",
       "      <td>...</td>\n",
       "      <td>0.000000</td>\n",
       "      <td>0.000000</td>\n",
       "      <td>0.000000</td>\n",
       "      <td>0.000000</td>\n",
       "      <td>0.000000</td>\n",
       "      <td>0.529863</td>\n",
       "      <td>0.000000</td>\n",
       "      <td>0.000000</td>\n",
       "      <td>0.000000</td>\n",
       "      <td>0.000000</td>\n",
       "    </tr>\n",
       "    <tr>\n",
       "      <th>Furniture</th>\n",
       "      <td>0.000000</td>\n",
       "      <td>0.12503</td>\n",
       "      <td>0.12503</td>\n",
       "      <td>0.12503</td>\n",
       "      <td>0.000000</td>\n",
       "      <td>0.102526</td>\n",
       "      <td>0.000000</td>\n",
       "      <td>0.000000</td>\n",
       "      <td>0.000000</td>\n",
       "      <td>0.12503</td>\n",
       "      <td>...</td>\n",
       "      <td>0.000000</td>\n",
       "      <td>0.000000</td>\n",
       "      <td>0.000000</td>\n",
       "      <td>0.000000</td>\n",
       "      <td>0.000000</td>\n",
       "      <td>0.064056</td>\n",
       "      <td>0.000000</td>\n",
       "      <td>0.000000</td>\n",
       "      <td>0.000000</td>\n",
       "      <td>0.000000</td>\n",
       "    </tr>\n",
       "    <tr>\n",
       "      <th>Living Room Furniture</th>\n",
       "      <td>0.222157</td>\n",
       "      <td>0.00000</td>\n",
       "      <td>0.00000</td>\n",
       "      <td>0.00000</td>\n",
       "      <td>0.000000</td>\n",
       "      <td>0.222157</td>\n",
       "      <td>0.000000</td>\n",
       "      <td>0.000000</td>\n",
       "      <td>0.000000</td>\n",
       "      <td>0.00000</td>\n",
       "      <td>...</td>\n",
       "      <td>0.270918</td>\n",
       "      <td>0.270918</td>\n",
       "      <td>0.270918</td>\n",
       "      <td>0.222157</td>\n",
       "      <td>0.270918</td>\n",
       "      <td>0.138799</td>\n",
       "      <td>0.000000</td>\n",
       "      <td>0.000000</td>\n",
       "      <td>0.270918</td>\n",
       "      <td>0.000000</td>\n",
       "    </tr>\n",
       "    <tr>\n",
       "      <th>Accent Tables</th>\n",
       "      <td>0.000000</td>\n",
       "      <td>0.00000</td>\n",
       "      <td>0.00000</td>\n",
       "      <td>0.00000</td>\n",
       "      <td>0.000000</td>\n",
       "      <td>0.000000</td>\n",
       "      <td>0.000000</td>\n",
       "      <td>0.352788</td>\n",
       "      <td>0.352788</td>\n",
       "      <td>0.00000</td>\n",
       "      <td>...</td>\n",
       "      <td>0.000000</td>\n",
       "      <td>0.000000</td>\n",
       "      <td>0.000000</td>\n",
       "      <td>0.289292</td>\n",
       "      <td>0.000000</td>\n",
       "      <td>0.542229</td>\n",
       "      <td>0.000000</td>\n",
       "      <td>0.000000</td>\n",
       "      <td>0.000000</td>\n",
       "      <td>0.000000</td>\n",
       "    </tr>\n",
       "    <tr>\n",
       "      <th>End Tables</th>\n",
       "      <td>0.000000</td>\n",
       "      <td>0.00000</td>\n",
       "      <td>0.00000</td>\n",
       "      <td>0.00000</td>\n",
       "      <td>0.000000</td>\n",
       "      <td>0.000000</td>\n",
       "      <td>0.000000</td>\n",
       "      <td>0.000000</td>\n",
       "      <td>0.000000</td>\n",
       "      <td>0.00000</td>\n",
       "      <td>...</td>\n",
       "      <td>0.000000</td>\n",
       "      <td>0.000000</td>\n",
       "      <td>0.000000</td>\n",
       "      <td>0.000000</td>\n",
       "      <td>0.000000</td>\n",
       "      <td>0.000000</td>\n",
       "      <td>0.000000</td>\n",
       "      <td>0.000000</td>\n",
       "      <td>0.000000</td>\n",
       "      <td>0.000000</td>\n",
       "    </tr>\n",
       "    <tr>\n",
       "      <th>Entryway Furniture</th>\n",
       "      <td>0.000000</td>\n",
       "      <td>0.00000</td>\n",
       "      <td>0.00000</td>\n",
       "      <td>0.00000</td>\n",
       "      <td>0.293299</td>\n",
       "      <td>0.000000</td>\n",
       "      <td>0.293299</td>\n",
       "      <td>0.000000</td>\n",
       "      <td>0.000000</td>\n",
       "      <td>0.00000</td>\n",
       "      <td>...</td>\n",
       "      <td>0.000000</td>\n",
       "      <td>0.000000</td>\n",
       "      <td>0.000000</td>\n",
       "      <td>0.000000</td>\n",
       "      <td>0.000000</td>\n",
       "      <td>0.150265</td>\n",
       "      <td>0.293299</td>\n",
       "      <td>0.293299</td>\n",
       "      <td>0.000000</td>\n",
       "      <td>0.293299</td>\n",
       "    </tr>\n",
       "  </tbody>\n",
       "</table>\n",
       "<p>6 rows × 42 columns</p>\n",
       "</div>"
      ],
      "text/plain": [
       "                         accent  accessory     baby  bedroom     bench  \\\n",
       "accent table           0.848083    0.00000  0.00000  0.00000  0.000000   \n",
       "Furniture              0.000000    0.12503  0.12503  0.12503  0.000000   \n",
       "Living Room Furniture  0.222157    0.00000  0.00000  0.00000  0.000000   \n",
       "Accent Tables          0.000000    0.00000  0.00000  0.00000  0.000000   \n",
       "End Tables             0.000000    0.00000  0.00000  0.00000  0.000000   \n",
       "Entryway Furniture     0.000000    0.00000  0.00000  0.00000  0.293299   \n",
       "\n",
       "                          chair      coat    coffee   console   dining  ...  \\\n",
       "accent table           0.000000  0.000000  0.000000  0.000000  0.00000  ...   \n",
       "Furniture              0.102526  0.000000  0.000000  0.000000  0.12503  ...   \n",
       "Living Room Furniture  0.222157  0.000000  0.000000  0.000000  0.00000  ...   \n",
       "Accent Tables          0.000000  0.000000  0.352788  0.352788  0.00000  ...   \n",
       "End Tables             0.000000  0.000000  0.000000  0.000000  0.00000  ...   \n",
       "Entryway Furniture     0.000000  0.293299  0.000000  0.000000  0.00000  ...   \n",
       "\n",
       "                            set  slipcover      sofa     stand   storage  \\\n",
       "accent table           0.000000   0.000000  0.000000  0.000000  0.000000   \n",
       "Furniture              0.000000   0.000000  0.000000  0.000000  0.000000   \n",
       "Living Room Furniture  0.270918   0.270918  0.270918  0.222157  0.270918   \n",
       "Accent Tables          0.000000   0.000000  0.000000  0.289292  0.000000   \n",
       "End Tables             0.000000   0.000000  0.000000  0.000000  0.000000   \n",
       "Entryway Furniture     0.000000   0.000000  0.000000  0.000000  0.000000   \n",
       "\n",
       "                          table      tree     trunk        tv  umbrella  \n",
       "accent table           0.529863  0.000000  0.000000  0.000000  0.000000  \n",
       "Furniture              0.064056  0.000000  0.000000  0.000000  0.000000  \n",
       "Living Room Furniture  0.138799  0.000000  0.000000  0.270918  0.000000  \n",
       "Accent Tables          0.542229  0.000000  0.000000  0.000000  0.000000  \n",
       "End Tables             0.000000  0.000000  0.000000  0.000000  0.000000  \n",
       "Entryway Furniture     0.150265  0.293299  0.293299  0.000000  0.293299  \n",
       "\n",
       "[6 rows x 42 columns]"
      ]
     },
     "execution_count": 82,
     "metadata": {},
     "output_type": "execute_result"
    }
   ],
   "source": [
    "node_term = pd.DataFrame(matrix_cand.toarray(), index=[query] +list(candidate_docs.keys()), columns=vec_cand.get_feature_names())\n",
    "node_term"
   ]
  },
  {
   "cell_type": "code",
   "execution_count": 84,
   "metadata": {
    "ExecuteTime": {
     "end_time": "2019-07-22T18:42:31.826903Z",
     "start_time": "2019-07-22T18:42:31.812635Z"
    },
    "hidden": true
   },
   "outputs": [
    {
     "data": {
      "text/html": [
       "<div>\n",
       "<style scoped>\n",
       "    .dataframe tbody tr th:only-of-type {\n",
       "        vertical-align: middle;\n",
       "    }\n",
       "\n",
       "    .dataframe tbody tr th {\n",
       "        vertical-align: top;\n",
       "    }\n",
       "\n",
       "    .dataframe thead th {\n",
       "        text-align: right;\n",
       "    }\n",
       "</style>\n",
       "<table border=\"1\" class=\"dataframe\">\n",
       "  <thead>\n",
       "    <tr style=\"text-align: right;\">\n",
       "      <th></th>\n",
       "      <th>accent table</th>\n",
       "      <th>Furniture</th>\n",
       "      <th>Living Room Furniture</th>\n",
       "      <th>Accent Tables</th>\n",
       "      <th>End Tables</th>\n",
       "      <th>Entryway Furniture</th>\n",
       "    </tr>\n",
       "  </thead>\n",
       "  <tbody>\n",
       "    <tr>\n",
       "      <th>accent table</th>\n",
       "      <td>1.000000</td>\n",
       "      <td>0.033941</td>\n",
       "      <td>0.261952</td>\n",
       "      <td>0.287307</td>\n",
       "      <td>0.00000</td>\n",
       "      <td>0.079620</td>\n",
       "    </tr>\n",
       "    <tr>\n",
       "      <th>Furniture</th>\n",
       "      <td>0.033941</td>\n",
       "      <td>1.000000</td>\n",
       "      <td>0.099999</td>\n",
       "      <td>0.034733</td>\n",
       "      <td>0.00000</td>\n",
       "      <td>0.058943</td>\n",
       "    </tr>\n",
       "    <tr>\n",
       "      <th>Living Room Furniture</th>\n",
       "      <td>0.261952</td>\n",
       "      <td>0.099999</td>\n",
       "      <td>1.000000</td>\n",
       "      <td>0.139529</td>\n",
       "      <td>0.00000</td>\n",
       "      <td>0.020857</td>\n",
       "    </tr>\n",
       "    <tr>\n",
       "      <th>Accent Tables</th>\n",
       "      <td>0.287307</td>\n",
       "      <td>0.034733</td>\n",
       "      <td>0.139529</td>\n",
       "      <td>1.000000</td>\n",
       "      <td>0.00000</td>\n",
       "      <td>0.081478</td>\n",
       "    </tr>\n",
       "    <tr>\n",
       "      <th>End Tables</th>\n",
       "      <td>0.000000</td>\n",
       "      <td>0.000000</td>\n",
       "      <td>0.000000</td>\n",
       "      <td>0.000000</td>\n",
       "      <td>1.00000</td>\n",
       "      <td>0.240510</td>\n",
       "    </tr>\n",
       "    <tr>\n",
       "      <th>Entryway Furniture</th>\n",
       "      <td>0.079620</td>\n",
       "      <td>0.058943</td>\n",
       "      <td>0.020857</td>\n",
       "      <td>0.081478</td>\n",
       "      <td>0.24051</td>\n",
       "      <td>1.000000</td>\n",
       "    </tr>\n",
       "  </tbody>\n",
       "</table>\n",
       "</div>"
      ],
      "text/plain": [
       "                       accent table  Furniture  Living Room Furniture  \\\n",
       "accent table               1.000000   0.033941               0.261952   \n",
       "Furniture                  0.033941   1.000000               0.099999   \n",
       "Living Room Furniture      0.261952   0.099999               1.000000   \n",
       "Accent Tables              0.287307   0.034733               0.139529   \n",
       "End Tables                 0.000000   0.000000               0.000000   \n",
       "Entryway Furniture         0.079620   0.058943               0.020857   \n",
       "\n",
       "                       Accent Tables  End Tables  Entryway Furniture  \n",
       "accent table                0.287307     0.00000            0.079620  \n",
       "Furniture                   0.034733     0.00000            0.058943  \n",
       "Living Room Furniture       0.139529     0.00000            0.020857  \n",
       "Accent Tables               1.000000     0.00000            0.081478  \n",
       "End Tables                  0.000000     1.00000            0.240510  \n",
       "Entryway Furniture          0.081478     0.24051            1.000000  "
      ]
     },
     "execution_count": 84,
     "metadata": {},
     "output_type": "execute_result"
    }
   ],
   "source": [
    "#Get similiarity matrix\n",
    "query_node_sim_matrix = cosine_similarity(matrix_cand,matrix_cand)\n",
    "\n",
    "query_node_sim_df = pd.DataFrame(query_node_sim_matrix, index=node_term.index, columns=node_term.index)\n",
    "query_node_sim_df"
   ]
  },
  {
   "cell_type": "code",
   "execution_count": 100,
   "metadata": {
    "ExecuteTime": {
     "end_time": "2019-07-22T18:46:18.416796Z",
     "start_time": "2019-07-22T18:46:18.409743Z"
    },
    "hidden": true
   },
   "outputs": [
    {
     "data": {
      "text/plain": [
       "accent table             1.000000\n",
       "Accent Tables            0.287307\n",
       "Living Room Furniture    0.261952\n",
       "Entryway Furniture       0.079620\n",
       "Furniture                0.033941\n",
       "End Tables               0.000000\n",
       "Name: accent table, dtype: float64"
      ]
     },
     "execution_count": 100,
     "metadata": {},
     "output_type": "execute_result"
    }
   ],
   "source": [
    "query_node_sim_df.loc[:,query].sort_values(ascending=False)"
   ]
  },
  {
   "cell_type": "code",
   "execution_count": 101,
   "metadata": {
    "ExecuteTime": {
     "end_time": "2019-07-22T18:49:16.720399Z",
     "start_time": "2019-07-22T18:49:16.712541Z"
    },
    "hidden": true
   },
   "outputs": [],
   "source": [
    "query_node_sim_df.loc[:,query].sort_values(ascending=False).index[1]\n",
    "\n",
    "def predict_node():\n",
    "    node_pred = query_node_sim_df.loc[:,query].sort_values(ascending=False).index[1]\n",
    "    return node_pred\n",
    "    \n",
    "def get_recommendations(node_pred):\n",
    "    \n",
    "    display_pred = []\n",
    "    \n",
    "    #get node id\n",
    "    node_id = h.node2id[node_pred]\n",
    "    \n",
    "    #get children ids\n",
    "    children_ids = h.prod_map[node_id]\n",
    "    \n",
    "    #get children names\n",
    "    for child_id in children_ids:\n",
    "        child_name = h.id2node[child_id]\n",
    "        \n",
    "        display_pred.append(child_name)\n",
    "    return display_pred"
   ]
  },
  {
   "cell_type": "code",
   "execution_count": 115,
   "metadata": {
    "ExecuteTime": {
     "end_time": "2019-07-22T19:21:16.591765Z",
     "start_time": "2019-07-22T19:21:16.586278Z"
    },
    "hidden": true
   },
   "outputs": [
    {
     "name": "stdout",
     "output_type": "stream",
     "text": [
      "Search Term:accent table\n",
      "Predicted Category: Accent Tables\n",
      "Recommended Display Names: ['End Tables', 'Indoor Plant Stands', 'Console Tables', 'Coffee Tables']\n"
     ]
    }
   ],
   "source": [
    "node_pred = predict_node()\n",
    "\n",
    "recs = get_recommendations(node_pred)\n",
    "\n",
    "print(f'Search Term:{query}')\n",
    "print(f'Predicted Category: {node_pred}')\n",
    "print(f'Recommended Display Names: {recommendations}')"
   ]
  },
  {
   "cell_type": "markdown",
   "metadata": {},
   "source": [
    "# Run Rec Engine"
   ]
  },
  {
   "cell_type": "code",
   "execution_count": 125,
   "metadata": {
    "ExecuteTime": {
     "end_time": "2019-07-22T19:33:21.010295Z",
     "start_time": "2019-07-22T19:33:21.002485Z"
    }
   },
   "outputs": [],
   "source": [
    "def get_recommendation(query, verbose=False):\n",
    "    candidates = term_cat_dict[query]\n",
    "    \n",
    "    candidate_docs =  flatten_nodes()\n",
    "    \n",
    "    t = TextPreprocessor()\n",
    "\n",
    "    # Use preprocessor on searches\n",
    "    node_docs = t.clean_docs([query] + list(candidate_docs.values()))\n",
    "\n",
    "    #vectorize\n",
    "    vec_cand, matrix_cand = t.vectorize(node_docs)\n",
    "    \n",
    "    #Convert to Dataframe\n",
    "    node_term = pd.DataFrame(matrix_cand.toarray(), index=[query] +list(candidate_docs.keys()), columns=vec_cand.get_feature_names())\n",
    "    \n",
    "    #Get similiarity matrix\n",
    "    query_node_sim_matrix = cosine_similarity(matrix_cand,matrix_cand)\n",
    "\n",
    "    query_node_sim_df = pd.DataFrame(query_node_sim_matrix, index=node_term.index, columns=node_term.index)\n",
    "\n",
    "    #Get prediction\n",
    "    node_pred = predict_node()\n",
    "\n",
    "    recs = get_recommendations(node_pred)\n",
    "    \n",
    "    if verbose:\n",
    "        print(f'Search Term:{query}')\n",
    "        print(f'Predicted Category: {node_pred}')\n",
    "        print(f'Recommended Display Names: {recommendations}')\n",
    "        \n",
    "    return recs"
   ]
  },
  {
   "cell_type": "markdown",
   "metadata": {},
   "source": [
    "# Evaluator "
   ]
  },
  {
   "cell_type": "code",
   "execution_count": 211,
   "metadata": {
    "ExecuteTime": {
     "end_time": "2019-07-22T23:01:24.085459Z",
     "start_time": "2019-07-22T23:01:24.076043Z"
    }
   },
   "outputs": [],
   "source": [
    "class Evaluator:\n",
    "\n",
    "    def __init__(self, eval_data_file=None, metric=None):\n",
    "        self.eval_data_file = eval_data_file\n",
    "        self.metric=metric\n",
    "        self.run()\n",
    "\n",
    "    def load_data(self, data_folder='raw', data_type='csv'):\n",
    "        if data_type == 'csv':\n",
    "            df = pd.read_csv('../data/{}/{}'.format(data_folder, self.eval_data_file))\n",
    "        self.eval_data = df\n",
    "\n",
    "    def get_xy(self):\n",
    "        self.eval_target = self.eval_data.groupby('Search_term')['Display_name'].apply(list)\n",
    "        self.eval_terms = self.eval_target.index.tolist()\n",
    "        \n",
    "    def jaccard_sim(self, query, recs_pred):\n",
    "        \n",
    "        recs_act = self.eval_target.loc[query]\n",
    "        \n",
    "        intersect = len(list(set(recs_pred) & set(recs_act)))\n",
    "        union = len(recs_pred) + len(recs_act) - intersect\n",
    "        \n",
    "        score = intersect/union\n",
    "        \n",
    "        return score\n",
    "    \n",
    "            \n",
    "    def run(self):\n",
    "        self.load_data()\n",
    "        self.get_xy()"
   ]
  },
  {
   "cell_type": "code",
   "execution_count": 212,
   "metadata": {
    "ExecuteTime": {
     "end_time": "2019-07-22T23:01:24.750307Z",
     "start_time": "2019-07-22T23:01:24.709763Z"
    }
   },
   "outputs": [],
   "source": [
    "e=Evaluator('Visual_navigations.csv')"
   ]
  },
  {
   "cell_type": "code",
   "execution_count": 213,
   "metadata": {
    "ExecuteTime": {
     "end_time": "2019-07-22T23:01:25.655354Z",
     "start_time": "2019-07-22T23:01:25.649755Z"
    }
   },
   "outputs": [],
   "source": [
    "def mean_hit_rate():\n",
    "    scores = 0\n",
    "\n",
    "    for term in e.eval_terms:\n",
    "\n",
    "        recs_pred =  get_recommendation(term)\n",
    "\n",
    "        score = e.jaccard_sim(term, recs_pred)\n",
    "\n",
    "        scores += score\n",
    "        \n",
    "    return scores/len(e.eval_terms)"
   ]
  },
  {
   "cell_type": "code",
   "execution_count": 214,
   "metadata": {
    "ExecuteTime": {
     "end_time": "2019-07-22T23:01:28.008973Z",
     "start_time": "2019-07-22T23:01:26.750596Z"
    }
   },
   "outputs": [
    {
     "data": {
      "text/plain": [
       "0.016070307595731324"
      ]
     },
     "execution_count": 214,
     "metadata": {},
     "output_type": "execute_result"
    }
   ],
   "source": [
    "mean_hit_rate()"
   ]
  },
  {
   "cell_type": "markdown",
   "metadata": {
    "heading_collapsed": true
   },
   "source": [
    "# Archive"
   ]
  },
  {
   "cell_type": "code",
   "execution_count": null,
   "metadata": {
    "hidden": true
   },
   "outputs": [],
   "source": []
  },
  {
   "cell_type": "code",
   "execution_count": 194,
   "metadata": {
    "ExecuteTime": {
     "end_time": "2019-07-21T08:19:13.027974Z",
     "start_time": "2019-07-21T08:19:13.023043Z"
    },
    "hidden": true
   },
   "outputs": [],
   "source": [
    "documents = names_trigram"
   ]
  },
  {
   "cell_type": "code",
   "execution_count": 195,
   "metadata": {
    "ExecuteTime": {
     "end_time": "2019-07-21T08:19:41.105309Z",
     "start_time": "2019-07-21T08:19:15.798511Z"
    },
    "hidden": true
   },
   "outputs": [
    {
     "data": {
      "text/plain": [
       "(15653917, 21696040)"
      ]
     },
     "execution_count": 195,
     "metadata": {},
     "output_type": "execute_result"
    }
   ],
   "source": [
    "# Word2Vec\n",
    "model = gensim.models.Word2Vec(documents, size=150, window=10, min_count=5, workers=10)\n",
    "model.train(documents,total_examples=len(documents),epochs=10)"
   ]
  },
  {
   "cell_type": "code",
   "execution_count": 201,
   "metadata": {
    "ExecuteTime": {
     "end_time": "2019-07-21T08:20:46.466224Z",
     "start_time": "2019-07-21T08:20:46.450217Z"
    },
    "hidden": true
   },
   "outputs": [
    {
     "name": "stderr",
     "output_type": "stream",
     "text": [
      "/Users/Jaime/miniconda3/envs/thddecor/lib/python3.7/site-packages/ipykernel_launcher.py:1: DeprecationWarning: Call to deprecated `most_similar` (Method will be removed in 4.0.0, use self.wv.most_similar() instead).\n",
      "  \"\"\"Entry point for launching an IPython kernel.\n"
     ]
    },
    {
     "data": {
      "text/plain": [
       "[('beautiful', 0.32953429222106934),\n",
       " ('rainy_day', 0.3221852481365204),\n",
       " ('inevitable', 0.32087400555610657),\n",
       " ('map_michael', 0.3176816701889038),\n",
       " ('outer_size', 0.2966635525226593),\n",
       " ('ten', 0.29357579350471497),\n",
       " ('freeform', 0.2808625400066376),\n",
       " ('painting', 0.2807919383049011),\n",
       " ('windmill', 0.2773647904396057),\n",
       " ('repeat', 0.27722445130348206)]"
      ]
     },
     "execution_count": 201,
     "metadata": {},
     "output_type": "execute_result"
    }
   ],
   "source": [
    "model.most_similar('wall')"
   ]
  },
  {
   "cell_type": "code",
   "execution_count": 12,
   "metadata": {
    "ExecuteTime": {
     "end_time": "2019-07-20T23:10:02.189019Z",
     "start_time": "2019-07-20T23:10:02.185618Z"
    },
    "hidden": true
   },
   "outputs": [],
   "source": [
    "# get index and col labels\n",
    "cat_labels = prod_cat_df.columns.to_list()"
   ]
  },
  {
   "cell_type": "code",
   "execution_count": 16,
   "metadata": {
    "ExecuteTime": {
     "end_time": "2019-07-20T22:27:11.760792Z",
     "start_time": "2019-07-20T22:27:11.755556Z"
    },
    "hidden": true
   },
   "outputs": [],
   "source": [
    "# Similarity Matrix of Products\n",
    " \n",
    "def get_prod_similarity(prod1, prod2, categories):\n",
    "    cat1 = categories[prod1]\n",
    "    cat2 = categories[prod2]\n",
    "    \n",
    "    sum_xy, sum_xx, sum_yy = 0, 0, 0\n",
    "    \n",
    "    for i in range(len(cat1)):\n",
    "        x = cat1[i]\n",
    "        y = cat2[i]\n",
    "        \n",
    "        sum_xx += x * y\n",
    "        sum_yy += y * y\n",
    "        sum_xy += x * y\n",
    "        \n",
    "    return sum_xy/math.sqrt(sum_xx*sum_yy)"
   ]
  },
  {
   "cell_type": "code",
   "execution_count": 24,
   "metadata": {
    "ExecuteTime": {
     "end_time": "2019-07-20T22:34:55.765998Z",
     "start_time": "2019-07-20T22:34:55.561085Z"
    },
    "hidden": true
   },
   "outputs": [],
   "source": [
    "# create empty df\n",
    "prod_similarity_matrix = pd.DataFrame(index=cat_labels, columns=cat_labels)"
   ]
  },
  {
   "cell_type": "code",
   "execution_count": null,
   "metadata": {
    "hidden": true
   },
   "outputs": [],
   "source": []
  },
  {
   "cell_type": "code",
   "execution_count": null,
   "metadata": {
    "hidden": true
   },
   "outputs": [],
   "source": []
  },
  {
   "cell_type": "code",
   "execution_count": 26,
   "metadata": {
    "ExecuteTime": {
     "end_time": "2019-07-20T22:45:21.917206Z",
     "start_time": "2019-07-20T22:45:21.899774Z"
    },
    "hidden": true
   },
   "outputs": [],
   "source": [
    "class Recommender: \n",
    "    def __init__(self, data, prod_col, search_terms, products, cf_method='item', similarity='pearson'):\n",
    "        self.data = data\n",
    "        self.search_terms = search_terms\n",
    "        self.products = products\n",
    "        self.cf_method = cf_method\n",
    "        self.similarity = similarity\n",
    "        self.similarity_matrix = []\n",
    "        self.term_prod_scores = []\n",
    "        self.recs = []\n",
    "        \n",
    "    def create_similarity_matrix(self):\n",
    "        '''Create correlation/similarity matrix for all items and stores result as self.similarity_matrix'''\n",
    "        \n",
    "        self.similarity_matrix = self._create_empty_df(self.cf_method)\n",
    "        self._fill_similarity_matrix(self.similarity_matrix, self.similarity)\n",
    "        \n",
    "    def _create_empty_df(self, cf_type):\n",
    "        '''creates and returns empty df with items as rows and columns'''\n",
    "        if cf_type == 'item':\n",
    "            labels = self.item_cols\n",
    "        elif cf_type == 'user':\n",
    "            labels = self.data[user_col]\n",
    "        else:\n",
    "            raise ValueError('Invalid collaborative filtering technique.  Please specify \"item\" or \"user\".')\n",
    "        return pd.DataFrame(index=labels, columns=labels)\n",
    "    \n",
    "    def _fill_similarity_matrix(self, similarity_matrix, similarity):\n",
    "        '''calculates correlation between items using specified similarity and saves results in similarity_matrix\n",
    "           valid similarity types: jaccard, pearson, cosine'''\n",
    "        k=0\n",
    "        item_df = self.data[self.item_cols] \n",
    "        #print(item_df)\n",
    "        progress_bar = tqdm(total = similarity_matrix.shape[0], mininterval=5)\n",
    "        for i in range(similarity_matrix.shape[0]):\n",
    "            progress_bar.update()\n",
    "            similarity_matrix.ix[i,i] = 1.0\n",
    "            x = item_df.ix[:,i]\n",
    "            for j in range(i,similarity_matrix.shape[1]):\n",
    "                y = item_df.ix[:,j]\n",
    "                similarity_matrix.ix[i,j] = self._get_similarity(x, y, similarity)\n",
    "                similarity_matrix.ix[j,i] = similarity_matrix.ix[i, j]\n",
    "                \n",
    "    def _get_similarity(self, x, y, similarity):\n",
    "        '''calculated specified correlation between two vectors and returns result'''\n",
    "        if similarity == 'pearson':\n",
    "            return self._pearson_similarity(x, y)\n",
    "        elif similarity == 'jaccard':\n",
    "            return self._jaccard_similarity(x, y)\n",
    "        elif similarity == 'cosine':\n",
    "            return self._cosine_similarity(x, y)\n",
    "        else:\n",
    "            raise ValueError('Invalid similarity type.  Please specify \"cosine\", \"pearson\", or \"jaccard\".')\n",
    "        \n",
    "    def _pearson_similarity(self, x, y):\n",
    "        '''returns pearson correlation between x and y: covariance(x,y)/(std_dev(x)*std_dev(y))'''\n",
    "        #effective if data can be transformed to normal distribution \n",
    "        pass\n",
    "\n",
    "    def _jaccard_similarity(self, x, y):\n",
    "        '''returns jaccard correlation between x and y: |intsection(x,y)|/|union(x,y)|'''\n",
    "        #ideal for binary data, e.g. buy vs non-buy\n",
    "        nonzero_x = set(np.nonzero(x)[0])\n",
    "        nonzero_y = set(np.nonzero(y)[0])\n",
    "        intersection_size = len(nonzero_x.intersection(nonzero_y))\n",
    "        union_size = len(nonzero_x.union(nonzero_y))\n",
    "        if union_size == 0:\n",
    "            return 0\n",
    "        else:\n",
    "            return intersection_size/union_size\n",
    "\n",
    "    def _cosine_similarity(self, x, y):\n",
    "        '''returns cosine of angles between x and y'''\n",
    "        pass\n",
    "    "
   ]
  },
  {
   "cell_type": "code",
   "execution_count": 1,
   "metadata": {
    "ExecuteTime": {
     "end_time": "2019-07-20T23:08:19.760724Z",
     "start_time": "2019-07-20T23:08:19.687413Z"
    },
    "hidden": true
   },
   "outputs": [
    {
     "ename": "NameError",
     "evalue": "name 'cosine_similarity' is not defined",
     "output_type": "error",
     "traceback": [
      "\u001b[0;31m---------------------------------------------------------------------------\u001b[0m",
      "\u001b[0;31mNameError\u001b[0m                                 Traceback (most recent call last)",
      "\u001b[0;32m<ipython-input-1-c9e7330f8ac1>\u001b[0m in \u001b[0;36m<module>\u001b[0;34m\u001b[0m\n\u001b[1;32m      1\u001b[0m \u001b[0;31m# Get Prod Similarity\u001b[0m\u001b[0;34m\u001b[0m\u001b[0;34m\u001b[0m\u001b[0;34m\u001b[0m\u001b[0m\n\u001b[0;32m----> 2\u001b[0;31m \u001b[0mprod_sim_matrix\u001b[0m \u001b[0;34m=\u001b[0m \u001b[0mcosine_similarity\u001b[0m\u001b[0;34m(\u001b[0m\u001b[0mprod_cat\u001b[0m\u001b[0;34m,\u001b[0m\u001b[0mprod_cat\u001b[0m\u001b[0;34m)\u001b[0m\u001b[0;34m\u001b[0m\u001b[0;34m\u001b[0m\u001b[0m\n\u001b[0m",
      "\u001b[0;31mNameError\u001b[0m: name 'cosine_similarity' is not defined"
     ]
    }
   ],
   "source": []
  },
  {
   "cell_type": "code",
   "execution_count": null,
   "metadata": {
    "hidden": true
   },
   "outputs": [],
   "source": []
  },
  {
   "cell_type": "code",
   "execution_count": null,
   "metadata": {
    "hidden": true
   },
   "outputs": [],
   "source": [
    "rec_engine.create_similarity_matrix()\n"
   ]
  },
  {
   "cell_type": "code",
   "execution_count": null,
   "metadata": {
    "hidden": true
   },
   "outputs": [],
   "source": []
  }
 ],
 "metadata": {
  "hide_input": false,
  "kernelspec": {
   "display_name": "Python [conda env:thddecor]",
   "language": "python",
   "name": "conda-env-thddecor-py"
  },
  "language_info": {
   "codemirror_mode": {
    "name": "ipython",
    "version": 3
   },
   "file_extension": ".py",
   "mimetype": "text/x-python",
   "name": "python",
   "nbconvert_exporter": "python",
   "pygments_lexer": "ipython3",
   "version": "3.7.3"
  },
  "toc": {
   "base_numbering": 1,
   "nav_menu": {},
   "number_sections": true,
   "sideBar": true,
   "skip_h1_title": false,
   "title_cell": "Table of Contents",
   "title_sidebar": "Contents",
   "toc_cell": false,
   "toc_position": {},
   "toc_section_display": true,
   "toc_window_display": false
  }
 },
 "nbformat": 4,
 "nbformat_minor": 2
}
