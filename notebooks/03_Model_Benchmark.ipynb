{
 "cells": [
  {
   "cell_type": "markdown",
   "metadata": {
    "heading_collapsed": true
   },
   "source": [
    "# The Home Depot Decor Case\n",
    "\n",
    "Getting Started  | Data Exploration  |  Preprocessing  |  **Benchmark Model** "
   ]
  },
  {
   "cell_type": "code",
   "execution_count": 1,
   "metadata": {
    "ExecuteTime": {
     "end_time": "2019-07-25T06:51:17.189468Z",
     "start_time": "2019-07-25T06:51:17.186156Z"
    },
    "hidden": true
   },
   "outputs": [],
   "source": [
    "__author__ = 'Jaime Garvey'\n",
    "__email__ = 'jaimemgarvey@gmail.com'"
   ]
  },
  {
   "cell_type": "code",
   "execution_count": 1,
   "metadata": {
    "ExecuteTime": {
     "end_time": "2019-07-23T22:11:58.556991Z",
     "start_time": "2019-07-23T22:11:54.979648Z"
    },
    "hidden": true
   },
   "outputs": [],
   "source": [
    "import pandas as pd\n",
    "import numpy as np\n",
    "import matplotlib.pyplot as plt\n",
    "import math\n",
    "\n",
    "import gensim\n",
    "from gensim.corpora.dictionary import Dictionary\n",
    "from gensim.models import KeyedVectors as kv\n",
    "\n",
    "from nltk.corpus import stopwords\n",
    "from sklearn import preprocessing\n",
    "from sklearn.feature_extraction.text import TfidfVectorizer, CountVectorizer\n",
    "from sklearn.metrics.pairwise import cosine_similarity\n",
    "\n",
    "from collections import Counter\n",
    "\n",
    "# other imports\n",
    "%matplotlib inline"
   ]
  },
  {
   "cell_type": "code",
   "execution_count": 9,
   "metadata": {
    "ExecuteTime": {
     "end_time": "2019-07-23T22:13:32.121854Z",
     "start_time": "2019-07-23T22:13:32.068597Z"
    },
    "hidden": true
   },
   "outputs": [],
   "source": [
    "import sys\n",
    "import inspect\n",
    "sys.path.insert(0, '../modules')\n",
    "\n",
    "\n",
    "# now read in new functions\n",
    "from helpers import read_in_dataset, get_num_of_levels, flatten_categories, search_cons_status\n",
    "from hierarchy import Hierarchy\n",
    "from textpreprocessor import TextPreprocessor"
   ]
  },
  {
   "cell_type": "markdown",
   "metadata": {
    "hidden": true
   },
   "source": [
    "**Read in Data**"
   ]
  },
  {
   "cell_type": "code",
   "execution_count": 32,
   "metadata": {
    "ExecuteTime": {
     "end_time": "2019-07-23T03:57:50.169748Z",
     "start_time": "2019-07-23T03:57:50.166559Z"
    },
    "hidden": true
   },
   "outputs": [],
   "source": [
    "# Read in product related data\n",
    "#verbose_opt = False\n",
    "#catalog = read_in_dataset('Decor_catalog.csv', verbose=verbose_opt)\n",
    "#prod_desc = read_in_dataset('Product_name_description.csv', verbose=verbose_opt)\n",
    "#prod_engagement = read_in_dataset('Product_engagement.csv', verbose=verbose_opt)\n",
    "\n",
    "# Read in search related data\n",
    "#navigations = read_in_dataset('Visual_navigations.csv', verbose=verbose_opt)\n",
    "#search_imp = read_in_dataset('Search_impression.csv', verbose=verbose_opt)"
   ]
  },
  {
   "cell_type": "markdown",
   "metadata": {
    "heading_collapsed": true
   },
   "source": [
    "# Overview\n",
    "\n",
    "For our benchmark model, we will be exploring a collaborative filtering approach outlined below. \n",
    "\n",
    "---------- Data ---------------\n",
    "1. Get Product Hierarchy Dictionary\n",
    "2. Preprocess Search Terms\n",
    "3. Consolidate Search Terms\n",
    "\n",
    "\n",
    "---------- Recommender ------------ \n",
    "\n",
    "_Query Understanding_\n",
    "4. Search similarity Matrix\n",
    "  - Get Search Product Matrix\n",
    "  - Compute Cosine Similarity\n",
    "  \n",
    "5. Match Search Term\n",
    "  - Get Top Recommendation\n",
    "  \n",
    "_Query Classification_\n",
    "6. Get Search-Cat Map\n",
    "7. Get Top N Nodes\n",
    "8. Classify Node\n",
    "9. Make Recommendations\n"
   ]
  },
  {
   "cell_type": "markdown",
   "metadata": {
    "ExecuteTime": {
     "end_time": "2019-07-19T18:30:33.125314Z",
     "start_time": "2019-07-19T18:30:33.121633Z"
    },
    "heading_collapsed": true
   },
   "source": [
    "# Build Product Taxonomy (Hierarchy)"
   ]
  },
  {
   "cell_type": "code",
   "execution_count": 3,
   "metadata": {
    "ExecuteTime": {
     "end_time": "2019-07-23T22:12:00.800645Z",
     "start_time": "2019-07-23T22:12:00.584422Z"
    },
    "hidden": true
   },
   "outputs": [],
   "source": [
    "#read in data\n",
    "catalog = read_in_dataset('Decor_catalog.csv', verbose=False)"
   ]
  },
  {
   "cell_type": "code",
   "execution_count": 96,
   "metadata": {
    "ExecuteTime": {
     "end_time": "2019-07-23T22:07:02.248467Z",
     "start_time": "2019-07-23T22:06:56.862031Z"
    },
    "hidden": true
   },
   "outputs": [],
   "source": [
    "# Get Product Taxonomy \n",
    "h = Hierarchy(data=catalog, num_levels=6)"
   ]
  },
  {
   "cell_type": "markdown",
   "metadata": {
    "heading_collapsed": true
   },
   "source": [
    "# Preprocess & Consolidate Search Terms"
   ]
  },
  {
   "cell_type": "code",
   "execution_count": 10,
   "metadata": {
    "ExecuteTime": {
     "end_time": "2019-07-23T22:13:34.896671Z",
     "start_time": "2019-07-23T22:13:34.885942Z"
    },
    "hidden": true
   },
   "outputs": [],
   "source": [
    "# Read in Data \n",
    "search_imp = read_in_dataset('Search_impression.csv', verbose=False)"
   ]
  },
  {
   "cell_type": "code",
   "execution_count": 12,
   "metadata": {
    "ExecuteTime": {
     "end_time": "2019-07-23T22:13:46.649684Z",
     "start_time": "2019-07-23T22:13:46.597038Z"
    },
    "hidden": true
   },
   "outputs": [],
   "source": [
    "# Search\n",
    "search_corpus = search_imp['Search_term'].values\n",
    "\n",
    "\n",
    "tp = TextPreprocessor()\n",
    "\n",
    "# Use preprocessor on searches\n",
    "search_docs = tp.clean_text(search_imp, 'Search_term', method='stemmer')\n",
    "\n",
    "#Consolidate Search after Preprocessing\n",
    "consolidated_search = tp.compare_clean_searches(search_docs, search_imp)\n",
    "\n",
    "#searches_trigram = tp.trigram_model(search_docs, verbose=False)\n",
    "#searches_vec, searches_matrix = tp.vectorize(search_docs, format='docs')"
   ]
  },
  {
   "cell_type": "code",
   "execution_count": 37,
   "metadata": {
    "ExecuteTime": {
     "end_time": "2019-07-23T03:58:19.251215Z",
     "start_time": "2019-07-23T03:58:19.245117Z"
    },
    "hidden": true
   },
   "outputs": [],
   "source": [
    "#get search tokens\n",
    "search_docs_series = pd.Series(search_docs)\n",
    "\n",
    "search_tokens = search_docs_series.str.split().tolist()"
   ]
  },
  {
   "cell_type": "markdown",
   "metadata": {
    "heading_collapsed": true
   },
   "source": [
    "# Query Understanding"
   ]
  },
  {
   "cell_type": "code",
   "execution_count": 38,
   "metadata": {
    "ExecuteTime": {
     "end_time": "2019-07-23T03:58:19.470075Z",
     "start_time": "2019-07-23T03:58:19.256184Z"
    },
    "hidden": true
   },
   "outputs": [],
   "source": [
    "catalog = read_in_dataset('Decor_catalog.csv', verbose=False)"
   ]
  },
  {
   "cell_type": "code",
   "execution_count": 39,
   "metadata": {
    "ExecuteTime": {
     "end_time": "2019-07-23T03:58:19.530170Z",
     "start_time": "2019-07-23T03:58:19.473499Z"
    },
    "hidden": true
   },
   "outputs": [
    {
     "data": {
      "text/html": [
       "<div>\n",
       "<style scoped>\n",
       "    .dataframe tbody tr th:only-of-type {\n",
       "        vertical-align: middle;\n",
       "    }\n",
       "\n",
       "    .dataframe tbody tr th {\n",
       "        vertical-align: top;\n",
       "    }\n",
       "\n",
       "    .dataframe thead th {\n",
       "        text-align: right;\n",
       "    }\n",
       "</style>\n",
       "<table border=\"1\" class=\"dataframe\">\n",
       "  <thead>\n",
       "    <tr style=\"text-align: right;\">\n",
       "      <th></th>\n",
       "      <th>100012014</th>\n",
       "      <th>100022800</th>\n",
       "      <th>100023109</th>\n",
       "      <th>100023973</th>\n",
       "      <th>100036137</th>\n",
       "      <th>100044505</th>\n",
       "      <th>100048075</th>\n",
       "      <th>100051570</th>\n",
       "      <th>100061089</th>\n",
       "      <th>100074869</th>\n",
       "      <th>...</th>\n",
       "      <th>307717049</th>\n",
       "      <th>307717219</th>\n",
       "      <th>307717221</th>\n",
       "      <th>307727052</th>\n",
       "      <th>307833295</th>\n",
       "      <th>307920434</th>\n",
       "      <th>307939445</th>\n",
       "      <th>307939707</th>\n",
       "      <th>307940057</th>\n",
       "      <th>307940314</th>\n",
       "    </tr>\n",
       "  </thead>\n",
       "  <tbody>\n",
       "    <tr>\n",
       "      <th>coffee</th>\n",
       "      <td>0</td>\n",
       "      <td>0</td>\n",
       "      <td>0</td>\n",
       "      <td>0</td>\n",
       "      <td>0</td>\n",
       "      <td>0</td>\n",
       "      <td>0</td>\n",
       "      <td>0</td>\n",
       "      <td>0</td>\n",
       "      <td>0</td>\n",
       "      <td>...</td>\n",
       "      <td>0</td>\n",
       "      <td>0</td>\n",
       "      <td>0</td>\n",
       "      <td>0</td>\n",
       "      <td>0</td>\n",
       "      <td>0</td>\n",
       "      <td>0</td>\n",
       "      <td>0</td>\n",
       "      <td>0</td>\n",
       "      <td>0</td>\n",
       "    </tr>\n",
       "    <tr>\n",
       "      <th>bag chair</th>\n",
       "      <td>0</td>\n",
       "      <td>0</td>\n",
       "      <td>0</td>\n",
       "      <td>0</td>\n",
       "      <td>0</td>\n",
       "      <td>0</td>\n",
       "      <td>0</td>\n",
       "      <td>0</td>\n",
       "      <td>0</td>\n",
       "      <td>0</td>\n",
       "      <td>...</td>\n",
       "      <td>0</td>\n",
       "      <td>0</td>\n",
       "      <td>0</td>\n",
       "      <td>0</td>\n",
       "      <td>0</td>\n",
       "      <td>0</td>\n",
       "      <td>0</td>\n",
       "      <td>0</td>\n",
       "      <td>0</td>\n",
       "      <td>0</td>\n",
       "    </tr>\n",
       "    <tr>\n",
       "      <th>kitchen wall tile</th>\n",
       "      <td>0</td>\n",
       "      <td>0</td>\n",
       "      <td>0</td>\n",
       "      <td>0</td>\n",
       "      <td>0</td>\n",
       "      <td>0</td>\n",
       "      <td>0</td>\n",
       "      <td>0</td>\n",
       "      <td>0</td>\n",
       "      <td>0</td>\n",
       "      <td>...</td>\n",
       "      <td>0</td>\n",
       "      <td>0</td>\n",
       "      <td>0</td>\n",
       "      <td>0</td>\n",
       "      <td>0</td>\n",
       "      <td>0</td>\n",
       "      <td>0</td>\n",
       "      <td>0</td>\n",
       "      <td>0</td>\n",
       "      <td>0</td>\n",
       "    </tr>\n",
       "    <tr>\n",
       "      <th>mirror tile</th>\n",
       "      <td>0</td>\n",
       "      <td>0</td>\n",
       "      <td>0</td>\n",
       "      <td>0</td>\n",
       "      <td>0</td>\n",
       "      <td>0</td>\n",
       "      <td>0</td>\n",
       "      <td>0</td>\n",
       "      <td>0</td>\n",
       "      <td>0</td>\n",
       "      <td>...</td>\n",
       "      <td>0</td>\n",
       "      <td>0</td>\n",
       "      <td>0</td>\n",
       "      <td>0</td>\n",
       "      <td>0</td>\n",
       "      <td>0</td>\n",
       "      <td>0</td>\n",
       "      <td>0</td>\n",
       "      <td>0</td>\n",
       "      <td>0</td>\n",
       "    </tr>\n",
       "    <tr>\n",
       "      <th>entryway</th>\n",
       "      <td>0</td>\n",
       "      <td>0</td>\n",
       "      <td>0</td>\n",
       "      <td>0</td>\n",
       "      <td>0</td>\n",
       "      <td>0</td>\n",
       "      <td>0</td>\n",
       "      <td>0</td>\n",
       "      <td>0</td>\n",
       "      <td>0</td>\n",
       "      <td>...</td>\n",
       "      <td>0</td>\n",
       "      <td>0</td>\n",
       "      <td>0</td>\n",
       "      <td>0</td>\n",
       "      <td>0</td>\n",
       "      <td>0</td>\n",
       "      <td>0</td>\n",
       "      <td>0</td>\n",
       "      <td>0</td>\n",
       "      <td>0</td>\n",
       "    </tr>\n",
       "  </tbody>\n",
       "</table>\n",
       "<p>5 rows × 4764 columns</p>\n",
       "</div>"
      ],
      "text/plain": [
       "                   100012014  100022800  100023109  100023973  100036137  \\\n",
       "coffee                     0          0          0          0          0   \n",
       "bag chair                  0          0          0          0          0   \n",
       "kitchen wall tile          0          0          0          0          0   \n",
       "mirror tile                0          0          0          0          0   \n",
       "entryway                   0          0          0          0          0   \n",
       "\n",
       "                   100044505  100048075  100051570  100061089  100074869  ...  \\\n",
       "coffee                     0          0          0          0          0  ...   \n",
       "bag chair                  0          0          0          0          0  ...   \n",
       "kitchen wall tile          0          0          0          0          0  ...   \n",
       "mirror tile                0          0          0          0          0  ...   \n",
       "entryway                   0          0          0          0          0  ...   \n",
       "\n",
       "                   307717049  307717219  307717221  307727052  307833295  \\\n",
       "coffee                     0          0          0          0          0   \n",
       "bag chair                  0          0          0          0          0   \n",
       "kitchen wall tile          0          0          0          0          0   \n",
       "mirror tile                0          0          0          0          0   \n",
       "entryway                   0          0          0          0          0   \n",
       "\n",
       "                   307920434  307939445  307939707  307940057  307940314  \n",
       "coffee                     0          0          0          0          0  \n",
       "bag chair                  0          0          0          0          0  \n",
       "kitchen wall tile          0          0          0          0          0  \n",
       "mirror tile                0          0          0          0          0  \n",
       "entryway                   0          0          0          0          0  \n",
       "\n",
       "[5 rows x 4764 columns]"
      ]
     },
     "execution_count": 39,
     "metadata": {},
     "output_type": "execute_result"
    }
   ],
   "source": [
    "# get Search Term Similarity Matrix\n",
    "\n",
    "# Get impresions as document of sku ids\n",
    "search_imp['Impression'] = search_imp['Impression'].str.replace(';', ' ')\n",
    "\n",
    "# impressions array\n",
    "imp = search_imp['Impression'].values\n",
    "\n",
    "# Vectorize Data\n",
    "vec = CountVectorizer()\n",
    "\n",
    "#Fit Transform\n",
    "seach_prod = vec.fit_transform(imp)\n",
    "\n",
    "# Preview Sparse Matrix\n",
    "pd.DataFrame(seach_prod.toarray(), index=search_imp['Search_term'].values, columns=vec.get_feature_names()).head()"
   ]
  },
  {
   "cell_type": "code",
   "execution_count": 40,
   "metadata": {
    "ExecuteTime": {
     "end_time": "2019-07-23T03:58:19.544598Z",
     "start_time": "2019-07-23T03:58:19.534256Z"
    },
    "hidden": true
   },
   "outputs": [],
   "source": [
    "#Get Search Term Similarity Matrix\n",
    "search_similarity_matrix = cosine_similarity(seach_prod,seach_prod)\n",
    "\n",
    "#Dataframe\n",
    "index = search_imp['Search_term'].values\n",
    "search_similarity_matrix_df = pd.DataFrame(search_similarity_matrix, index=index, columns=index)"
   ]
  },
  {
   "cell_type": "code",
   "execution_count": 41,
   "metadata": {
    "ExecuteTime": {
     "end_time": "2019-07-23T03:58:19.557277Z",
     "start_time": "2019-07-23T03:58:19.548527Z"
    },
    "hidden": true
   },
   "outputs": [],
   "source": [
    "# get term to index\n",
    "def term2index_dict(search_terms_lst):\n",
    "    d = {}\n",
    "    for i,term in enumerate(search_terms_lst):\n",
    "        d[term] = i\n",
    "        \n",
    "    return d\n",
    "\n",
    "term2index = term2index_dict(search_imp.index.values)\n",
    "\n",
    "#get top n closest query\n",
    "def get_topn_query(term, sim_matrix=search_similarity_matrix_df, n=1):\n",
    "    return sim_matrix.loc[:,term].sort_values(ascending=False).head(n)"
   ]
  },
  {
   "cell_type": "code",
   "execution_count": 42,
   "metadata": {
    "ExecuteTime": {
     "end_time": "2019-07-23T03:58:19.566135Z",
     "start_time": "2019-07-23T03:58:19.559276Z"
    },
    "hidden": true
   },
   "outputs": [
    {
     "data": {
      "text/plain": [
       "coffee    1.0\n",
       "Name: coffee, dtype: float64"
      ]
     },
     "execution_count": 42,
     "metadata": {},
     "output_type": "execute_result"
    }
   ],
   "source": [
    "get_topn_query('coffee')"
   ]
  },
  {
   "cell_type": "markdown",
   "metadata": {
    "heading_collapsed": true
   },
   "source": [
    "# Query Classification\n",
    "\n",
    "1. Get Search Term-Cat Matrix: Extract Categories from Top 24 Products \n",
    "2. Get Top N Nodes\n",
    "3. Flatten: Create Node/Category Vectors with Node and Children*\n",
    "4. Compute Cosine Similarity*\n",
    "5. Take Top Match (Node/Category)*\n"
   ]
  },
  {
   "cell_type": "code",
   "execution_count": 43,
   "metadata": {
    "ExecuteTime": {
     "end_time": "2019-07-23T03:58:20.759253Z",
     "start_time": "2019-07-23T03:58:20.748185Z"
    },
    "hidden": true
   },
   "outputs": [],
   "source": [
    "#get search terms to limit catelog \n",
    "search_labels = pd.Series(vec.get_feature_names(), name='prod')\n",
    "search_labels.index = search_labels"
   ]
  },
  {
   "cell_type": "code",
   "execution_count": 44,
   "metadata": {
    "ExecuteTime": {
     "end_time": "2019-07-23T03:58:26.928367Z",
     "start_time": "2019-07-23T03:58:25.396732Z"
    },
    "hidden": true
   },
   "outputs": [],
   "source": [
    "# Expand Path Columns(e.g. Furniture>Living Room>Accent Tables)\n",
    "\n",
    "catalog['Category'] = catalog['Category'].str.split('>')\n",
    "\n",
    "cat = catalog['Category'].values\n",
    "\n",
    "# Vectorize Product Categories (SKU-ID - Category Matrix)\n",
    "def dummy(doc):\n",
    "    return doc\n",
    "\n",
    "vec_cat = CountVectorizer(lowercase=False, preprocessor=dummy,tokenizer=dummy)\n",
    "\n",
    "#Fit Transform\n",
    "prod_cat = vec_cat.fit_transform(cat)\n",
    "\n",
    "\n",
    "#Get category list \n",
    "cat_labels = vec_cat.get_feature_names()\n",
    "\n",
    "#reduce catalog to product that are in our top 24 product list across search terms\n",
    "catalog_reduced = catalog[catalog['SKU_ID'].isin(search_labels)]\n",
    "\n",
    "#reset index for impressions and catelog data\n",
    "search_imp.set_index('Search_term', inplace=True)\n",
    "catalog_reduced.set_index('SKU_ID', inplace=True)"
   ]
  },
  {
   "cell_type": "code",
   "execution_count": 45,
   "metadata": {
    "ExecuteTime": {
     "end_time": "2019-07-23T03:58:26.935782Z",
     "start_time": "2019-07-23T03:58:26.930684Z"
    },
    "hidden": true
   },
   "outputs": [],
   "source": [
    "#search terms list for for eligible searches\n",
    "search_terms_unique = list(search_imp.index.unique())"
   ]
  },
  {
   "cell_type": "code",
   "execution_count": 46,
   "metadata": {
    "ExecuteTime": {
     "end_time": "2019-07-23T03:58:26.999779Z",
     "start_time": "2019-07-23T03:58:26.995184Z"
    },
    "hidden": true
   },
   "outputs": [],
   "source": [
    "#split impressions into list\n",
    "search_imp['Impression'] = search_imp['Impression'].str.split()"
   ]
  },
  {
   "cell_type": "code",
   "execution_count": 47,
   "metadata": {
    "ExecuteTime": {
     "end_time": "2019-07-23T03:58:29.721997Z",
     "start_time": "2019-07-23T03:58:29.716191Z"
    },
    "hidden": true
   },
   "outputs": [],
   "source": [
    "'''\n",
    "Get dictionary of {term1: cat1: count, Cat2, count},\n",
    "                    term2: {cat4: count, Cat9, count}...}\n",
    "''' \n",
    "def get_labels(prod_lst):\n",
    "    \n",
    "    labels = []\n",
    "    for prod in prod_lst:\n",
    "        lst = catalog_reduced.loc[int(prod)]\n",
    "        \n",
    "        if len(lst)>1:\n",
    "            lsts = catalog_reduced.loc[int(prod)]['Category'].to_list()\n",
    "            for l in lsts:\n",
    "                labels.extend(l)\n",
    "        else:\n",
    "            labels.extend(lst['Category'])\n",
    "        \n",
    "    d = Counter(labels)\n",
    "    \n",
    "    return d \n",
    "\n",
    "def get_term_cat_dict(search_term_lst):\n",
    "    term_cat_dict = {}\n",
    "    for term in search_term_lst:\n",
    "        term_imp = search_imp.loc[term]['Impression']\n",
    "        labels = get_labels(term_imp)\n",
    "        \n",
    "        term_cat_dict[term] = labels\n",
    "        \n",
    "    return term_cat_dict"
   ]
  },
  {
   "cell_type": "code",
   "execution_count": 48,
   "metadata": {
    "ExecuteTime": {
     "end_time": "2019-07-23T03:58:32.306850Z",
     "start_time": "2019-07-23T03:58:30.527843Z"
    },
    "hidden": true
   },
   "outputs": [],
   "source": [
    "term_cat_dict = get_term_cat_dict(search_terms_unique)"
   ]
  },
  {
   "cell_type": "markdown",
   "metadata": {
    "heading_collapsed": true
   },
   "source": [
    "# Recommendation Example"
   ]
  },
  {
   "cell_type": "code",
   "execution_count": 49,
   "metadata": {
    "ExecuteTime": {
     "end_time": "2019-07-23T03:58:34.071736Z",
     "start_time": "2019-07-23T03:58:34.068283Z"
    },
    "hidden": true
   },
   "outputs": [],
   "source": [
    "query = 'accent table'"
   ]
  },
  {
   "cell_type": "code",
   "execution_count": 50,
   "metadata": {
    "ExecuteTime": {
     "end_time": "2019-07-23T03:58:34.503185Z",
     "start_time": "2019-07-23T03:58:34.497195Z"
    },
    "hidden": true
   },
   "outputs": [
    {
     "data": {
      "text/plain": [
       "Counter({'Furniture': 27,\n",
       "         'Living Room Furniture': 24,\n",
       "         'Accent Tables': 24,\n",
       "         'End Tables': 21,\n",
       "         'Entryway Furniture': 3,\n",
       "         'Entryway Tables': 3,\n",
       "         'Console Tables': 3})"
      ]
     },
     "execution_count": 50,
     "metadata": {},
     "output_type": "execute_result"
    }
   ],
   "source": [
    "#Example\n",
    "candidates = term_cat_dict[query]\n",
    "candidates"
   ]
  },
  {
   "cell_type": "code",
   "execution_count": 51,
   "metadata": {
    "ExecuteTime": {
     "end_time": "2019-07-23T03:58:34.976541Z",
     "start_time": "2019-07-23T03:58:34.971642Z"
    },
    "hidden": true
   },
   "outputs": [],
   "source": [
    "def flatten_nodes(candidate=candidates, n=5):\n",
    "    \n",
    "    keys = list(candidates.keys())\n",
    "    \n",
    "    candiate_cats = keys[:n]\n",
    "    \n",
    "    candidate_docs = {}\n",
    "    \n",
    "    for candidate in candiate_cats:\n",
    "        #get node id\n",
    "        id = h.node2id[candidate]\n",
    "        \n",
    "        #get children node ids\n",
    "        children_ids = h.prod_map[id]\n",
    "        \n",
    "        #convert back to children names\n",
    "        child_doc= ' '.join([h.id2node[child_id] for child_id in children_ids])\n",
    "        \n",
    "        candidate_docs[candidate] = child_doc\n",
    "    \n",
    "    return candidate_docs"
   ]
  },
  {
   "cell_type": "code",
   "execution_count": 52,
   "metadata": {
    "ExecuteTime": {
     "end_time": "2019-07-23T03:58:35.533592Z",
     "start_time": "2019-07-23T03:58:35.524737Z"
    },
    "hidden": true
   },
   "outputs": [
    {
     "data": {
      "text/plain": [
       "{'Furniture': 'Furniture Accessories & Replacement Parts Kids & Baby Furniture Folding Tables & Chairs Home Office Furniture Entryway Furniture Living Room Furniture Kitchen & Dining Room Furniture Bedroom Furniture',\n",
       " 'Living Room Furniture': 'Accent Tables Chairs Futons Slipcovers Sectionals Ottomans Media Storage TV Stands Living Room Sets Sofas & Loveseats',\n",
       " 'Accent Tables': 'End Tables Indoor Plant Stands Console Tables Coffee Tables',\n",
       " 'End Tables': 'nan',\n",
       " 'Entryway Furniture': 'Umbrella Holders Coat Racks Hall Trees Entryway Benches & Trunks Entryway Tables nan'}"
      ]
     },
     "execution_count": 52,
     "metadata": {},
     "output_type": "execute_result"
    }
   ],
   "source": [
    "#save candidate docs\n",
    "candidate_docs = flatten_nodes()\n",
    "candidate_docs"
   ]
  },
  {
   "cell_type": "code",
   "execution_count": 53,
   "metadata": {
    "ExecuteTime": {
     "end_time": "2019-07-23T03:58:38.216582Z",
     "start_time": "2019-07-23T03:58:36.055986Z"
    },
    "hidden": true
   },
   "outputs": [],
   "source": [
    "#Preprocess docs\n",
    "t = TextPreprocessor()\n",
    "\n",
    "# Use preprocessor on searches\n",
    "node_docs = t.clean_docs([query] + list(candidate_docs.values()))\n",
    "\n",
    "#vectorize\n",
    "vec_cand, matrix_cand = t.vectorize(node_docs)"
   ]
  },
  {
   "cell_type": "code",
   "execution_count": 54,
   "metadata": {
    "ExecuteTime": {
     "end_time": "2019-07-23T03:58:41.089147Z",
     "start_time": "2019-07-23T03:58:41.061034Z"
    },
    "hidden": true
   },
   "outputs": [
    {
     "data": {
      "text/html": [
       "<div>\n",
       "<style scoped>\n",
       "    .dataframe tbody tr th:only-of-type {\n",
       "        vertical-align: middle;\n",
       "    }\n",
       "\n",
       "    .dataframe tbody tr th {\n",
       "        vertical-align: top;\n",
       "    }\n",
       "\n",
       "    .dataframe thead th {\n",
       "        text-align: right;\n",
       "    }\n",
       "</style>\n",
       "<table border=\"1\" class=\"dataframe\">\n",
       "  <thead>\n",
       "    <tr style=\"text-align: right;\">\n",
       "      <th></th>\n",
       "      <th>accent</th>\n",
       "      <th>accessory</th>\n",
       "      <th>baby</th>\n",
       "      <th>bedroom</th>\n",
       "      <th>bench</th>\n",
       "      <th>chair</th>\n",
       "      <th>coat</th>\n",
       "      <th>coffee</th>\n",
       "      <th>console</th>\n",
       "      <th>dining</th>\n",
       "      <th>...</th>\n",
       "      <th>sectional</th>\n",
       "      <th>slipcover</th>\n",
       "      <th>sofa</th>\n",
       "      <th>stand</th>\n",
       "      <th>storage</th>\n",
       "      <th>table</th>\n",
       "      <th>tree</th>\n",
       "      <th>trunk</th>\n",
       "      <th>tutor</th>\n",
       "      <th>umbrella</th>\n",
       "    </tr>\n",
       "  </thead>\n",
       "  <tbody>\n",
       "    <tr>\n",
       "      <th>accent table</th>\n",
       "      <td>0.848083</td>\n",
       "      <td>0.000000</td>\n",
       "      <td>0.000000</td>\n",
       "      <td>0.000000</td>\n",
       "      <td>0.000000</td>\n",
       "      <td>0.000000</td>\n",
       "      <td>0.000000</td>\n",
       "      <td>0.00000</td>\n",
       "      <td>0.00000</td>\n",
       "      <td>0.000000</td>\n",
       "      <td>...</td>\n",
       "      <td>0.000000</td>\n",
       "      <td>0.000000</td>\n",
       "      <td>0.000000</td>\n",
       "      <td>0.00000</td>\n",
       "      <td>0.000000</td>\n",
       "      <td>0.529863</td>\n",
       "      <td>0.000000</td>\n",
       "      <td>0.000000</td>\n",
       "      <td>0.000000</td>\n",
       "      <td>0.000000</td>\n",
       "    </tr>\n",
       "    <tr>\n",
       "      <th>Furniture</th>\n",
       "      <td>0.000000</td>\n",
       "      <td>0.126019</td>\n",
       "      <td>0.126019</td>\n",
       "      <td>0.126019</td>\n",
       "      <td>0.000000</td>\n",
       "      <td>0.103337</td>\n",
       "      <td>0.000000</td>\n",
       "      <td>0.00000</td>\n",
       "      <td>0.00000</td>\n",
       "      <td>0.126019</td>\n",
       "      <td>...</td>\n",
       "      <td>0.000000</td>\n",
       "      <td>0.000000</td>\n",
       "      <td>0.000000</td>\n",
       "      <td>0.00000</td>\n",
       "      <td>0.000000</td>\n",
       "      <td>0.064563</td>\n",
       "      <td>0.000000</td>\n",
       "      <td>0.000000</td>\n",
       "      <td>0.000000</td>\n",
       "      <td>0.000000</td>\n",
       "    </tr>\n",
       "    <tr>\n",
       "      <th>Living Room Furniture</th>\n",
       "      <td>0.240510</td>\n",
       "      <td>0.000000</td>\n",
       "      <td>0.000000</td>\n",
       "      <td>0.000000</td>\n",
       "      <td>0.000000</td>\n",
       "      <td>0.240510</td>\n",
       "      <td>0.000000</td>\n",
       "      <td>0.00000</td>\n",
       "      <td>0.00000</td>\n",
       "      <td>0.000000</td>\n",
       "      <td>...</td>\n",
       "      <td>0.293299</td>\n",
       "      <td>0.293299</td>\n",
       "      <td>0.293299</td>\n",
       "      <td>0.24051</td>\n",
       "      <td>0.293299</td>\n",
       "      <td>0.150265</td>\n",
       "      <td>0.000000</td>\n",
       "      <td>0.000000</td>\n",
       "      <td>0.293299</td>\n",
       "      <td>0.000000</td>\n",
       "    </tr>\n",
       "    <tr>\n",
       "      <th>Accent Tables</th>\n",
       "      <td>0.000000</td>\n",
       "      <td>0.000000</td>\n",
       "      <td>0.000000</td>\n",
       "      <td>0.000000</td>\n",
       "      <td>0.000000</td>\n",
       "      <td>0.000000</td>\n",
       "      <td>0.000000</td>\n",
       "      <td>0.37703</td>\n",
       "      <td>0.37703</td>\n",
       "      <td>0.000000</td>\n",
       "      <td>...</td>\n",
       "      <td>0.000000</td>\n",
       "      <td>0.000000</td>\n",
       "      <td>0.000000</td>\n",
       "      <td>0.30917</td>\n",
       "      <td>0.000000</td>\n",
       "      <td>0.579488</td>\n",
       "      <td>0.000000</td>\n",
       "      <td>0.000000</td>\n",
       "      <td>0.000000</td>\n",
       "      <td>0.000000</td>\n",
       "    </tr>\n",
       "    <tr>\n",
       "      <th>End Tables</th>\n",
       "      <td>0.000000</td>\n",
       "      <td>0.000000</td>\n",
       "      <td>0.000000</td>\n",
       "      <td>0.000000</td>\n",
       "      <td>0.000000</td>\n",
       "      <td>0.000000</td>\n",
       "      <td>0.000000</td>\n",
       "      <td>0.00000</td>\n",
       "      <td>0.00000</td>\n",
       "      <td>0.000000</td>\n",
       "      <td>...</td>\n",
       "      <td>0.000000</td>\n",
       "      <td>0.000000</td>\n",
       "      <td>0.000000</td>\n",
       "      <td>0.00000</td>\n",
       "      <td>0.000000</td>\n",
       "      <td>0.000000</td>\n",
       "      <td>0.000000</td>\n",
       "      <td>0.000000</td>\n",
       "      <td>0.000000</td>\n",
       "      <td>0.000000</td>\n",
       "    </tr>\n",
       "    <tr>\n",
       "      <th>Entryway Furniture</th>\n",
       "      <td>0.000000</td>\n",
       "      <td>0.000000</td>\n",
       "      <td>0.000000</td>\n",
       "      <td>0.000000</td>\n",
       "      <td>0.322336</td>\n",
       "      <td>0.000000</td>\n",
       "      <td>0.322336</td>\n",
       "      <td>0.00000</td>\n",
       "      <td>0.00000</td>\n",
       "      <td>0.000000</td>\n",
       "      <td>...</td>\n",
       "      <td>0.000000</td>\n",
       "      <td>0.000000</td>\n",
       "      <td>0.000000</td>\n",
       "      <td>0.00000</td>\n",
       "      <td>0.000000</td>\n",
       "      <td>0.165141</td>\n",
       "      <td>0.322336</td>\n",
       "      <td>0.322336</td>\n",
       "      <td>0.000000</td>\n",
       "      <td>0.322336</td>\n",
       "    </tr>\n",
       "  </tbody>\n",
       "</table>\n",
       "<p>6 rows × 36 columns</p>\n",
       "</div>"
      ],
      "text/plain": [
       "                         accent  accessory      baby   bedroom     bench  \\\n",
       "accent table           0.848083   0.000000  0.000000  0.000000  0.000000   \n",
       "Furniture              0.000000   0.126019  0.126019  0.126019  0.000000   \n",
       "Living Room Furniture  0.240510   0.000000  0.000000  0.000000  0.000000   \n",
       "Accent Tables          0.000000   0.000000  0.000000  0.000000  0.000000   \n",
       "End Tables             0.000000   0.000000  0.000000  0.000000  0.000000   \n",
       "Entryway Furniture     0.000000   0.000000  0.000000  0.000000  0.322336   \n",
       "\n",
       "                          chair      coat   coffee  console    dining  ...  \\\n",
       "accent table           0.000000  0.000000  0.00000  0.00000  0.000000  ...   \n",
       "Furniture              0.103337  0.000000  0.00000  0.00000  0.126019  ...   \n",
       "Living Room Furniture  0.240510  0.000000  0.00000  0.00000  0.000000  ...   \n",
       "Accent Tables          0.000000  0.000000  0.37703  0.37703  0.000000  ...   \n",
       "End Tables             0.000000  0.000000  0.00000  0.00000  0.000000  ...   \n",
       "Entryway Furniture     0.000000  0.322336  0.00000  0.00000  0.000000  ...   \n",
       "\n",
       "                       sectional  slipcover      sofa    stand   storage  \\\n",
       "accent table            0.000000   0.000000  0.000000  0.00000  0.000000   \n",
       "Furniture               0.000000   0.000000  0.000000  0.00000  0.000000   \n",
       "Living Room Furniture   0.293299   0.293299  0.293299  0.24051  0.293299   \n",
       "Accent Tables           0.000000   0.000000  0.000000  0.30917  0.000000   \n",
       "End Tables              0.000000   0.000000  0.000000  0.00000  0.000000   \n",
       "Entryway Furniture      0.000000   0.000000  0.000000  0.00000  0.000000   \n",
       "\n",
       "                          table      tree     trunk     tutor  umbrella  \n",
       "accent table           0.529863  0.000000  0.000000  0.000000  0.000000  \n",
       "Furniture              0.064563  0.000000  0.000000  0.000000  0.000000  \n",
       "Living Room Furniture  0.150265  0.000000  0.000000  0.293299  0.000000  \n",
       "Accent Tables          0.579488  0.000000  0.000000  0.000000  0.000000  \n",
       "End Tables             0.000000  0.000000  0.000000  0.000000  0.000000  \n",
       "Entryway Furniture     0.165141  0.322336  0.322336  0.000000  0.322336  \n",
       "\n",
       "[6 rows x 36 columns]"
      ]
     },
     "execution_count": 54,
     "metadata": {},
     "output_type": "execute_result"
    }
   ],
   "source": [
    "node_term = pd.DataFrame(matrix_cand.toarray(), index=[query] +list(candidate_docs.keys()), columns=vec_cand.get_feature_names())\n",
    "node_term"
   ]
  },
  {
   "cell_type": "code",
   "execution_count": 55,
   "metadata": {
    "ExecuteTime": {
     "end_time": "2019-07-23T03:58:41.731385Z",
     "start_time": "2019-07-23T03:58:41.711357Z"
    },
    "hidden": true
   },
   "outputs": [
    {
     "data": {
      "text/html": [
       "<div>\n",
       "<style scoped>\n",
       "    .dataframe tbody tr th:only-of-type {\n",
       "        vertical-align: middle;\n",
       "    }\n",
       "\n",
       "    .dataframe tbody tr th {\n",
       "        vertical-align: top;\n",
       "    }\n",
       "\n",
       "    .dataframe thead th {\n",
       "        text-align: right;\n",
       "    }\n",
       "</style>\n",
       "<table border=\"1\" class=\"dataframe\">\n",
       "  <thead>\n",
       "    <tr style=\"text-align: right;\">\n",
       "      <th></th>\n",
       "      <th>accent table</th>\n",
       "      <th>Furniture</th>\n",
       "      <th>Living Room Furniture</th>\n",
       "      <th>Accent Tables</th>\n",
       "      <th>End Tables</th>\n",
       "      <th>Entryway Furniture</th>\n",
       "    </tr>\n",
       "  </thead>\n",
       "  <tbody>\n",
       "    <tr>\n",
       "      <th>accent table</th>\n",
       "      <td>1.000000</td>\n",
       "      <td>0.034209</td>\n",
       "      <td>0.283592</td>\n",
       "      <td>0.307050</td>\n",
       "      <td>0.00000</td>\n",
       "      <td>0.087502</td>\n",
       "    </tr>\n",
       "    <tr>\n",
       "      <th>Furniture</th>\n",
       "      <td>0.034209</td>\n",
       "      <td>1.000000</td>\n",
       "      <td>0.109116</td>\n",
       "      <td>0.037413</td>\n",
       "      <td>0.00000</td>\n",
       "      <td>0.065290</td>\n",
       "    </tr>\n",
       "    <tr>\n",
       "      <th>Living Room Furniture</th>\n",
       "      <td>0.283592</td>\n",
       "      <td>0.109116</td>\n",
       "      <td>1.000000</td>\n",
       "      <td>0.161435</td>\n",
       "      <td>0.00000</td>\n",
       "      <td>0.024815</td>\n",
       "    </tr>\n",
       "    <tr>\n",
       "      <th>Accent Tables</th>\n",
       "      <td>0.307050</td>\n",
       "      <td>0.037413</td>\n",
       "      <td>0.161435</td>\n",
       "      <td>1.000000</td>\n",
       "      <td>0.00000</td>\n",
       "      <td>0.095697</td>\n",
       "    </tr>\n",
       "    <tr>\n",
       "      <th>End Tables</th>\n",
       "      <td>0.000000</td>\n",
       "      <td>0.000000</td>\n",
       "      <td>0.000000</td>\n",
       "      <td>0.000000</td>\n",
       "      <td>1.00000</td>\n",
       "      <td>0.264320</td>\n",
       "    </tr>\n",
       "    <tr>\n",
       "      <th>Entryway Furniture</th>\n",
       "      <td>0.087502</td>\n",
       "      <td>0.065290</td>\n",
       "      <td>0.024815</td>\n",
       "      <td>0.095697</td>\n",
       "      <td>0.26432</td>\n",
       "      <td>1.000000</td>\n",
       "    </tr>\n",
       "  </tbody>\n",
       "</table>\n",
       "</div>"
      ],
      "text/plain": [
       "                       accent table  Furniture  Living Room Furniture  \\\n",
       "accent table               1.000000   0.034209               0.283592   \n",
       "Furniture                  0.034209   1.000000               0.109116   \n",
       "Living Room Furniture      0.283592   0.109116               1.000000   \n",
       "Accent Tables              0.307050   0.037413               0.161435   \n",
       "End Tables                 0.000000   0.000000               0.000000   \n",
       "Entryway Furniture         0.087502   0.065290               0.024815   \n",
       "\n",
       "                       Accent Tables  End Tables  Entryway Furniture  \n",
       "accent table                0.307050     0.00000            0.087502  \n",
       "Furniture                   0.037413     0.00000            0.065290  \n",
       "Living Room Furniture       0.161435     0.00000            0.024815  \n",
       "Accent Tables               1.000000     0.00000            0.095697  \n",
       "End Tables                  0.000000     1.00000            0.264320  \n",
       "Entryway Furniture          0.095697     0.26432            1.000000  "
      ]
     },
     "execution_count": 55,
     "metadata": {},
     "output_type": "execute_result"
    }
   ],
   "source": [
    "#Get similiarity matrix\n",
    "query_node_sim_matrix = cosine_similarity(matrix_cand,matrix_cand)\n",
    "\n",
    "query_node_sim_df = pd.DataFrame(query_node_sim_matrix, index=node_term.index, columns=node_term.index)\n",
    "query_node_sim_df"
   ]
  },
  {
   "cell_type": "code",
   "execution_count": 56,
   "metadata": {
    "ExecuteTime": {
     "end_time": "2019-07-23T03:58:42.462685Z",
     "start_time": "2019-07-23T03:58:42.454863Z"
    },
    "hidden": true
   },
   "outputs": [
    {
     "data": {
      "text/plain": [
       "accent table             1.000000\n",
       "Accent Tables            0.307050\n",
       "Living Room Furniture    0.283592\n",
       "Entryway Furniture       0.087502\n",
       "Furniture                0.034209\n",
       "End Tables               0.000000\n",
       "Name: accent table, dtype: float64"
      ]
     },
     "execution_count": 56,
     "metadata": {},
     "output_type": "execute_result"
    }
   ],
   "source": [
    "query_node_sim_df.loc[:,query].sort_values(ascending=False)"
   ]
  },
  {
   "cell_type": "code",
   "execution_count": 57,
   "metadata": {
    "ExecuteTime": {
     "end_time": "2019-07-23T03:58:43.154048Z",
     "start_time": "2019-07-23T03:58:43.143914Z"
    },
    "hidden": true
   },
   "outputs": [],
   "source": [
    "query_node_sim_df.loc[:,query].sort_values(ascending=False).index[1]\n",
    "\n",
    "def predict_node():\n",
    "    node_pred = query_node_sim_df.loc[:,query].sort_values(ascending=False).index[1]\n",
    "    return node_pred\n",
    "    \n",
    "def get_recommendations(node_pred):\n",
    "    \n",
    "    display_pred = []\n",
    "    \n",
    "    #get node id\n",
    "    node_id = h.node2id[node_pred]\n",
    "    \n",
    "    #get children ids\n",
    "    children_ids = h.prod_map[node_id]\n",
    "    \n",
    "    #get children names\n",
    "    for child_id in children_ids:\n",
    "        child_name = h.id2node[child_id]\n",
    "        \n",
    "        display_pred.append(child_name)\n",
    "    return display_pred"
   ]
  },
  {
   "cell_type": "code",
   "execution_count": 58,
   "metadata": {
    "ExecuteTime": {
     "end_time": "2019-07-23T03:58:43.925700Z",
     "start_time": "2019-07-23T03:58:43.918428Z"
    },
    "hidden": true
   },
   "outputs": [
    {
     "name": "stdout",
     "output_type": "stream",
     "text": [
      "Search Term:accent table\n",
      "Predicted Category: Accent Tables\n",
      "Recommended Display Names: ['End Tables', 'Indoor Plant Stands', 'Console Tables', 'Coffee Tables']\n"
     ]
    }
   ],
   "source": [
    "node_pred = predict_node()\n",
    "\n",
    "recs = get_recommendations(node_pred)\n",
    "\n",
    "print(f'Search Term:{query}')\n",
    "print(f'Predicted Category: {node_pred}')\n",
    "print(f'Recommended Display Names: {recs}')"
   ]
  },
  {
   "cell_type": "markdown",
   "metadata": {
    "heading_collapsed": true
   },
   "source": [
    "# Run Recommendation Engine"
   ]
  },
  {
   "cell_type": "code",
   "execution_count": 60,
   "metadata": {
    "ExecuteTime": {
     "end_time": "2019-07-23T03:58:55.153820Z",
     "start_time": "2019-07-23T03:58:55.147036Z"
    },
    "hidden": true
   },
   "outputs": [],
   "source": [
    "def get_recommendation(query, verbose=False):\n",
    "    candidates = term_cat_dict[query]\n",
    "    \n",
    "    candidate_docs =  flatten_nodes()\n",
    "    \n",
    "    t = TextPreprocessor()\n",
    "\n",
    "    # Use preprocessor on searches\n",
    "    node_docs = t.clean_docs([query] + list(candidate_docs.values()))\n",
    "\n",
    "    #vectorize\n",
    "    vec_cand, matrix_cand = t.vectorize(node_docs)\n",
    "    \n",
    "    #Convert to Dataframe\n",
    "    node_term = pd.DataFrame(matrix_cand.toarray(), index=[query] +list(candidate_docs.keys()), columns=vec_cand.get_feature_names())\n",
    "    \n",
    "    #Get similiarity matrix\n",
    "    query_node_sim_matrix = cosine_similarity(matrix_cand,matrix_cand)\n",
    "\n",
    "    query_node_sim_df = pd.DataFrame(query_node_sim_matrix, index=node_term.index, columns=node_term.index)\n",
    "\n",
    "    #Get prediction\n",
    "    node_pred = predict_node()\n",
    "\n",
    "    recs = get_recommendations(node_pred)\n",
    "    \n",
    "    if verbose:\n",
    "        print(f'Search Term:{query}')\n",
    "        print(f'Predicted Category: {node_pred}')\n",
    "        print(f'Recommended Display Names: {recommendations}')\n",
    "        \n",
    "    return recs"
   ]
  },
  {
   "cell_type": "markdown",
   "metadata": {
    "heading_collapsed": true
   },
   "source": [
    "# Evaluator "
   ]
  },
  {
   "cell_type": "code",
   "execution_count": 89,
   "metadata": {
    "ExecuteTime": {
     "end_time": "2019-07-23T04:28:45.920003Z",
     "start_time": "2019-07-23T04:28:45.910740Z"
    },
    "hidden": true
   },
   "outputs": [],
   "source": [
    "class Evaluator:\n",
    "\n",
    "    def __init__(self, eval_data_file=None, metric=None):\n",
    "        self.eval_data_file = eval_data_file\n",
    "        self.metric=metric\n",
    "        self.run()\n",
    "\n",
    "    def load_data(self, data_folder='raw', data_type='csv'):\n",
    "        if data_type == 'csv':\n",
    "            df = pd.read_csv('../data/{}/{}'.format(data_folder, self.eval_data_file))\n",
    "        self.eval_data = df\n",
    "\n",
    "    def get_xy(self):\n",
    "        self.eval_target = self.eval_data.groupby('Search_term')['Display_name'].apply(list)\n",
    "        self.eval_terms = self.eval_target.index.tolist()\n",
    "        \n",
    "    def jaccard_sim(self, query, recs_pred):\n",
    "        \n",
    "        recs_act = self.eval_target.loc[query]\n",
    "        \n",
    "        intersect = len(list(set(recs_pred) & set(recs_act)))\n",
    "        union = len(recs_pred) + len(recs_act) - intersect\n",
    "        \n",
    "        return intersect/union\n",
    "    \n",
    "    def run(self):\n",
    "        self.load_data()\n",
    "        self.get_xy()"
   ]
  },
  {
   "cell_type": "code",
   "execution_count": 90,
   "metadata": {
    "ExecuteTime": {
     "end_time": "2019-07-23T04:28:47.017144Z",
     "start_time": "2019-07-23T04:28:46.974025Z"
    },
    "hidden": true
   },
   "outputs": [],
   "source": [
    "e=Evaluator('Visual_navigations.csv')"
   ]
  },
  {
   "cell_type": "code",
   "execution_count": 91,
   "metadata": {
    "ExecuteTime": {
     "end_time": "2019-07-23T04:28:59.987272Z",
     "start_time": "2019-07-23T04:28:59.981875Z"
    },
    "hidden": true
   },
   "outputs": [],
   "source": [
    "def mean_similarity():\n",
    "    scores = 0\n",
    "\n",
    "    for term in e.eval_terms:\n",
    "\n",
    "        recs_pred = get_recommendation(term)\n",
    "\n",
    "        score = e.jaccard_sim(term, recs_pred)\n",
    "\n",
    "        scores += score\n",
    "        \n",
    "    return scores/len(e.eval_terms)"
   ]
  },
  {
   "cell_type": "code",
   "execution_count": null,
   "metadata": {
    "ExecuteTime": {
     "end_time": "2019-07-23T04:32:23.658601Z",
     "start_time": "2019-07-23T04:29:01.260887Z"
    },
    "hidden": true
   },
   "outputs": [],
   "source": [
    "mean_similarity()"
   ]
  }
 ],
 "metadata": {
  "hide_input": false,
  "kernelspec": {
   "display_name": "Python [conda env:thddecor]",
   "language": "python",
   "name": "conda-env-thddecor-py"
  },
  "language_info": {
   "codemirror_mode": {
    "name": "ipython",
    "version": 3
   },
   "file_extension": ".py",
   "mimetype": "text/x-python",
   "name": "python",
   "nbconvert_exporter": "python",
   "pygments_lexer": "ipython3",
   "version": "3.7.3"
  },
  "toc": {
   "base_numbering": 1,
   "nav_menu": {},
   "number_sections": true,
   "sideBar": true,
   "skip_h1_title": false,
   "title_cell": "Table of Contents",
   "title_sidebar": "Contents",
   "toc_cell": false,
   "toc_position": {},
   "toc_section_display": true,
   "toc_window_display": false
  }
 },
 "nbformat": 4,
 "nbformat_minor": 2
}
