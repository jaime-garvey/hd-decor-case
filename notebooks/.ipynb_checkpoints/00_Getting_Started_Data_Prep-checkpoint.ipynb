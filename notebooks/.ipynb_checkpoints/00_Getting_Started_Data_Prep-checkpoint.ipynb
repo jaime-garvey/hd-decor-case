{
 "cells": [
  {
   "cell_type": "markdown",
   "metadata": {},
   "source": [
    "# The Home Depot Decor Case\n",
    "\n",
    "**Getting Started & Data Prep**  |  Data Exploration  |  Preprocessing  |  Model Tuning  |  Final Model"
   ]
  },
  {
   "cell_type": "markdown",
   "metadata": {},
   "source": [
    "## Understanding the Context\n",
    "\n",
    "* Nearly half of customers are using search to navigate homedepot.com.\n",
    "* Home Decor is a new product line (limited data on customer behavior)\n",
    "\n",
    "### Problem Statement\n",
    "> How can recommend relevant keywords to help customers navigate homedepot.com?\n",
    "\n",
    "### Benchmark\n",
    "* Current solution uses customer behavior and business knowledge\n",
    "\n",
    "### Objectives\n",
    "* Recommend product subcategories and attributes to narrow down customer search queries \n",
    "* Produce scable solution that leverages a content-based approach"
   ]
  },
  {
   "cell_type": "markdown",
   "metadata": {},
   "source": [
    "## Datasets\n",
    "* Product Catalog\n",
    "* Product Engagement\n",
    "* Product Descriptions\n",
    "* Search Impressions\n",
    "* Navigation Visualization "
   ]
  },
  {
   "cell_type": "markdown",
   "metadata": {},
   "source": [
    "## Organization\n",
    "\n",
    "* Notebooks\n",
    "* Data\n",
    "    - Raw\n",
    "    - Processed\n",
    "* Modules\n",
    "    - ```helpers.py```\n"
   ]
  },
  {
   "cell_type": "code",
   "execution_count": null,
   "metadata": {},
   "outputs": [],
   "source": []
  }
 ],
 "metadata": {
  "kernelspec": {
   "display_name": "Python [conda env:thddecor]",
   "language": "python",
   "name": "conda-env-thddecor-py"
  },
  "language_info": {
   "codemirror_mode": {
    "name": "ipython",
    "version": 3
   },
   "file_extension": ".py",
   "mimetype": "text/x-python",
   "name": "python",
   "nbconvert_exporter": "python",
   "pygments_lexer": "ipython3",
   "version": "3.7.3"
  }
 },
 "nbformat": 4,
 "nbformat_minor": 4
}
