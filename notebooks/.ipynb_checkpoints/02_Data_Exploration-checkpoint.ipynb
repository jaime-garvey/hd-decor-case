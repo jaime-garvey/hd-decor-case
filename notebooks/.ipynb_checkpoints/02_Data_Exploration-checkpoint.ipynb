{
 "cells": [
  {
   "cell_type": "markdown",
   "metadata": {
    "heading_collapsed": true,
    "toc-hr-collapsed": false
   },
   "source": [
    "# The Home Depot Decor Case\n",
    "\n",
    "Getting Started | Data Prep |  **Data Exploration**  |  Preprocessing  |  Model Tuning  |  Final Model"
   ]
  },
  {
   "cell_type": "code",
   "execution_count": 10,
   "metadata": {
    "ExecuteTime": {
     "end_time": "2019-07-18T19:00:38.818581Z",
     "start_time": "2019-07-18T19:00:38.815463Z"
    },
    "hidden": true
   },
   "outputs": [],
   "source": [
    "__author__ = 'Jaime Garvey'\n",
    "__email__ = 'jaimemgarvey@gmail.com'"
   ]
  },
  {
   "cell_type": "code",
   "execution_count": 244,
   "metadata": {
    "ExecuteTime": {
     "end_time": "2019-07-19T01:35:23.555312Z",
     "start_time": "2019-07-19T01:35:23.452840Z"
    },
    "hidden": true
   },
   "outputs": [],
   "source": [
    "import pandas as pd\n",
    "import numpy as np\n",
    "import matplotlib.pyplot as plt\n",
    "\n",
    "\n",
    "\n",
    "import plotly.graph_objects as go\n",
    "import plotly.express as px\n",
    "import plotly.io as pio\n",
    "\n",
    "from collections import Counter\n",
    "\n",
    "from sklearn.feature_extraction.text import CountVectorizer\n",
    "from nltk.corpus import stopwords\n",
    "\n",
    "from pprint import pprint\n",
    "\n",
    "pd.set_option('display.max_colwidth', -1)\n",
    "plt.style.use('seaborn-white') \n",
    "plt.style.use('seaborn-talk') \n",
    "plt.rcParams.update({'font.size': 22})\n",
    "pio.templates.default = \"plotly_white\""
   ]
  },
  {
   "cell_type": "code",
   "execution_count": 58,
   "metadata": {
    "ExecuteTime": {
     "end_time": "2019-07-18T19:45:57.475784Z",
     "start_time": "2019-07-18T19:45:57.471057Z"
    },
    "hidden": true
   },
   "outputs": [],
   "source": [
    "# Import Helper Functions\n",
    "\n",
    "# adding the modules directory to path\n",
    "import sys\n",
    "sys.path.insert(0, '../modules')\n",
    "\n",
    "# reading in functions\n",
    "from helpers import read_in_dataset,get_num_of_levels, flatten_categories"
   ]
  },
  {
   "cell_type": "markdown",
   "metadata": {
    "heading_collapsed": true
   },
   "source": [
    "# Product Data Exploration\n",
    "\n",
    "**Datasets:**\n",
    "\n",
    "1. catalog\n",
    "2. prod_desc\n",
    "3. prod_engagement"
   ]
  },
  {
   "cell_type": "markdown",
   "metadata": {
    "hidden": true,
    "toc-hr-collapsed": true
   },
   "source": [
    "## Decor Catalog\n",
    "\n",
    "**Description:** All products and their categories\n",
    "\n",
    "1. Check for Duplicates\n",
    "2. Can products belong to more than one category?\n",
    "3. Product Hierarchy Depth: How many levels of categories are there?\n",
    "4. Distributions\n",
    "    - Categories by Level\n",
    "    - Products by Level"
   ]
  },
  {
   "cell_type": "code",
   "execution_count": 13,
   "metadata": {
    "ExecuteTime": {
     "end_time": "2019-07-18T19:00:44.084196Z",
     "start_time": "2019-07-18T19:00:43.888740Z"
    },
    "hidden": true
   },
   "outputs": [
    {
     "name": "stdout",
     "output_type": "stream",
     "text": [
      "\n",
      "-------------- Reading in the following dataset: Decor_catalog.csv--------------\n",
      "\n",
      " Shape: 435791 rows and 2 columns\n",
      "\n",
      "------------------------- It has the following columns -------------------------\n",
      "\n",
      "Index(['SKU_ID', 'Category'], dtype='object')\n",
      "\n",
      "----------------------- The first 5 rows look like this ------------------------\n",
      "\n",
      "      SKU_ID          Category\n",
      "0  302087889  Lighting>Sconces\n",
      "1  301688935  Lighting>Sconces\n",
      "2  206788920  Lighting>Sconces\n",
      "3  302087892  Lighting>Sconces\n",
      "4  302087891  Lighting>Sconces\n"
     ]
    }
   ],
   "source": [
    "catalog = read_in_dataset('Decor_catalog.csv', verbose=True)"
   ]
  },
  {
   "cell_type": "markdown",
   "metadata": {
    "heading_collapsed": true,
    "hidden": true
   },
   "source": [
    "### Check for Duplicates"
   ]
  },
  {
   "cell_type": "code",
   "execution_count": 14,
   "metadata": {
    "ExecuteTime": {
     "end_time": "2019-07-18T19:00:47.711649Z",
     "start_time": "2019-07-18T19:00:47.688570Z"
    },
    "hidden": true
   },
   "outputs": [
    {
     "data": {
      "text/plain": [
       "False"
      ]
     },
     "execution_count": 14,
     "metadata": {},
     "output_type": "execute_result"
    }
   ],
   "source": [
    "#check if every SKU is unique\n",
    "len(catalog) == catalog['SKU_ID'].nunique()"
   ]
  },
  {
   "cell_type": "code",
   "execution_count": 15,
   "metadata": {
    "ExecuteTime": {
     "end_time": "2019-07-18T19:00:48.426082Z",
     "start_time": "2019-07-18T19:00:48.246058Z"
    },
    "hidden": true
   },
   "outputs": [],
   "source": [
    "# View product that belongs to more than one path\n",
    "multiple_paths = catalog[catalog.duplicated(subset='SKU_ID', keep=False)].sort_values('SKU_ID')\n",
    "one_path = catalog[catalog.groupby('SKU_ID')['Category'].transform('count') ==1]\n",
    "\n",
    "assert len(catalog) == len(multiple_paths) +len(one_path)"
   ]
  },
  {
   "cell_type": "markdown",
   "metadata": {
    "heading_collapsed": true,
    "hidden": true
   },
   "source": [
    "### Product Hierarchy Depth"
   ]
  },
  {
   "cell_type": "code",
   "execution_count": 6,
   "metadata": {
    "ExecuteTime": {
     "end_time": "2019-07-16T21:35:21.265763Z",
     "start_time": "2019-07-16T21:35:19.773041Z"
    },
    "hidden": true,
    "scrolled": true
   },
   "outputs": [
    {
     "name": "stdout",
     "output_type": "stream",
     "text": [
      "Max Number of Category Levels: 6\n"
     ]
    }
   ],
   "source": [
    "# Number of Level for product categories\n",
    "get_num_of_levels(catalog['Category'], verbose=True);"
   ]
  },
  {
   "cell_type": "markdown",
   "metadata": {
    "hidden": true
   },
   "source": [
    "### Distribution"
   ]
  },
  {
   "cell_type": "code",
   "execution_count": 17,
   "metadata": {
    "ExecuteTime": {
     "end_time": "2019-07-18T19:03:34.508948Z",
     "start_time": "2019-07-18T19:03:32.288385Z"
    },
    "hidden": true
   },
   "outputs": [],
   "source": [
    "# Expand Product Categories\n",
    "catalog_expanded = flatten_categories(catalog['Category'], df=catalog, drop_col='Category', sep='>')"
   ]
  },
  {
   "cell_type": "code",
   "execution_count": 93,
   "metadata": {
    "ExecuteTime": {
     "end_time": "2019-07-18T22:38:46.594470Z",
     "start_time": "2019-07-18T22:38:46.027355Z"
    },
    "hidden": true
   },
   "outputs": [
    {
     "data": {
      "application/vnd.plotly.v1+json": {
       "config": {
        "plotlyServerURL": "https://plot.ly"
       },
       "data": [
        {
         "marker": {
          "color": "rgb(255,103,31)"
         },
         "opacity": 0.7,
         "orientation": "h",
         "text": [
          5,
          153,
          531,
          536,
          185,
          30
         ],
         "textfont": {
          "color": "white"
         },
         "textposition": "auto",
         "type": "bar",
         "x": [
          5,
          153,
          531,
          536,
          185,
          30
         ],
         "y": [
          "L6",
          "L5",
          "L4",
          "L3",
          "L2",
          "L1"
         ]
        }
       ],
       "layout": {
        "template": {
         "data": {
          "bar": [
           {
            "error_x": {
             "color": "#2a3f5f"
            },
            "error_y": {
             "color": "#2a3f5f"
            },
            "marker": {
             "line": {
              "color": "white",
              "width": 0.5
             }
            },
            "type": "bar"
           }
          ],
          "barpolar": [
           {
            "marker": {
             "line": {
              "color": "white",
              "width": 0.5
             }
            },
            "type": "barpolar"
           }
          ],
          "carpet": [
           {
            "aaxis": {
             "endlinecolor": "#2a3f5f",
             "gridcolor": "#C8D4E3",
             "linecolor": "#C8D4E3",
             "minorgridcolor": "#C8D4E3",
             "startlinecolor": "#2a3f5f"
            },
            "baxis": {
             "endlinecolor": "#2a3f5f",
             "gridcolor": "#C8D4E3",
             "linecolor": "#C8D4E3",
             "minorgridcolor": "#C8D4E3",
             "startlinecolor": "#2a3f5f"
            },
            "type": "carpet"
           }
          ],
          "choropleth": [
           {
            "colorbar": {
             "outlinewidth": 0,
             "ticks": ""
            },
            "type": "choropleth"
           }
          ],
          "contour": [
           {
            "colorbar": {
             "outlinewidth": 0,
             "ticks": ""
            },
            "colorscale": [
             [
              0,
              "#0d0887"
             ],
             [
              0.1111111111111111,
              "#46039f"
             ],
             [
              0.2222222222222222,
              "#7201a8"
             ],
             [
              0.3333333333333333,
              "#9c179e"
             ],
             [
              0.4444444444444444,
              "#bd3786"
             ],
             [
              0.5555555555555556,
              "#d8576b"
             ],
             [
              0.6666666666666666,
              "#ed7953"
             ],
             [
              0.7777777777777778,
              "#fb9f3a"
             ],
             [
              0.8888888888888888,
              "#fdca26"
             ],
             [
              1,
              "#f0f921"
             ]
            ],
            "type": "contour"
           }
          ],
          "contourcarpet": [
           {
            "colorbar": {
             "outlinewidth": 0,
             "ticks": ""
            },
            "type": "contourcarpet"
           }
          ],
          "heatmap": [
           {
            "colorbar": {
             "outlinewidth": 0,
             "ticks": ""
            },
            "colorscale": [
             [
              0,
              "#0d0887"
             ],
             [
              0.1111111111111111,
              "#46039f"
             ],
             [
              0.2222222222222222,
              "#7201a8"
             ],
             [
              0.3333333333333333,
              "#9c179e"
             ],
             [
              0.4444444444444444,
              "#bd3786"
             ],
             [
              0.5555555555555556,
              "#d8576b"
             ],
             [
              0.6666666666666666,
              "#ed7953"
             ],
             [
              0.7777777777777778,
              "#fb9f3a"
             ],
             [
              0.8888888888888888,
              "#fdca26"
             ],
             [
              1,
              "#f0f921"
             ]
            ],
            "type": "heatmap"
           }
          ],
          "heatmapgl": [
           {
            "colorbar": {
             "outlinewidth": 0,
             "ticks": ""
            },
            "colorscale": [
             [
              0,
              "#0d0887"
             ],
             [
              0.1111111111111111,
              "#46039f"
             ],
             [
              0.2222222222222222,
              "#7201a8"
             ],
             [
              0.3333333333333333,
              "#9c179e"
             ],
             [
              0.4444444444444444,
              "#bd3786"
             ],
             [
              0.5555555555555556,
              "#d8576b"
             ],
             [
              0.6666666666666666,
              "#ed7953"
             ],
             [
              0.7777777777777778,
              "#fb9f3a"
             ],
             [
              0.8888888888888888,
              "#fdca26"
             ],
             [
              1,
              "#f0f921"
             ]
            ],
            "type": "heatmapgl"
           }
          ],
          "histogram": [
           {
            "marker": {
             "colorbar": {
              "outlinewidth": 0,
              "ticks": ""
             }
            },
            "type": "histogram"
           }
          ],
          "histogram2d": [
           {
            "colorbar": {
             "outlinewidth": 0,
             "ticks": ""
            },
            "colorscale": [
             [
              0,
              "#0d0887"
             ],
             [
              0.1111111111111111,
              "#46039f"
             ],
             [
              0.2222222222222222,
              "#7201a8"
             ],
             [
              0.3333333333333333,
              "#9c179e"
             ],
             [
              0.4444444444444444,
              "#bd3786"
             ],
             [
              0.5555555555555556,
              "#d8576b"
             ],
             [
              0.6666666666666666,
              "#ed7953"
             ],
             [
              0.7777777777777778,
              "#fb9f3a"
             ],
             [
              0.8888888888888888,
              "#fdca26"
             ],
             [
              1,
              "#f0f921"
             ]
            ],
            "type": "histogram2d"
           }
          ],
          "histogram2dcontour": [
           {
            "colorbar": {
             "outlinewidth": 0,
             "ticks": ""
            },
            "colorscale": [
             [
              0,
              "#0d0887"
             ],
             [
              0.1111111111111111,
              "#46039f"
             ],
             [
              0.2222222222222222,
              "#7201a8"
             ],
             [
              0.3333333333333333,
              "#9c179e"
             ],
             [
              0.4444444444444444,
              "#bd3786"
             ],
             [
              0.5555555555555556,
              "#d8576b"
             ],
             [
              0.6666666666666666,
              "#ed7953"
             ],
             [
              0.7777777777777778,
              "#fb9f3a"
             ],
             [
              0.8888888888888888,
              "#fdca26"
             ],
             [
              1,
              "#f0f921"
             ]
            ],
            "type": "histogram2dcontour"
           }
          ],
          "mesh3d": [
           {
            "colorbar": {
             "outlinewidth": 0,
             "ticks": ""
            },
            "type": "mesh3d"
           }
          ],
          "parcoords": [
           {
            "line": {
             "colorbar": {
              "outlinewidth": 0,
              "ticks": ""
             }
            },
            "type": "parcoords"
           }
          ],
          "scatter": [
           {
            "marker": {
             "colorbar": {
              "outlinewidth": 0,
              "ticks": ""
             }
            },
            "type": "scatter"
           }
          ],
          "scatter3d": [
           {
            "line": {
             "colorbar": {
              "outlinewidth": 0,
              "ticks": ""
             }
            },
            "marker": {
             "colorbar": {
              "outlinewidth": 0,
              "ticks": ""
             }
            },
            "type": "scatter3d"
           }
          ],
          "scattercarpet": [
           {
            "marker": {
             "colorbar": {
              "outlinewidth": 0,
              "ticks": ""
             }
            },
            "type": "scattercarpet"
           }
          ],
          "scattergeo": [
           {
            "marker": {
             "colorbar": {
              "outlinewidth": 0,
              "ticks": ""
             }
            },
            "type": "scattergeo"
           }
          ],
          "scattergl": [
           {
            "marker": {
             "colorbar": {
              "outlinewidth": 0,
              "ticks": ""
             }
            },
            "type": "scattergl"
           }
          ],
          "scattermapbox": [
           {
            "marker": {
             "colorbar": {
              "outlinewidth": 0,
              "ticks": ""
             }
            },
            "type": "scattermapbox"
           }
          ],
          "scatterpolar": [
           {
            "marker": {
             "colorbar": {
              "outlinewidth": 0,
              "ticks": ""
             }
            },
            "type": "scatterpolar"
           }
          ],
          "scatterpolargl": [
           {
            "marker": {
             "colorbar": {
              "outlinewidth": 0,
              "ticks": ""
             }
            },
            "type": "scatterpolargl"
           }
          ],
          "scatterternary": [
           {
            "marker": {
             "colorbar": {
              "outlinewidth": 0,
              "ticks": ""
             }
            },
            "type": "scatterternary"
           }
          ],
          "surface": [
           {
            "colorbar": {
             "outlinewidth": 0,
             "ticks": ""
            },
            "colorscale": [
             [
              0,
              "#0d0887"
             ],
             [
              0.1111111111111111,
              "#46039f"
             ],
             [
              0.2222222222222222,
              "#7201a8"
             ],
             [
              0.3333333333333333,
              "#9c179e"
             ],
             [
              0.4444444444444444,
              "#bd3786"
             ],
             [
              0.5555555555555556,
              "#d8576b"
             ],
             [
              0.6666666666666666,
              "#ed7953"
             ],
             [
              0.7777777777777778,
              "#fb9f3a"
             ],
             [
              0.8888888888888888,
              "#fdca26"
             ],
             [
              1,
              "#f0f921"
             ]
            ],
            "type": "surface"
           }
          ],
          "table": [
           {
            "cells": {
             "fill": {
              "color": "#EBF0F8"
             },
             "line": {
              "color": "white"
             }
            },
            "header": {
             "fill": {
              "color": "#C8D4E3"
             },
             "line": {
              "color": "white"
             }
            },
            "type": "table"
           }
          ]
         },
         "layout": {
          "annotationdefaults": {
           "arrowcolor": "#2a3f5f",
           "arrowhead": 0,
           "arrowwidth": 1
          },
          "colorscale": {
           "diverging": [
            [
             0,
             "#8e0152"
            ],
            [
             0.1,
             "#c51b7d"
            ],
            [
             0.2,
             "#de77ae"
            ],
            [
             0.3,
             "#f1b6da"
            ],
            [
             0.4,
             "#fde0ef"
            ],
            [
             0.5,
             "#f7f7f7"
            ],
            [
             0.6,
             "#e6f5d0"
            ],
            [
             0.7,
             "#b8e186"
            ],
            [
             0.8,
             "#7fbc41"
            ],
            [
             0.9,
             "#4d9221"
            ],
            [
             1,
             "#276419"
            ]
           ],
           "sequential": [
            [
             0,
             "#0d0887"
            ],
            [
             0.1111111111111111,
             "#46039f"
            ],
            [
             0.2222222222222222,
             "#7201a8"
            ],
            [
             0.3333333333333333,
             "#9c179e"
            ],
            [
             0.4444444444444444,
             "#bd3786"
            ],
            [
             0.5555555555555556,
             "#d8576b"
            ],
            [
             0.6666666666666666,
             "#ed7953"
            ],
            [
             0.7777777777777778,
             "#fb9f3a"
            ],
            [
             0.8888888888888888,
             "#fdca26"
            ],
            [
             1,
             "#f0f921"
            ]
           ],
           "sequentialminus": [
            [
             0,
             "#0d0887"
            ],
            [
             0.1111111111111111,
             "#46039f"
            ],
            [
             0.2222222222222222,
             "#7201a8"
            ],
            [
             0.3333333333333333,
             "#9c179e"
            ],
            [
             0.4444444444444444,
             "#bd3786"
            ],
            [
             0.5555555555555556,
             "#d8576b"
            ],
            [
             0.6666666666666666,
             "#ed7953"
            ],
            [
             0.7777777777777778,
             "#fb9f3a"
            ],
            [
             0.8888888888888888,
             "#fdca26"
            ],
            [
             1,
             "#f0f921"
            ]
           ]
          },
          "colorway": [
           "#636efa",
           "#EF553B",
           "#00cc96",
           "#ab63fa",
           "#FFA15A",
           "#19d3f3",
           "#FF6692",
           "#B6E880",
           "#FF97FF",
           "#FECB52"
          ],
          "font": {
           "color": "#2a3f5f"
          },
          "geo": {
           "bgcolor": "white",
           "lakecolor": "white",
           "landcolor": "white",
           "showlakes": true,
           "showland": true,
           "subunitcolor": "#C8D4E3"
          },
          "hoverlabel": {
           "align": "left"
          },
          "hovermode": "closest",
          "mapbox": {
           "style": "light"
          },
          "paper_bgcolor": "white",
          "plot_bgcolor": "white",
          "polar": {
           "angularaxis": {
            "gridcolor": "#EBF0F8",
            "linecolor": "#EBF0F8",
            "ticks": ""
           },
           "bgcolor": "white",
           "radialaxis": {
            "gridcolor": "#EBF0F8",
            "linecolor": "#EBF0F8",
            "ticks": ""
           }
          },
          "scene": {
           "xaxis": {
            "backgroundcolor": "white",
            "gridcolor": "#DFE8F3",
            "gridwidth": 2,
            "linecolor": "#EBF0F8",
            "showbackground": true,
            "ticks": "",
            "zerolinecolor": "#EBF0F8"
           },
           "yaxis": {
            "backgroundcolor": "white",
            "gridcolor": "#DFE8F3",
            "gridwidth": 2,
            "linecolor": "#EBF0F8",
            "showbackground": true,
            "ticks": "",
            "zerolinecolor": "#EBF0F8"
           },
           "zaxis": {
            "backgroundcolor": "white",
            "gridcolor": "#DFE8F3",
            "gridwidth": 2,
            "linecolor": "#EBF0F8",
            "showbackground": true,
            "ticks": "",
            "zerolinecolor": "#EBF0F8"
           }
          },
          "shapedefaults": {
           "line": {
            "color": "#2a3f5f"
           }
          },
          "ternary": {
           "aaxis": {
            "gridcolor": "#DFE8F3",
            "linecolor": "#A2B1C6",
            "ticks": ""
           },
           "baxis": {
            "gridcolor": "#DFE8F3",
            "linecolor": "#A2B1C6",
            "ticks": ""
           },
           "bgcolor": "white",
           "caxis": {
            "gridcolor": "#DFE8F3",
            "linecolor": "#A2B1C6",
            "ticks": ""
           }
          },
          "title": {
           "x": 0.05
          },
          "xaxis": {
           "automargin": true,
           "gridcolor": "#EBF0F8",
           "linecolor": "#EBF0F8",
           "ticks": "",
           "zerolinecolor": "#EBF0F8",
           "zerolinewidth": 2
          },
          "yaxis": {
           "automargin": true,
           "gridcolor": "#EBF0F8",
           "linecolor": "#EBF0F8",
           "ticks": "",
           "zerolinecolor": "#EBF0F8",
           "zerolinewidth": 2
          }
         }
        },
        "title": {
         "text": "Number of Categories by Level"
        }
       }
      },
      "text/html": [
       "<div>\n",
       "        \n",
       "        \n",
       "            <div id=\"06f6429e-9a49-4bf1-bf68-2aadebe03581\" class=\"plotly-graph-div\" style=\"height:525px; width:100%;\"></div>\n",
       "            <script type=\"text/javascript\">\n",
       "                require([\"plotly\"], function(Plotly) {\n",
       "                    window.PLOTLYENV=window.PLOTLYENV || {};\n",
       "                    \n",
       "                if (document.getElementById(\"06f6429e-9a49-4bf1-bf68-2aadebe03581\")) {\n",
       "                    Plotly.newPlot(\n",
       "                        '06f6429e-9a49-4bf1-bf68-2aadebe03581',\n",
       "                        [{\"marker\": {\"color\": \"rgb(255,103,31)\"}, \"opacity\": 0.7, \"orientation\": \"h\", \"text\": [5.0, 153.0, 531.0, 536.0, 185.0, 30.0], \"textfont\": {\"color\": \"white\"}, \"textposition\": \"auto\", \"type\": \"bar\", \"x\": [5, 153, 531, 536, 185, 30], \"y\": [\"L6\", \"L5\", \"L4\", \"L3\", \"L2\", \"L1\"]}],\n",
       "                        {\"template\": {\"data\": {\"bar\": [{\"error_x\": {\"color\": \"#2a3f5f\"}, \"error_y\": {\"color\": \"#2a3f5f\"}, \"marker\": {\"line\": {\"color\": \"white\", \"width\": 0.5}}, \"type\": \"bar\"}], \"barpolar\": [{\"marker\": {\"line\": {\"color\": \"white\", \"width\": 0.5}}, \"type\": \"barpolar\"}], \"carpet\": [{\"aaxis\": {\"endlinecolor\": \"#2a3f5f\", \"gridcolor\": \"#C8D4E3\", \"linecolor\": \"#C8D4E3\", \"minorgridcolor\": \"#C8D4E3\", \"startlinecolor\": \"#2a3f5f\"}, \"baxis\": {\"endlinecolor\": \"#2a3f5f\", \"gridcolor\": \"#C8D4E3\", \"linecolor\": \"#C8D4E3\", \"minorgridcolor\": \"#C8D4E3\", \"startlinecolor\": \"#2a3f5f\"}, \"type\": \"carpet\"}], \"choropleth\": [{\"colorbar\": {\"outlinewidth\": 0, \"ticks\": \"\"}, \"type\": \"choropleth\"}], \"contour\": [{\"colorbar\": {\"outlinewidth\": 0, \"ticks\": \"\"}, \"colorscale\": [[0.0, \"#0d0887\"], [0.1111111111111111, \"#46039f\"], [0.2222222222222222, \"#7201a8\"], [0.3333333333333333, \"#9c179e\"], [0.4444444444444444, \"#bd3786\"], [0.5555555555555556, \"#d8576b\"], [0.6666666666666666, \"#ed7953\"], [0.7777777777777778, \"#fb9f3a\"], [0.8888888888888888, \"#fdca26\"], [1.0, \"#f0f921\"]], \"type\": \"contour\"}], \"contourcarpet\": [{\"colorbar\": {\"outlinewidth\": 0, \"ticks\": \"\"}, \"type\": \"contourcarpet\"}], \"heatmap\": [{\"colorbar\": {\"outlinewidth\": 0, \"ticks\": \"\"}, \"colorscale\": [[0.0, \"#0d0887\"], [0.1111111111111111, \"#46039f\"], [0.2222222222222222, \"#7201a8\"], [0.3333333333333333, \"#9c179e\"], [0.4444444444444444, \"#bd3786\"], [0.5555555555555556, \"#d8576b\"], [0.6666666666666666, \"#ed7953\"], [0.7777777777777778, \"#fb9f3a\"], [0.8888888888888888, \"#fdca26\"], [1.0, \"#f0f921\"]], \"type\": \"heatmap\"}], \"heatmapgl\": [{\"colorbar\": {\"outlinewidth\": 0, \"ticks\": \"\"}, \"colorscale\": [[0.0, \"#0d0887\"], [0.1111111111111111, \"#46039f\"], [0.2222222222222222, \"#7201a8\"], [0.3333333333333333, \"#9c179e\"], [0.4444444444444444, \"#bd3786\"], [0.5555555555555556, \"#d8576b\"], [0.6666666666666666, \"#ed7953\"], [0.7777777777777778, \"#fb9f3a\"], [0.8888888888888888, \"#fdca26\"], [1.0, \"#f0f921\"]], \"type\": \"heatmapgl\"}], \"histogram\": [{\"marker\": {\"colorbar\": {\"outlinewidth\": 0, \"ticks\": \"\"}}, \"type\": \"histogram\"}], \"histogram2d\": [{\"colorbar\": {\"outlinewidth\": 0, \"ticks\": \"\"}, \"colorscale\": [[0.0, \"#0d0887\"], [0.1111111111111111, \"#46039f\"], [0.2222222222222222, \"#7201a8\"], [0.3333333333333333, \"#9c179e\"], [0.4444444444444444, \"#bd3786\"], [0.5555555555555556, \"#d8576b\"], [0.6666666666666666, \"#ed7953\"], [0.7777777777777778, \"#fb9f3a\"], [0.8888888888888888, \"#fdca26\"], [1.0, \"#f0f921\"]], \"type\": \"histogram2d\"}], \"histogram2dcontour\": [{\"colorbar\": {\"outlinewidth\": 0, \"ticks\": \"\"}, \"colorscale\": [[0.0, \"#0d0887\"], [0.1111111111111111, \"#46039f\"], [0.2222222222222222, \"#7201a8\"], [0.3333333333333333, \"#9c179e\"], [0.4444444444444444, \"#bd3786\"], [0.5555555555555556, \"#d8576b\"], [0.6666666666666666, \"#ed7953\"], [0.7777777777777778, \"#fb9f3a\"], [0.8888888888888888, \"#fdca26\"], [1.0, \"#f0f921\"]], \"type\": \"histogram2dcontour\"}], \"mesh3d\": [{\"colorbar\": {\"outlinewidth\": 0, \"ticks\": \"\"}, \"type\": \"mesh3d\"}], \"parcoords\": [{\"line\": {\"colorbar\": {\"outlinewidth\": 0, \"ticks\": \"\"}}, \"type\": \"parcoords\"}], \"scatter\": [{\"marker\": {\"colorbar\": {\"outlinewidth\": 0, \"ticks\": \"\"}}, \"type\": \"scatter\"}], \"scatter3d\": [{\"line\": {\"colorbar\": {\"outlinewidth\": 0, \"ticks\": \"\"}}, \"marker\": {\"colorbar\": {\"outlinewidth\": 0, \"ticks\": \"\"}}, \"type\": \"scatter3d\"}], \"scattercarpet\": [{\"marker\": {\"colorbar\": {\"outlinewidth\": 0, \"ticks\": \"\"}}, \"type\": \"scattercarpet\"}], \"scattergeo\": [{\"marker\": {\"colorbar\": {\"outlinewidth\": 0, \"ticks\": \"\"}}, \"type\": \"scattergeo\"}], \"scattergl\": [{\"marker\": {\"colorbar\": {\"outlinewidth\": 0, \"ticks\": \"\"}}, \"type\": \"scattergl\"}], \"scattermapbox\": [{\"marker\": {\"colorbar\": {\"outlinewidth\": 0, \"ticks\": \"\"}}, \"type\": \"scattermapbox\"}], \"scatterpolar\": [{\"marker\": {\"colorbar\": {\"outlinewidth\": 0, \"ticks\": \"\"}}, \"type\": \"scatterpolar\"}], \"scatterpolargl\": [{\"marker\": {\"colorbar\": {\"outlinewidth\": 0, \"ticks\": \"\"}}, \"type\": \"scatterpolargl\"}], \"scatterternary\": [{\"marker\": {\"colorbar\": {\"outlinewidth\": 0, \"ticks\": \"\"}}, \"type\": \"scatterternary\"}], \"surface\": [{\"colorbar\": {\"outlinewidth\": 0, \"ticks\": \"\"}, \"colorscale\": [[0.0, \"#0d0887\"], [0.1111111111111111, \"#46039f\"], [0.2222222222222222, \"#7201a8\"], [0.3333333333333333, \"#9c179e\"], [0.4444444444444444, \"#bd3786\"], [0.5555555555555556, \"#d8576b\"], [0.6666666666666666, \"#ed7953\"], [0.7777777777777778, \"#fb9f3a\"], [0.8888888888888888, \"#fdca26\"], [1.0, \"#f0f921\"]], \"type\": \"surface\"}], \"table\": [{\"cells\": {\"fill\": {\"color\": \"#EBF0F8\"}, \"line\": {\"color\": \"white\"}}, \"header\": {\"fill\": {\"color\": \"#C8D4E3\"}, \"line\": {\"color\": \"white\"}}, \"type\": \"table\"}]}, \"layout\": {\"annotationdefaults\": {\"arrowcolor\": \"#2a3f5f\", \"arrowhead\": 0, \"arrowwidth\": 1}, \"colorscale\": {\"diverging\": [[0, \"#8e0152\"], [0.1, \"#c51b7d\"], [0.2, \"#de77ae\"], [0.3, \"#f1b6da\"], [0.4, \"#fde0ef\"], [0.5, \"#f7f7f7\"], [0.6, \"#e6f5d0\"], [0.7, \"#b8e186\"], [0.8, \"#7fbc41\"], [0.9, \"#4d9221\"], [1, \"#276419\"]], \"sequential\": [[0.0, \"#0d0887\"], [0.1111111111111111, \"#46039f\"], [0.2222222222222222, \"#7201a8\"], [0.3333333333333333, \"#9c179e\"], [0.4444444444444444, \"#bd3786\"], [0.5555555555555556, \"#d8576b\"], [0.6666666666666666, \"#ed7953\"], [0.7777777777777778, \"#fb9f3a\"], [0.8888888888888888, \"#fdca26\"], [1.0, \"#f0f921\"]], \"sequentialminus\": [[0.0, \"#0d0887\"], [0.1111111111111111, \"#46039f\"], [0.2222222222222222, \"#7201a8\"], [0.3333333333333333, \"#9c179e\"], [0.4444444444444444, \"#bd3786\"], [0.5555555555555556, \"#d8576b\"], [0.6666666666666666, \"#ed7953\"], [0.7777777777777778, \"#fb9f3a\"], [0.8888888888888888, \"#fdca26\"], [1.0, \"#f0f921\"]]}, \"colorway\": [\"#636efa\", \"#EF553B\", \"#00cc96\", \"#ab63fa\", \"#FFA15A\", \"#19d3f3\", \"#FF6692\", \"#B6E880\", \"#FF97FF\", \"#FECB52\"], \"font\": {\"color\": \"#2a3f5f\"}, \"geo\": {\"bgcolor\": \"white\", \"lakecolor\": \"white\", \"landcolor\": \"white\", \"showlakes\": true, \"showland\": true, \"subunitcolor\": \"#C8D4E3\"}, \"hoverlabel\": {\"align\": \"left\"}, \"hovermode\": \"closest\", \"mapbox\": {\"style\": \"light\"}, \"paper_bgcolor\": \"white\", \"plot_bgcolor\": \"white\", \"polar\": {\"angularaxis\": {\"gridcolor\": \"#EBF0F8\", \"linecolor\": \"#EBF0F8\", \"ticks\": \"\"}, \"bgcolor\": \"white\", \"radialaxis\": {\"gridcolor\": \"#EBF0F8\", \"linecolor\": \"#EBF0F8\", \"ticks\": \"\"}}, \"scene\": {\"xaxis\": {\"backgroundcolor\": \"white\", \"gridcolor\": \"#DFE8F3\", \"gridwidth\": 2, \"linecolor\": \"#EBF0F8\", \"showbackground\": true, \"ticks\": \"\", \"zerolinecolor\": \"#EBF0F8\"}, \"yaxis\": {\"backgroundcolor\": \"white\", \"gridcolor\": \"#DFE8F3\", \"gridwidth\": 2, \"linecolor\": \"#EBF0F8\", \"showbackground\": true, \"ticks\": \"\", \"zerolinecolor\": \"#EBF0F8\"}, \"zaxis\": {\"backgroundcolor\": \"white\", \"gridcolor\": \"#DFE8F3\", \"gridwidth\": 2, \"linecolor\": \"#EBF0F8\", \"showbackground\": true, \"ticks\": \"\", \"zerolinecolor\": \"#EBF0F8\"}}, \"shapedefaults\": {\"line\": {\"color\": \"#2a3f5f\"}}, \"ternary\": {\"aaxis\": {\"gridcolor\": \"#DFE8F3\", \"linecolor\": \"#A2B1C6\", \"ticks\": \"\"}, \"baxis\": {\"gridcolor\": \"#DFE8F3\", \"linecolor\": \"#A2B1C6\", \"ticks\": \"\"}, \"bgcolor\": \"white\", \"caxis\": {\"gridcolor\": \"#DFE8F3\", \"linecolor\": \"#A2B1C6\", \"ticks\": \"\"}}, \"title\": {\"x\": 0.05}, \"xaxis\": {\"automargin\": true, \"gridcolor\": \"#EBF0F8\", \"linecolor\": \"#EBF0F8\", \"ticks\": \"\", \"zerolinecolor\": \"#EBF0F8\", \"zerolinewidth\": 2}, \"yaxis\": {\"automargin\": true, \"gridcolor\": \"#EBF0F8\", \"linecolor\": \"#EBF0F8\", \"ticks\": \"\", \"zerolinecolor\": \"#EBF0F8\", \"zerolinewidth\": 2}}}, \"title\": {\"text\": \"Number of Categories by Level\"}},\n",
       "                        {\"responsive\": true}\n",
       "                    ).then(function(){\n",
       "                            \n",
       "var gd = document.getElementById('06f6429e-9a49-4bf1-bf68-2aadebe03581');\n",
       "var x = new MutationObserver(function (mutations, observer) {{\n",
       "        var display = window.getComputedStyle(gd).display;\n",
       "        if (!display || display === 'none') {{\n",
       "            console.log([gd, 'removed!']);\n",
       "            Plotly.purge(gd);\n",
       "            observer.disconnect();\n",
       "        }}\n",
       "}});\n",
       "\n",
       "// Listen for the removal of the full notebook cells\n",
       "var notebookContainer = gd.closest('#notebook-container');\n",
       "if (notebookContainer) {{\n",
       "    x.observe(notebookContainer, {childList: true});\n",
       "}}\n",
       "\n",
       "// Listen for the clearing of the current output cell\n",
       "var outputEl = gd.closest('.output');\n",
       "if (outputEl) {{\n",
       "    x.observe(outputEl, {childList: true});\n",
       "}}\n",
       "\n",
       "                        })\n",
       "                };\n",
       "                });\n",
       "            </script>\n",
       "        </div>"
      ]
     },
     "metadata": {},
     "output_type": "display_data"
    }
   ],
   "source": [
    "# Visualize the number of Categories by Level\n",
    "plot_levels(catalog_expanded)"
   ]
  },
  {
   "cell_type": "code",
   "execution_count": 94,
   "metadata": {
    "ExecuteTime": {
     "end_time": "2019-07-18T22:38:52.583405Z",
     "start_time": "2019-07-18T22:38:52.285292Z"
    },
    "hidden": true
   },
   "outputs": [
    {
     "data": {
      "application/vnd.plotly.v1+json": {
       "config": {
        "plotlyServerURL": "https://plot.ly"
       },
       "data": [
        {
         "marker": {
          "color": "rgb(255,103,31)"
         },
         "opacity": 0.7,
         "orientation": "h",
         "text": [
          23,
          10949,
          225495,
          380255,
          435791,
          435791
         ],
         "textfont": {
          "color": "white"
         },
         "textposition": "auto",
         "type": "bar",
         "x": [
          23,
          10949,
          225495,
          380255,
          435791,
          435791
         ],
         "y": [
          "L6",
          "L5",
          "L4",
          "L3",
          "L2",
          "L1"
         ]
        }
       ],
       "layout": {
        "template": {
         "data": {
          "bar": [
           {
            "error_x": {
             "color": "#2a3f5f"
            },
            "error_y": {
             "color": "#2a3f5f"
            },
            "marker": {
             "line": {
              "color": "white",
              "width": 0.5
             }
            },
            "type": "bar"
           }
          ],
          "barpolar": [
           {
            "marker": {
             "line": {
              "color": "white",
              "width": 0.5
             }
            },
            "type": "barpolar"
           }
          ],
          "carpet": [
           {
            "aaxis": {
             "endlinecolor": "#2a3f5f",
             "gridcolor": "#C8D4E3",
             "linecolor": "#C8D4E3",
             "minorgridcolor": "#C8D4E3",
             "startlinecolor": "#2a3f5f"
            },
            "baxis": {
             "endlinecolor": "#2a3f5f",
             "gridcolor": "#C8D4E3",
             "linecolor": "#C8D4E3",
             "minorgridcolor": "#C8D4E3",
             "startlinecolor": "#2a3f5f"
            },
            "type": "carpet"
           }
          ],
          "choropleth": [
           {
            "colorbar": {
             "outlinewidth": 0,
             "ticks": ""
            },
            "type": "choropleth"
           }
          ],
          "contour": [
           {
            "colorbar": {
             "outlinewidth": 0,
             "ticks": ""
            },
            "colorscale": [
             [
              0,
              "#0d0887"
             ],
             [
              0.1111111111111111,
              "#46039f"
             ],
             [
              0.2222222222222222,
              "#7201a8"
             ],
             [
              0.3333333333333333,
              "#9c179e"
             ],
             [
              0.4444444444444444,
              "#bd3786"
             ],
             [
              0.5555555555555556,
              "#d8576b"
             ],
             [
              0.6666666666666666,
              "#ed7953"
             ],
             [
              0.7777777777777778,
              "#fb9f3a"
             ],
             [
              0.8888888888888888,
              "#fdca26"
             ],
             [
              1,
              "#f0f921"
             ]
            ],
            "type": "contour"
           }
          ],
          "contourcarpet": [
           {
            "colorbar": {
             "outlinewidth": 0,
             "ticks": ""
            },
            "type": "contourcarpet"
           }
          ],
          "heatmap": [
           {
            "colorbar": {
             "outlinewidth": 0,
             "ticks": ""
            },
            "colorscale": [
             [
              0,
              "#0d0887"
             ],
             [
              0.1111111111111111,
              "#46039f"
             ],
             [
              0.2222222222222222,
              "#7201a8"
             ],
             [
              0.3333333333333333,
              "#9c179e"
             ],
             [
              0.4444444444444444,
              "#bd3786"
             ],
             [
              0.5555555555555556,
              "#d8576b"
             ],
             [
              0.6666666666666666,
              "#ed7953"
             ],
             [
              0.7777777777777778,
              "#fb9f3a"
             ],
             [
              0.8888888888888888,
              "#fdca26"
             ],
             [
              1,
              "#f0f921"
             ]
            ],
            "type": "heatmap"
           }
          ],
          "heatmapgl": [
           {
            "colorbar": {
             "outlinewidth": 0,
             "ticks": ""
            },
            "colorscale": [
             [
              0,
              "#0d0887"
             ],
             [
              0.1111111111111111,
              "#46039f"
             ],
             [
              0.2222222222222222,
              "#7201a8"
             ],
             [
              0.3333333333333333,
              "#9c179e"
             ],
             [
              0.4444444444444444,
              "#bd3786"
             ],
             [
              0.5555555555555556,
              "#d8576b"
             ],
             [
              0.6666666666666666,
              "#ed7953"
             ],
             [
              0.7777777777777778,
              "#fb9f3a"
             ],
             [
              0.8888888888888888,
              "#fdca26"
             ],
             [
              1,
              "#f0f921"
             ]
            ],
            "type": "heatmapgl"
           }
          ],
          "histogram": [
           {
            "marker": {
             "colorbar": {
              "outlinewidth": 0,
              "ticks": ""
             }
            },
            "type": "histogram"
           }
          ],
          "histogram2d": [
           {
            "colorbar": {
             "outlinewidth": 0,
             "ticks": ""
            },
            "colorscale": [
             [
              0,
              "#0d0887"
             ],
             [
              0.1111111111111111,
              "#46039f"
             ],
             [
              0.2222222222222222,
              "#7201a8"
             ],
             [
              0.3333333333333333,
              "#9c179e"
             ],
             [
              0.4444444444444444,
              "#bd3786"
             ],
             [
              0.5555555555555556,
              "#d8576b"
             ],
             [
              0.6666666666666666,
              "#ed7953"
             ],
             [
              0.7777777777777778,
              "#fb9f3a"
             ],
             [
              0.8888888888888888,
              "#fdca26"
             ],
             [
              1,
              "#f0f921"
             ]
            ],
            "type": "histogram2d"
           }
          ],
          "histogram2dcontour": [
           {
            "colorbar": {
             "outlinewidth": 0,
             "ticks": ""
            },
            "colorscale": [
             [
              0,
              "#0d0887"
             ],
             [
              0.1111111111111111,
              "#46039f"
             ],
             [
              0.2222222222222222,
              "#7201a8"
             ],
             [
              0.3333333333333333,
              "#9c179e"
             ],
             [
              0.4444444444444444,
              "#bd3786"
             ],
             [
              0.5555555555555556,
              "#d8576b"
             ],
             [
              0.6666666666666666,
              "#ed7953"
             ],
             [
              0.7777777777777778,
              "#fb9f3a"
             ],
             [
              0.8888888888888888,
              "#fdca26"
             ],
             [
              1,
              "#f0f921"
             ]
            ],
            "type": "histogram2dcontour"
           }
          ],
          "mesh3d": [
           {
            "colorbar": {
             "outlinewidth": 0,
             "ticks": ""
            },
            "type": "mesh3d"
           }
          ],
          "parcoords": [
           {
            "line": {
             "colorbar": {
              "outlinewidth": 0,
              "ticks": ""
             }
            },
            "type": "parcoords"
           }
          ],
          "scatter": [
           {
            "marker": {
             "colorbar": {
              "outlinewidth": 0,
              "ticks": ""
             }
            },
            "type": "scatter"
           }
          ],
          "scatter3d": [
           {
            "line": {
             "colorbar": {
              "outlinewidth": 0,
              "ticks": ""
             }
            },
            "marker": {
             "colorbar": {
              "outlinewidth": 0,
              "ticks": ""
             }
            },
            "type": "scatter3d"
           }
          ],
          "scattercarpet": [
           {
            "marker": {
             "colorbar": {
              "outlinewidth": 0,
              "ticks": ""
             }
            },
            "type": "scattercarpet"
           }
          ],
          "scattergeo": [
           {
            "marker": {
             "colorbar": {
              "outlinewidth": 0,
              "ticks": ""
             }
            },
            "type": "scattergeo"
           }
          ],
          "scattergl": [
           {
            "marker": {
             "colorbar": {
              "outlinewidth": 0,
              "ticks": ""
             }
            },
            "type": "scattergl"
           }
          ],
          "scattermapbox": [
           {
            "marker": {
             "colorbar": {
              "outlinewidth": 0,
              "ticks": ""
             }
            },
            "type": "scattermapbox"
           }
          ],
          "scatterpolar": [
           {
            "marker": {
             "colorbar": {
              "outlinewidth": 0,
              "ticks": ""
             }
            },
            "type": "scatterpolar"
           }
          ],
          "scatterpolargl": [
           {
            "marker": {
             "colorbar": {
              "outlinewidth": 0,
              "ticks": ""
             }
            },
            "type": "scatterpolargl"
           }
          ],
          "scatterternary": [
           {
            "marker": {
             "colorbar": {
              "outlinewidth": 0,
              "ticks": ""
             }
            },
            "type": "scatterternary"
           }
          ],
          "surface": [
           {
            "colorbar": {
             "outlinewidth": 0,
             "ticks": ""
            },
            "colorscale": [
             [
              0,
              "#0d0887"
             ],
             [
              0.1111111111111111,
              "#46039f"
             ],
             [
              0.2222222222222222,
              "#7201a8"
             ],
             [
              0.3333333333333333,
              "#9c179e"
             ],
             [
              0.4444444444444444,
              "#bd3786"
             ],
             [
              0.5555555555555556,
              "#d8576b"
             ],
             [
              0.6666666666666666,
              "#ed7953"
             ],
             [
              0.7777777777777778,
              "#fb9f3a"
             ],
             [
              0.8888888888888888,
              "#fdca26"
             ],
             [
              1,
              "#f0f921"
             ]
            ],
            "type": "surface"
           }
          ],
          "table": [
           {
            "cells": {
             "fill": {
              "color": "#EBF0F8"
             },
             "line": {
              "color": "white"
             }
            },
            "header": {
             "fill": {
              "color": "#C8D4E3"
             },
             "line": {
              "color": "white"
             }
            },
            "type": "table"
           }
          ]
         },
         "layout": {
          "annotationdefaults": {
           "arrowcolor": "#2a3f5f",
           "arrowhead": 0,
           "arrowwidth": 1
          },
          "colorscale": {
           "diverging": [
            [
             0,
             "#8e0152"
            ],
            [
             0.1,
             "#c51b7d"
            ],
            [
             0.2,
             "#de77ae"
            ],
            [
             0.3,
             "#f1b6da"
            ],
            [
             0.4,
             "#fde0ef"
            ],
            [
             0.5,
             "#f7f7f7"
            ],
            [
             0.6,
             "#e6f5d0"
            ],
            [
             0.7,
             "#b8e186"
            ],
            [
             0.8,
             "#7fbc41"
            ],
            [
             0.9,
             "#4d9221"
            ],
            [
             1,
             "#276419"
            ]
           ],
           "sequential": [
            [
             0,
             "#0d0887"
            ],
            [
             0.1111111111111111,
             "#46039f"
            ],
            [
             0.2222222222222222,
             "#7201a8"
            ],
            [
             0.3333333333333333,
             "#9c179e"
            ],
            [
             0.4444444444444444,
             "#bd3786"
            ],
            [
             0.5555555555555556,
             "#d8576b"
            ],
            [
             0.6666666666666666,
             "#ed7953"
            ],
            [
             0.7777777777777778,
             "#fb9f3a"
            ],
            [
             0.8888888888888888,
             "#fdca26"
            ],
            [
             1,
             "#f0f921"
            ]
           ],
           "sequentialminus": [
            [
             0,
             "#0d0887"
            ],
            [
             0.1111111111111111,
             "#46039f"
            ],
            [
             0.2222222222222222,
             "#7201a8"
            ],
            [
             0.3333333333333333,
             "#9c179e"
            ],
            [
             0.4444444444444444,
             "#bd3786"
            ],
            [
             0.5555555555555556,
             "#d8576b"
            ],
            [
             0.6666666666666666,
             "#ed7953"
            ],
            [
             0.7777777777777778,
             "#fb9f3a"
            ],
            [
             0.8888888888888888,
             "#fdca26"
            ],
            [
             1,
             "#f0f921"
            ]
           ]
          },
          "colorway": [
           "#636efa",
           "#EF553B",
           "#00cc96",
           "#ab63fa",
           "#FFA15A",
           "#19d3f3",
           "#FF6692",
           "#B6E880",
           "#FF97FF",
           "#FECB52"
          ],
          "font": {
           "color": "#2a3f5f"
          },
          "geo": {
           "bgcolor": "white",
           "lakecolor": "white",
           "landcolor": "white",
           "showlakes": true,
           "showland": true,
           "subunitcolor": "#C8D4E3"
          },
          "hoverlabel": {
           "align": "left"
          },
          "hovermode": "closest",
          "mapbox": {
           "style": "light"
          },
          "paper_bgcolor": "white",
          "plot_bgcolor": "white",
          "polar": {
           "angularaxis": {
            "gridcolor": "#EBF0F8",
            "linecolor": "#EBF0F8",
            "ticks": ""
           },
           "bgcolor": "white",
           "radialaxis": {
            "gridcolor": "#EBF0F8",
            "linecolor": "#EBF0F8",
            "ticks": ""
           }
          },
          "scene": {
           "xaxis": {
            "backgroundcolor": "white",
            "gridcolor": "#DFE8F3",
            "gridwidth": 2,
            "linecolor": "#EBF0F8",
            "showbackground": true,
            "ticks": "",
            "zerolinecolor": "#EBF0F8"
           },
           "yaxis": {
            "backgroundcolor": "white",
            "gridcolor": "#DFE8F3",
            "gridwidth": 2,
            "linecolor": "#EBF0F8",
            "showbackground": true,
            "ticks": "",
            "zerolinecolor": "#EBF0F8"
           },
           "zaxis": {
            "backgroundcolor": "white",
            "gridcolor": "#DFE8F3",
            "gridwidth": 2,
            "linecolor": "#EBF0F8",
            "showbackground": true,
            "ticks": "",
            "zerolinecolor": "#EBF0F8"
           }
          },
          "shapedefaults": {
           "line": {
            "color": "#2a3f5f"
           }
          },
          "ternary": {
           "aaxis": {
            "gridcolor": "#DFE8F3",
            "linecolor": "#A2B1C6",
            "ticks": ""
           },
           "baxis": {
            "gridcolor": "#DFE8F3",
            "linecolor": "#A2B1C6",
            "ticks": ""
           },
           "bgcolor": "white",
           "caxis": {
            "gridcolor": "#DFE8F3",
            "linecolor": "#A2B1C6",
            "ticks": ""
           }
          },
          "title": {
           "x": 0.05
          },
          "xaxis": {
           "automargin": true,
           "gridcolor": "#EBF0F8",
           "linecolor": "#EBF0F8",
           "ticks": "",
           "zerolinecolor": "#EBF0F8",
           "zerolinewidth": 2
          },
          "yaxis": {
           "automargin": true,
           "gridcolor": "#EBF0F8",
           "linecolor": "#EBF0F8",
           "ticks": "",
           "zerolinecolor": "#EBF0F8",
           "zerolinewidth": 2
          }
         }
        },
        "title": {
         "text": "Number of Products by Level"
        }
       }
      },
      "text/html": [
       "<div>\n",
       "        \n",
       "        \n",
       "            <div id=\"42ec9e4f-c6b9-4a1e-8ce9-1eb7ac6b6f73\" class=\"plotly-graph-div\" style=\"height:525px; width:100%;\"></div>\n",
       "            <script type=\"text/javascript\">\n",
       "                require([\"plotly\"], function(Plotly) {\n",
       "                    window.PLOTLYENV=window.PLOTLYENV || {};\n",
       "                    \n",
       "                if (document.getElementById(\"42ec9e4f-c6b9-4a1e-8ce9-1eb7ac6b6f73\")) {\n",
       "                    Plotly.newPlot(\n",
       "                        '42ec9e4f-c6b9-4a1e-8ce9-1eb7ac6b6f73',\n",
       "                        [{\"marker\": {\"color\": \"rgb(255,103,31)\"}, \"opacity\": 0.7, \"orientation\": \"h\", \"text\": [23.0, 10949.0, 225495.0, 380255.0, 435791.0, 435791.0], \"textfont\": {\"color\": \"white\"}, \"textposition\": \"auto\", \"type\": \"bar\", \"x\": [23, 10949, 225495, 380255, 435791, 435791], \"y\": [\"L6\", \"L5\", \"L4\", \"L3\", \"L2\", \"L1\"]}],\n",
       "                        {\"template\": {\"data\": {\"bar\": [{\"error_x\": {\"color\": \"#2a3f5f\"}, \"error_y\": {\"color\": \"#2a3f5f\"}, \"marker\": {\"line\": {\"color\": \"white\", \"width\": 0.5}}, \"type\": \"bar\"}], \"barpolar\": [{\"marker\": {\"line\": {\"color\": \"white\", \"width\": 0.5}}, \"type\": \"barpolar\"}], \"carpet\": [{\"aaxis\": {\"endlinecolor\": \"#2a3f5f\", \"gridcolor\": \"#C8D4E3\", \"linecolor\": \"#C8D4E3\", \"minorgridcolor\": \"#C8D4E3\", \"startlinecolor\": \"#2a3f5f\"}, \"baxis\": {\"endlinecolor\": \"#2a3f5f\", \"gridcolor\": \"#C8D4E3\", \"linecolor\": \"#C8D4E3\", \"minorgridcolor\": \"#C8D4E3\", \"startlinecolor\": \"#2a3f5f\"}, \"type\": \"carpet\"}], \"choropleth\": [{\"colorbar\": {\"outlinewidth\": 0, \"ticks\": \"\"}, \"type\": \"choropleth\"}], \"contour\": [{\"colorbar\": {\"outlinewidth\": 0, \"ticks\": \"\"}, \"colorscale\": [[0.0, \"#0d0887\"], [0.1111111111111111, \"#46039f\"], [0.2222222222222222, \"#7201a8\"], [0.3333333333333333, \"#9c179e\"], [0.4444444444444444, \"#bd3786\"], [0.5555555555555556, \"#d8576b\"], [0.6666666666666666, \"#ed7953\"], [0.7777777777777778, \"#fb9f3a\"], [0.8888888888888888, \"#fdca26\"], [1.0, \"#f0f921\"]], \"type\": \"contour\"}], \"contourcarpet\": [{\"colorbar\": {\"outlinewidth\": 0, \"ticks\": \"\"}, \"type\": \"contourcarpet\"}], \"heatmap\": [{\"colorbar\": {\"outlinewidth\": 0, \"ticks\": \"\"}, \"colorscale\": [[0.0, \"#0d0887\"], [0.1111111111111111, \"#46039f\"], [0.2222222222222222, \"#7201a8\"], [0.3333333333333333, \"#9c179e\"], [0.4444444444444444, \"#bd3786\"], [0.5555555555555556, \"#d8576b\"], [0.6666666666666666, \"#ed7953\"], [0.7777777777777778, \"#fb9f3a\"], [0.8888888888888888, \"#fdca26\"], [1.0, \"#f0f921\"]], \"type\": \"heatmap\"}], \"heatmapgl\": [{\"colorbar\": {\"outlinewidth\": 0, \"ticks\": \"\"}, \"colorscale\": [[0.0, \"#0d0887\"], [0.1111111111111111, \"#46039f\"], [0.2222222222222222, \"#7201a8\"], [0.3333333333333333, \"#9c179e\"], [0.4444444444444444, \"#bd3786\"], [0.5555555555555556, \"#d8576b\"], [0.6666666666666666, \"#ed7953\"], [0.7777777777777778, \"#fb9f3a\"], [0.8888888888888888, \"#fdca26\"], [1.0, \"#f0f921\"]], \"type\": \"heatmapgl\"}], \"histogram\": [{\"marker\": {\"colorbar\": {\"outlinewidth\": 0, \"ticks\": \"\"}}, \"type\": \"histogram\"}], \"histogram2d\": [{\"colorbar\": {\"outlinewidth\": 0, \"ticks\": \"\"}, \"colorscale\": [[0.0, \"#0d0887\"], [0.1111111111111111, \"#46039f\"], [0.2222222222222222, \"#7201a8\"], [0.3333333333333333, \"#9c179e\"], [0.4444444444444444, \"#bd3786\"], [0.5555555555555556, \"#d8576b\"], [0.6666666666666666, \"#ed7953\"], [0.7777777777777778, \"#fb9f3a\"], [0.8888888888888888, \"#fdca26\"], [1.0, \"#f0f921\"]], \"type\": \"histogram2d\"}], \"histogram2dcontour\": [{\"colorbar\": {\"outlinewidth\": 0, \"ticks\": \"\"}, \"colorscale\": [[0.0, \"#0d0887\"], [0.1111111111111111, \"#46039f\"], [0.2222222222222222, \"#7201a8\"], [0.3333333333333333, \"#9c179e\"], [0.4444444444444444, \"#bd3786\"], [0.5555555555555556, \"#d8576b\"], [0.6666666666666666, \"#ed7953\"], [0.7777777777777778, \"#fb9f3a\"], [0.8888888888888888, \"#fdca26\"], [1.0, \"#f0f921\"]], \"type\": \"histogram2dcontour\"}], \"mesh3d\": [{\"colorbar\": {\"outlinewidth\": 0, \"ticks\": \"\"}, \"type\": \"mesh3d\"}], \"parcoords\": [{\"line\": {\"colorbar\": {\"outlinewidth\": 0, \"ticks\": \"\"}}, \"type\": \"parcoords\"}], \"scatter\": [{\"marker\": {\"colorbar\": {\"outlinewidth\": 0, \"ticks\": \"\"}}, \"type\": \"scatter\"}], \"scatter3d\": [{\"line\": {\"colorbar\": {\"outlinewidth\": 0, \"ticks\": \"\"}}, \"marker\": {\"colorbar\": {\"outlinewidth\": 0, \"ticks\": \"\"}}, \"type\": \"scatter3d\"}], \"scattercarpet\": [{\"marker\": {\"colorbar\": {\"outlinewidth\": 0, \"ticks\": \"\"}}, \"type\": \"scattercarpet\"}], \"scattergeo\": [{\"marker\": {\"colorbar\": {\"outlinewidth\": 0, \"ticks\": \"\"}}, \"type\": \"scattergeo\"}], \"scattergl\": [{\"marker\": {\"colorbar\": {\"outlinewidth\": 0, \"ticks\": \"\"}}, \"type\": \"scattergl\"}], \"scattermapbox\": [{\"marker\": {\"colorbar\": {\"outlinewidth\": 0, \"ticks\": \"\"}}, \"type\": \"scattermapbox\"}], \"scatterpolar\": [{\"marker\": {\"colorbar\": {\"outlinewidth\": 0, \"ticks\": \"\"}}, \"type\": \"scatterpolar\"}], \"scatterpolargl\": [{\"marker\": {\"colorbar\": {\"outlinewidth\": 0, \"ticks\": \"\"}}, \"type\": \"scatterpolargl\"}], \"scatterternary\": [{\"marker\": {\"colorbar\": {\"outlinewidth\": 0, \"ticks\": \"\"}}, \"type\": \"scatterternary\"}], \"surface\": [{\"colorbar\": {\"outlinewidth\": 0, \"ticks\": \"\"}, \"colorscale\": [[0.0, \"#0d0887\"], [0.1111111111111111, \"#46039f\"], [0.2222222222222222, \"#7201a8\"], [0.3333333333333333, \"#9c179e\"], [0.4444444444444444, \"#bd3786\"], [0.5555555555555556, \"#d8576b\"], [0.6666666666666666, \"#ed7953\"], [0.7777777777777778, \"#fb9f3a\"], [0.8888888888888888, \"#fdca26\"], [1.0, \"#f0f921\"]], \"type\": \"surface\"}], \"table\": [{\"cells\": {\"fill\": {\"color\": \"#EBF0F8\"}, \"line\": {\"color\": \"white\"}}, \"header\": {\"fill\": {\"color\": \"#C8D4E3\"}, \"line\": {\"color\": \"white\"}}, \"type\": \"table\"}]}, \"layout\": {\"annotationdefaults\": {\"arrowcolor\": \"#2a3f5f\", \"arrowhead\": 0, \"arrowwidth\": 1}, \"colorscale\": {\"diverging\": [[0, \"#8e0152\"], [0.1, \"#c51b7d\"], [0.2, \"#de77ae\"], [0.3, \"#f1b6da\"], [0.4, \"#fde0ef\"], [0.5, \"#f7f7f7\"], [0.6, \"#e6f5d0\"], [0.7, \"#b8e186\"], [0.8, \"#7fbc41\"], [0.9, \"#4d9221\"], [1, \"#276419\"]], \"sequential\": [[0.0, \"#0d0887\"], [0.1111111111111111, \"#46039f\"], [0.2222222222222222, \"#7201a8\"], [0.3333333333333333, \"#9c179e\"], [0.4444444444444444, \"#bd3786\"], [0.5555555555555556, \"#d8576b\"], [0.6666666666666666, \"#ed7953\"], [0.7777777777777778, \"#fb9f3a\"], [0.8888888888888888, \"#fdca26\"], [1.0, \"#f0f921\"]], \"sequentialminus\": [[0.0, \"#0d0887\"], [0.1111111111111111, \"#46039f\"], [0.2222222222222222, \"#7201a8\"], [0.3333333333333333, \"#9c179e\"], [0.4444444444444444, \"#bd3786\"], [0.5555555555555556, \"#d8576b\"], [0.6666666666666666, \"#ed7953\"], [0.7777777777777778, \"#fb9f3a\"], [0.8888888888888888, \"#fdca26\"], [1.0, \"#f0f921\"]]}, \"colorway\": [\"#636efa\", \"#EF553B\", \"#00cc96\", \"#ab63fa\", \"#FFA15A\", \"#19d3f3\", \"#FF6692\", \"#B6E880\", \"#FF97FF\", \"#FECB52\"], \"font\": {\"color\": \"#2a3f5f\"}, \"geo\": {\"bgcolor\": \"white\", \"lakecolor\": \"white\", \"landcolor\": \"white\", \"showlakes\": true, \"showland\": true, \"subunitcolor\": \"#C8D4E3\"}, \"hoverlabel\": {\"align\": \"left\"}, \"hovermode\": \"closest\", \"mapbox\": {\"style\": \"light\"}, \"paper_bgcolor\": \"white\", \"plot_bgcolor\": \"white\", \"polar\": {\"angularaxis\": {\"gridcolor\": \"#EBF0F8\", \"linecolor\": \"#EBF0F8\", \"ticks\": \"\"}, \"bgcolor\": \"white\", \"radialaxis\": {\"gridcolor\": \"#EBF0F8\", \"linecolor\": \"#EBF0F8\", \"ticks\": \"\"}}, \"scene\": {\"xaxis\": {\"backgroundcolor\": \"white\", \"gridcolor\": \"#DFE8F3\", \"gridwidth\": 2, \"linecolor\": \"#EBF0F8\", \"showbackground\": true, \"ticks\": \"\", \"zerolinecolor\": \"#EBF0F8\"}, \"yaxis\": {\"backgroundcolor\": \"white\", \"gridcolor\": \"#DFE8F3\", \"gridwidth\": 2, \"linecolor\": \"#EBF0F8\", \"showbackground\": true, \"ticks\": \"\", \"zerolinecolor\": \"#EBF0F8\"}, \"zaxis\": {\"backgroundcolor\": \"white\", \"gridcolor\": \"#DFE8F3\", \"gridwidth\": 2, \"linecolor\": \"#EBF0F8\", \"showbackground\": true, \"ticks\": \"\", \"zerolinecolor\": \"#EBF0F8\"}}, \"shapedefaults\": {\"line\": {\"color\": \"#2a3f5f\"}}, \"ternary\": {\"aaxis\": {\"gridcolor\": \"#DFE8F3\", \"linecolor\": \"#A2B1C6\", \"ticks\": \"\"}, \"baxis\": {\"gridcolor\": \"#DFE8F3\", \"linecolor\": \"#A2B1C6\", \"ticks\": \"\"}, \"bgcolor\": \"white\", \"caxis\": {\"gridcolor\": \"#DFE8F3\", \"linecolor\": \"#A2B1C6\", \"ticks\": \"\"}}, \"title\": {\"x\": 0.05}, \"xaxis\": {\"automargin\": true, \"gridcolor\": \"#EBF0F8\", \"linecolor\": \"#EBF0F8\", \"ticks\": \"\", \"zerolinecolor\": \"#EBF0F8\", \"zerolinewidth\": 2}, \"yaxis\": {\"automargin\": true, \"gridcolor\": \"#EBF0F8\", \"linecolor\": \"#EBF0F8\", \"ticks\": \"\", \"zerolinecolor\": \"#EBF0F8\", \"zerolinewidth\": 2}}}, \"title\": {\"text\": \"Number of Products by Level\"}},\n",
       "                        {\"responsive\": true}\n",
       "                    ).then(function(){\n",
       "                            \n",
       "var gd = document.getElementById('42ec9e4f-c6b9-4a1e-8ce9-1eb7ac6b6f73');\n",
       "var x = new MutationObserver(function (mutations, observer) {{\n",
       "        var display = window.getComputedStyle(gd).display;\n",
       "        if (!display || display === 'none') {{\n",
       "            console.log([gd, 'removed!']);\n",
       "            Plotly.purge(gd);\n",
       "            observer.disconnect();\n",
       "        }}\n",
       "}});\n",
       "\n",
       "// Listen for the removal of the full notebook cells\n",
       "var notebookContainer = gd.closest('#notebook-container');\n",
       "if (notebookContainer) {{\n",
       "    x.observe(notebookContainer, {childList: true});\n",
       "}}\n",
       "\n",
       "// Listen for the clearing of the current output cell\n",
       "var outputEl = gd.closest('.output');\n",
       "if (outputEl) {{\n",
       "    x.observe(outputEl, {childList: true});\n",
       "}}\n",
       "\n",
       "                        })\n",
       "                };\n",
       "                });\n",
       "            </script>\n",
       "        </div>"
      ]
     },
     "metadata": {},
     "output_type": "display_data"
    }
   ],
   "source": [
    "# Plotting the number of products by level\n",
    "plot_levels(catalog_expanded, by='products')"
   ]
  },
  {
   "cell_type": "markdown",
   "metadata": {
    "hidden": true
   },
   "source": [
    "* There is a max depth of 6 levels of product categories\n",
    "* Know some products belong to multiple categories (we may have to deal with this later)\n",
    "* Majority of product go to 3 levels deep in taxonomy"
   ]
  },
  {
   "cell_type": "markdown",
   "metadata": {
    "heading_collapsed": true,
    "hidden": true
   },
   "source": [
    "## Product Descriptions\n",
    "\n",
    "1. Departments\n",
    "2. Top Words in Product Names\n",
    "\n",
    "Identify Entities (e.g.Brands)"
   ]
  },
  {
   "cell_type": "code",
   "execution_count": 6,
   "metadata": {
    "ExecuteTime": {
     "end_time": "2019-07-18T18:49:38.978212Z",
     "start_time": "2019-07-18T18:49:37.152704Z"
    },
    "hidden": true
   },
   "outputs": [
    {
     "name": "stdout",
     "output_type": "stream",
     "text": [
      "\n",
      "-------- Reading in the following dataset: Product_name_description.csv---------\n",
      "\n",
      " Shape: 397987 rows and 4 columns\n",
      "\n",
      "------------------------- It has the following columns -------------------------\n",
      "\n",
      "Index(['SKU_ID', 'Product_name', 'Description', 'Department'], dtype='object')\n",
      "\n",
      "----------------------- The first 5 rows look like this ------------------------\n",
      "\n",
      "      SKU_ID                                                Product_name  \\\n",
      "0  202524817  8 in. x 4 in. x 16 in. Concrete Solid Block                  \n",
      "1  301169855  Hummingbird Stencil                                          \n",
      "2  207096840  24 in. x 24 in. x 2 in Acrylic clear/White Dry erase board   \n",
      "3  207096521  48 in. x 96 in. x 2 in Clear/White Boom Dry erase board      \n",
      "4  306155041  Coconut Charcoal                                             \n",
      "\n",
      "                                                                                                                                                                                                                                                          Description  \\\n",
      "0  This 8 in. x 4 in. x 16 in. Solid Concrete Block makes a great choice for the construction of Piers in Pier and Beam construction or mobile home installation. It is also a great block to use as a spacer block between other units to obtain an optimal height.    \n",
      "1  This easy-to-use Hummingbird Stencil from Stencil1 is perfect for walls, home decor, clothing and more. Each stencil is cut high quality in order to provide a long lasting design. The possibilities of what you can create with a Stencil1 stencil are endless.    \n",
      "2  The BOOM BOOM board is a high end dry erase board made from acrylic. This product is available in three colors; clear (with white backing), white and black. This can be placed in schools, meeting rooms, cafeterias and anywhere else where dry erase is needed.   \n",
      "3  The BOOM BOOM board is a high end dry erase board made from acrylic. This product is available in three colors; clear (with white backing), white and black. This can be placed in schools, meeting rooms, cafeterias and anywhere else where dry erase is needed.   \n",
      "4  We strive to bring the best charcoals with a top-shelf product. Our charcoals generate significant heat, longer burning time in an environmentally responsible fashion. COCO-BBQ comes from a renewable resource, its production has zero impact on deforestation.   \n",
      "\n",
      "  Department  \n",
      "0  Non-Decor  \n",
      "1  Non-Decor  \n",
      "2  Non-Decor  \n",
      "3  Non-Decor  \n",
      "4  Non-Decor  \n"
     ]
    }
   ],
   "source": [
    "prod_desc = read_in_dataset('Product_name_description.csv', verbose=True)"
   ]
  },
  {
   "cell_type": "markdown",
   "metadata": {
    "heading_collapsed": true,
    "hidden": true
   },
   "source": [
    "### Departments"
   ]
  },
  {
   "cell_type": "code",
   "execution_count": 99,
   "metadata": {
    "ExecuteTime": {
     "end_time": "2019-07-18T22:51:16.131370Z",
     "start_time": "2019-07-18T22:51:16.104219Z"
    },
    "hidden": true
   },
   "outputs": [
    {
     "data": {
      "text/plain": [
       "Department\n",
       "Core Decor      3937  \n",
       "Growth Decor    393315\n",
       "Non-Decor       735   \n",
       "Name: SKU_ID, dtype: int64"
      ]
     },
     "execution_count": 99,
     "metadata": {},
     "output_type": "execute_result"
    }
   ],
   "source": [
    "# What are the unique values for department and how many products are in each department?\n",
    "prod_desc.groupby('Department')['SKU_ID'].count()"
   ]
  },
  {
   "cell_type": "code",
   "execution_count": 102,
   "metadata": {
    "ExecuteTime": {
     "end_time": "2019-07-18T22:52:40.911434Z",
     "start_time": "2019-07-18T22:52:40.761938Z"
    },
    "hidden": true
   },
   "outputs": [
    {
     "data": {
      "text/html": [
       "<div>\n",
       "<style scoped>\n",
       "    .dataframe tbody tr th:only-of-type {\n",
       "        vertical-align: middle;\n",
       "    }\n",
       "\n",
       "    .dataframe tbody tr th {\n",
       "        vertical-align: top;\n",
       "    }\n",
       "\n",
       "    .dataframe thead th {\n",
       "        text-align: right;\n",
       "    }\n",
       "</style>\n",
       "<table border=\"1\" class=\"dataframe\">\n",
       "  <thead>\n",
       "    <tr style=\"text-align: right;\">\n",
       "      <th></th>\n",
       "      <th>SKU_ID</th>\n",
       "      <th>Product_name</th>\n",
       "      <th>Description</th>\n",
       "      <th>Department</th>\n",
       "    </tr>\n",
       "  </thead>\n",
       "  <tbody>\n",
       "    <tr>\n",
       "      <th>319423</th>\n",
       "      <td>205942066</td>\n",
       "      <td>Sylvie Wood 4-Drawer Jewelry Armoire in Walnut</td>\n",
       "      <td>The Sylvie Jewelry Armoire has a transitional style that is perfect for any style home. Ideal for placing in a bedroom or dressing area, the armoire provides ample interior storage space for all of your jewelry. A flip top features a mirror for easy accessorizing. Each side opens to reveal hooks for keeping your necklaces tangle free. 4-Drawers provide ample interior storage space. The walnut finish makes this an easy complement to any existing furnishings.</td>\n",
       "      <td>Growth Decor</td>\n",
       "    </tr>\n",
       "    <tr>\n",
       "      <th>313868</th>\n",
       "      <td>206945997</td>\n",
       "      <td>Goodwin Dark Brown Wood 2-Tier Open Shelf</td>\n",
       "      <td>Clutter is a thing of the past where the Goodwin modern display shelf is concerned. This 2-level Malaysian-crafted engineered wood contemporary shelf is fit to hold your prized collection of reading materials or decor within its dark brown faux (espresso) wood grain veneered-shelves. A quick swipe of a dry cloth along the shelves will do the trick when it’s time to clean. The Goodwin shelf is also available with 5-levels of shelving (sold separately).</td>\n",
       "      <td>Growth Decor</td>\n",
       "    </tr>\n",
       "    <tr>\n",
       "      <th>2026</th>\n",
       "      <td>302146029</td>\n",
       "      <td>9 in. LED Warm White 2700K, Dimmable 1-Bar Under Cabinet Light Add On with Hands-Free On/Off (Tool-Free Plug-in Install)</td>\n",
       "      <td>PureOptics Tool-Free LED Under Cabinet Lighting by BLACK+DECKER is the ultimate DIY addition to your kitchen and home because its extraordinary design allows for total installation underneath cabinets and shelves within minutes- no tools required. Featuring a warm white light and ten brightness levels, these ultra-slim LED light bars are ideal for inviting accent lighting, task lighting while you cook or even soft nighttime lighting. Controlled by a hands-free motion sensor or built-in power button, this under cabinet lighting system offers ultimate convenience in one complete package.</td>\n",
       "      <td>Core Decor</td>\n",
       "    </tr>\n",
       "    <tr>\n",
       "      <th>964</th>\n",
       "      <td>303686038</td>\n",
       "      <td>50-Pair 10 Tier Shoe Organizer Rack Storage in Chorme With Wheels</td>\n",
       "      <td>A chrome shoe tower capable of holding up to 50 pair of shoes (Depending on shoe size) is the answer to your shoe storage needs. It is easy to assemble and is made of durable chromed metal. It boast 10 tiers of non-slip tubes to hold your shoes and has durable wheels for easy mobility or the bottom rack sits flat on the floor for a stationary unit. Product Features: Chrome Shoe TowerFits up to 50 Pairs of Shoes (Depending on Shoe Size) Easy Assembly 10-Tiers of Tubes Wheels Included 59.5 in. H x 36.5 in. W x 14.63 in. D.</td>\n",
       "      <td>Core Decor</td>\n",
       "    </tr>\n",
       "    <tr>\n",
       "      <th>156</th>\n",
       "      <td>306477013</td>\n",
       "      <td>2 in. x 5 in. Grey Vinyl Sticker Push/Pull Door Decals</td>\n",
       "      <td>Use the Vinyl Grey Stickers Push/Pull Door Decal Signs to guide customers, patients and guests. The Vinyl Grey Stickers Push/Pull Door Decal Signs can be applied on smooth surfaces including glass, metal and plastic. The Vinyl Grey Stickers Push/Pull Door Decals Signs have a high bonding self-adhesive for prolong use.</td>\n",
       "      <td>Non-Decor</td>\n",
       "    </tr>\n",
       "    <tr>\n",
       "      <th>414</th>\n",
       "      <td>305451993</td>\n",
       "      <td>Hammered Brass 4-Pieces Smoky Grey Coaster Set</td>\n",
       "      <td>Mascot Hardware provides exceptionally valued items for the kitchen, home, and office. Known for their functionality and beauty, each of our products is individually crafted from the finest quality materials. Our products are created to add a traditional rustic flavour to your lives, while at the same time, being of modern utility and value. Specially designed to give maximum area coverage for your glasses, cups, etc., these coasters are made of premium food-grade quality hardwood which can take hot and cold temperatures equally well while protecting your table and table cloth from any harm. This coaster set includes 6 pieces that come in a box.</td>\n",
       "      <td>Non-Decor</td>\n",
       "    </tr>\n",
       "  </tbody>\n",
       "</table>\n",
       "</div>"
      ],
      "text/plain": [
       "           SKU_ID  \\\n",
       "319423  205942066   \n",
       "313868  206945997   \n",
       "2026    302146029   \n",
       "964     303686038   \n",
       "156     306477013   \n",
       "414     305451993   \n",
       "\n",
       "                                                                                                                    Product_name  \\\n",
       "319423  Sylvie Wood 4-Drawer Jewelry Armoire in Walnut                                                                             \n",
       "313868  Goodwin Dark Brown Wood 2-Tier Open Shelf                                                                                  \n",
       "2026    9 in. LED Warm White 2700K, Dimmable 1-Bar Under Cabinet Light Add On with Hands-Free On/Off (Tool-Free Plug-in Install)   \n",
       "964     50-Pair 10 Tier Shoe Organizer Rack Storage in Chorme With Wheels                                                          \n",
       "156     2 in. x 5 in. Grey Vinyl Sticker Push/Pull Door Decals                                                                     \n",
       "414     Hammered Brass 4-Pieces Smoky Grey Coaster Set                                                                             \n",
       "\n",
       "                                                                                                                                                                                                                                                                                                                                                                                                                                                                                                                                                                                                                                                                          Description  \\\n",
       "319423  The Sylvie Jewelry Armoire has a transitional style that is perfect for any style home. Ideal for placing in a bedroom or dressing area, the armoire provides ample interior storage space for all of your jewelry. A flip top features a mirror for easy accessorizing. Each side opens to reveal hooks for keeping your necklaces tangle free. 4-Drawers provide ample interior storage space. The walnut finish makes this an easy complement to any existing furnishings.                                                                                                                                                                                                   \n",
       "313868  Clutter is a thing of the past where the Goodwin modern display shelf is concerned. This 2-level Malaysian-crafted engineered wood contemporary shelf is fit to hold your prized collection of reading materials or decor within its dark brown faux (espresso) wood grain veneered-shelves. A quick swipe of a dry cloth along the shelves will do the trick when it’s time to clean. The Goodwin shelf is also available with 5-levels of shelving (sold separately).                                                                                                                                                                                                         \n",
       "2026    PureOptics Tool-Free LED Under Cabinet Lighting by BLACK+DECKER is the ultimate DIY addition to your kitchen and home because its extraordinary design allows for total installation underneath cabinets and shelves within minutes- no tools required. Featuring a warm white light and ten brightness levels, these ultra-slim LED light bars are ideal for inviting accent lighting, task lighting while you cook or even soft nighttime lighting. Controlled by a hands-free motion sensor or built-in power button, this under cabinet lighting system offers ultimate convenience in one complete package.                                                                \n",
       "964     A chrome shoe tower capable of holding up to 50 pair of shoes (Depending on shoe size) is the answer to your shoe storage needs. It is easy to assemble and is made of durable chromed metal. It boast 10 tiers of non-slip tubes to hold your shoes and has durable wheels for easy mobility or the bottom rack sits flat on the floor for a stationary unit. Product Features: Chrome Shoe TowerFits up to 50 Pairs of Shoes (Depending on Shoe Size) Easy Assembly 10-Tiers of Tubes Wheels Included 59.5 in. H x 36.5 in. W x 14.63 in. D.                                                                                                                                  \n",
       "156     Use the Vinyl Grey Stickers Push/Pull Door Decal Signs to guide customers, patients and guests. The Vinyl Grey Stickers Push/Pull Door Decal Signs can be applied on smooth surfaces including glass, metal and plastic. The Vinyl Grey Stickers Push/Pull Door Decals Signs have a high bonding self-adhesive for prolong use.                                                                                                                                                                                                                                                                                                                                                 \n",
       "414     Mascot Hardware provides exceptionally valued items for the kitchen, home, and office. Known for their functionality and beauty, each of our products is individually crafted from the finest quality materials. Our products are created to add a traditional rustic flavour to your lives, while at the same time, being of modern utility and value. Specially designed to give maximum area coverage for your glasses, cups, etc., these coasters are made of premium food-grade quality hardwood which can take hot and cold temperatures equally well while protecting your table and table cloth from any harm. This coaster set includes 6 pieces that come in a box.   \n",
       "\n",
       "          Department  \n",
       "319423  Growth Decor  \n",
       "313868  Growth Decor  \n",
       "2026    Core Decor    \n",
       "964     Core Decor    \n",
       "156     Non-Decor     \n",
       "414     Non-Decor     "
      ]
     },
     "execution_count": 102,
     "metadata": {},
     "output_type": "execute_result"
    }
   ],
   "source": [
    "# what are some example products in each department?\n",
    "prod_desc.sample(frac=1).groupby('Department').head(2)"
   ]
  },
  {
   "cell_type": "markdown",
   "metadata": {
    "heading_collapsed": true,
    "hidden": true
   },
   "source": [
    "### Top Words in Product Names"
   ]
  },
  {
   "cell_type": "code",
   "execution_count": 103,
   "metadata": {
    "ExecuteTime": {
     "end_time": "2019-07-18T22:54:28.566281Z",
     "start_time": "2019-07-18T22:54:21.623217Z"
    },
    "hidden": true
   },
   "outputs": [
    {
     "data": {
      "image/png": "[encoded data removed]",
      "text/plain": [
       "<Figure size 432x288 with 1 Axes>"
      ]
     },
     "metadata": {
      "needs_background": "light"
     },
     "output_type": "display_data"
    }
   ],
   "source": [
    "# View Top Words in Product Names\n",
    "def get_top_n_words(corpus, n=None):\n",
    "    vec = CountVectorizer().fit(corpus)\n",
    "    bag_of_words = vec.transform(corpus)\n",
    "    sum_words = bag_of_words.sum(axis=0) \n",
    "    words_freq = [(word, sum_words[0, idx]) for word, idx in vec.vocabulary_.items()]\n",
    "    words_freq =sorted(words_freq, key = lambda x: x[1], reverse=True)\n",
    "    return words_freq[:n]\n",
    "\n",
    "common_words = get_top_n_words(prod_desc['Product_name'], 20)\n",
    "df1 = pd.DataFrame(common_words, columns = ['Product_name' , 'count'])\n",
    "pd.DataFrame(df1.groupby('Product_name').sum()['count'].sort_values()).plot(kind='barh', y='count', title=\"Top 20 words in Product Names\");"
   ]
  },
  {
   "cell_type": "code",
   "execution_count": 109,
   "metadata": {
    "ExecuteTime": {
     "end_time": "2019-07-18T22:56:22.772574Z",
     "start_time": "2019-07-18T22:56:16.436291Z"
    },
    "hidden": true
   },
   "outputs": [
    {
     "data": {
      "image/png": "[encoded data removed]",
      "text/plain": [
       "<Figure size 432x288 with 1 Axes>"
      ]
     },
     "metadata": {
      "needs_background": "light"
     },
     "output_type": "display_data"
    }
   ],
   "source": [
    "# View Top Words without Stopword\n",
    "\n",
    "# Define List of Stop Words\n",
    "new_stop_words = ['in', 'sq','ft', 'yd', 'cm', 'mm','gal','lb' ,'lbs','qt','oz', 'h', 'w', 'ii', 'x']\n",
    "stop_words = set(stopwords.words('english') + new_stop_words)\n",
    "\n",
    "def get_top_n_words(corpus, n=None, stop_words=stop_words):\n",
    "    vec = CountVectorizer(stop_words=stop_words, token_pattern='([a-zA-z]+)').fit(corpus)\n",
    "    bag_of_words = vec.transform(corpus)\n",
    "    sum_words = bag_of_words.sum(axis=0) \n",
    "    words_freq = [(word, sum_words[0, idx]) for word, idx in vec.vocabulary_.items()]\n",
    "    words_freq =sorted(words_freq, key = lambda x: x[1], reverse=True)\n",
    "    return words_freq[:n]\n",
    "\n",
    "common_words_no_stopwords = get_top_n_words(prod_desc['Product_name'], 20)\n",
    "df2 = pd.DataFrame(common_words_no_stopwords, columns = ['Product_name' , 'count'])\n",
    "pd.DataFrame(df2.groupby('Product_name').sum()['count'].sort_values()).plot(kind='barh', y='count', title=\"Top 20 words in Product Names (w/o Stopwords)\");"
   ]
  },
  {
   "cell_type": "markdown",
   "metadata": {
    "hidden": true
   },
   "source": [
    "## Product Engagement\n",
    "\n",
    "1. Distribution of Product Views"
   ]
  },
  {
   "cell_type": "code",
   "execution_count": 110,
   "metadata": {
    "ExecuteTime": {
     "end_time": "2019-07-18T23:07:08.248506Z",
     "start_time": "2019-07-18T23:07:08.225116Z"
    },
    "hidden": true
   },
   "outputs": [],
   "source": [
    "prod_engagement = read_in_dataset('Product_engagement.csv', verbose=verbose_opt)"
   ]
  },
  {
   "cell_type": "code",
   "execution_count": 249,
   "metadata": {
    "ExecuteTime": {
     "end_time": "2019-07-19T01:37:26.706798Z",
     "start_time": "2019-07-19T01:37:26.540168Z"
    },
    "hidden": true
   },
   "outputs": [
    {
     "data": {
      "image/png": "[encoded data removed]",
      "text/plain": [
       "<Figure size 720x288 with 1 Axes>"
      ]
     },
     "metadata": {},
     "output_type": "display_data"
    }
   ],
   "source": [
    "#view distribution of views\n",
    "plt.figure(figsize=(10,4))\n",
    "plt.hist(prod_engagement['Product_views'], bins=30)\n",
    "plt.title(\"Distribution of Product Views\")\n",
    "plt.xlabel(\"Number of Product Views\")\n",
    "plt.ylabel(\"Frequency\")\n",
    "plt.box(False);"
   ]
  },
  {
   "cell_type": "code",
   "execution_count": 250,
   "metadata": {
    "ExecuteTime": {
     "end_time": "2019-07-19T01:38:29.757625Z",
     "start_time": "2019-07-19T01:38:29.610838Z"
    },
    "hidden": true
   },
   "outputs": [
    {
     "data": {
      "image/png": "[encoded data removed]",
      "text/plain": [
       "<Figure size 720x288 with 1 Axes>"
      ]
     },
     "metadata": {},
     "output_type": "display_data"
    }
   ],
   "source": [
    "#view distribution of views (limited range)\n",
    "plt.figure(figsize=(10,4))\n",
    "plt.hist(prod_engagement['Product_views'], bins=20,range=(0,100))\n",
    "plt.title(\"Distribution of Product Views (Limited Range)\")\n",
    "plt.xlabel(\"Number of Product Views\")\n",
    "plt.ylabel(\"Frequency\")\n",
    "plt.box(False);"
   ]
  },
  {
   "cell_type": "code",
   "execution_count": 112,
   "metadata": {
    "ExecuteTime": {
     "end_time": "2019-07-19T00:05:24.964832Z",
     "start_time": "2019-07-19T00:05:24.956867Z"
    },
    "hidden": true
   },
   "outputs": [
    {
     "data": {
      "text/plain": [
       "46.0"
      ]
     },
     "execution_count": 112,
     "metadata": {},
     "output_type": "execute_result"
    }
   ],
   "source": [
    "# Median Number of Products per Search Term \n",
    "prod_engagement.groupby('Search_term')['SKU_ID'].count().median()"
   ]
  },
  {
   "cell_type": "markdown",
   "metadata": {
    "hidden": true
   },
   "source": [
    "* Views (implicit rating for products)\n",
    "* The majority of product have under 100 views, which some exceeding 3,000. We will have to be careful with using this data for recommendation to prevent our model form favoring the few products with a larger amount of views. "
   ]
  },
  {
   "cell_type": "markdown",
   "metadata": {
    "heading_collapsed": true
   },
   "source": [
    "# Search Data Exploration\n",
    "\n",
    "**Datasets:**\n",
    "1. navigations\n",
    "2. search_imp"
   ]
  },
  {
   "cell_type": "markdown",
   "metadata": {
    "hidden": true,
    "toc-hr-collapsed": true
   },
   "source": [
    "## Navigation\n",
    "\n",
    "1. Unique Search Terms\n",
    "    - Consolidation\n",
    "2. Depth of Category Path"
   ]
  },
  {
   "cell_type": "code",
   "execution_count": 113,
   "metadata": {
    "ExecuteTime": {
     "end_time": "2019-07-19T00:07:15.997448Z",
     "start_time": "2019-07-19T00:07:15.983886Z"
    },
    "hidden": true
   },
   "outputs": [
    {
     "name": "stdout",
     "output_type": "stream",
     "text": [
      "\n",
      "----------- Reading in the following dataset: Visual_navigations.csv------------\n",
      "\n",
      " Shape: 1142 rows and 3 columns\n",
      "\n",
      "------------------------- It has the following columns -------------------------\n",
      "\n",
      "Index(['Search_term', 'Recommended_category', 'Display_name'], dtype='object')\n",
      "\n",
      "----------------------- The first 5 rows look like this ------------------------\n",
      "\n",
      "    Search_term  \\\n",
      "0  accent table   \n",
      "1  accent table   \n",
      "2  accent table   \n",
      "3  accent table   \n",
      "4  accent table   \n",
      "\n",
      "                                                Recommended_category  \\\n",
      "0  Furniture>Entryway Furniture>Entryway Tables                        \n",
      "1  Furniture>Living Room Furniture>Accent Tables>End Tables            \n",
      "2  Furniture>Living Room Furniture>Accent Tables>Coffee Tables         \n",
      "3  Furniture>Living Room Furniture>Accent Tables>Console Tables        \n",
      "4  Furniture>Living Room Furniture>Accent Tables>Indoor Plant Stands   \n",
      "\n",
      "          Display_name  \n",
      "0  Entryway Tables      \n",
      "1  End Tables           \n",
      "2  Coffee Tables        \n",
      "3  Console Tables       \n",
      "4  Indoor Plant Stands  \n"
     ]
    }
   ],
   "source": [
    "navigations = read_in_dataset('Visual_navigations.csv', verbose=True)"
   ]
  },
  {
   "cell_type": "markdown",
   "metadata": {
    "hidden": true
   },
   "source": [
    "### Unique Search Terms"
   ]
  },
  {
   "cell_type": "code",
   "execution_count": 114,
   "metadata": {
    "ExecuteTime": {
     "end_time": "2019-07-19T00:07:32.407307Z",
     "start_time": "2019-07-19T00:07:32.396196Z"
    },
    "hidden": true
   },
   "outputs": [
    {
     "name": "stdout",
     "output_type": "stream",
     "text": [
      "Number of Unique Search Terms: 354\n",
      "Number of Unique Display Names: 233\n"
     ]
    }
   ],
   "source": [
    "# Number of unique search terms\n",
    "print(\"Number of Unique Search Terms: {}\".format(navigations['Search_term'].nunique()))\n",
    "print(\"Number of Unique Display Names: {}\".format(navigations['Display_name'].nunique()))"
   ]
  },
  {
   "cell_type": "code",
   "execution_count": 148,
   "metadata": {
    "ExecuteTime": {
     "end_time": "2019-07-19T00:34:54.666882Z",
     "start_time": "2019-07-19T00:34:54.661170Z"
    },
    "hidden": true
   },
   "outputs": [
    {
     "name": "stdout",
     "output_type": "stream",
     "text": [
      "accent table\n",
      "accent tables\n",
      "adhesive backsplash\n",
      "adhesive tile backsplash\n",
      "arm chair\n",
      "armchair\n"
     ]
    }
   ],
   "source": [
    "# View Unique Search Terms\n",
    "for w in navigations['Search_term'].unique()[:6]:\n",
    "    print(w)"
   ]
  },
  {
   "cell_type": "markdown",
   "metadata": {
    "hidden": true
   },
   "source": [
    "We will have to consolidate our search terms. We have some search terms differ in:\n",
    "* noun term (single/plural)\n",
    "* Spaces\n",
    "* Omitting 1 descriptive word \n",
    "* Stop words"
   ]
  },
  {
   "cell_type": "markdown",
   "metadata": {
    "hidden": true
   },
   "source": [
    "### Recommended Category Depth"
   ]
  },
  {
   "cell_type": "code",
   "execution_count": 17,
   "metadata": {
    "ExecuteTime": {
     "end_time": "2019-07-16T04:19:05.053119Z",
     "start_time": "2019-07-16T04:19:05.044399Z"
    },
    "hidden": true
   },
   "outputs": [
    {
     "name": "stdout",
     "output_type": "stream",
     "text": [
      "Max Number of Category Levels: 5\n"
     ]
    }
   ],
   "source": [
    "# Max Number of Levels\n",
    "get_num_of_levels(navigations['Recommended_category'], verbose=True);"
   ]
  },
  {
   "cell_type": "code",
   "execution_count": 155,
   "metadata": {
    "ExecuteTime": {
     "end_time": "2019-07-19T00:38:38.648903Z",
     "start_time": "2019-07-19T00:38:38.630715Z"
    },
    "hidden": true
   },
   "outputs": [
    {
     "data": {
      "text/html": [
       "<div>\n",
       "<style scoped>\n",
       "    .dataframe tbody tr th:only-of-type {\n",
       "        vertical-align: middle;\n",
       "    }\n",
       "\n",
       "    .dataframe tbody tr th {\n",
       "        vertical-align: top;\n",
       "    }\n",
       "\n",
       "    .dataframe thead th {\n",
       "        text-align: right;\n",
       "    }\n",
       "</style>\n",
       "<table border=\"1\" class=\"dataframe\">\n",
       "  <thead>\n",
       "    <tr style=\"text-align: right;\">\n",
       "      <th></th>\n",
       "      <th>Search_term</th>\n",
       "      <th>Display_name</th>\n",
       "      <th>L1</th>\n",
       "      <th>L2</th>\n",
       "      <th>L3</th>\n",
       "      <th>L4</th>\n",
       "      <th>L5</th>\n",
       "    </tr>\n",
       "  </thead>\n",
       "  <tbody>\n",
       "    <tr>\n",
       "      <th>0</th>\n",
       "      <td>accent table</td>\n",
       "      <td>Entryway Tables</td>\n",
       "      <td>Furniture</td>\n",
       "      <td>Entryway Furniture</td>\n",
       "      <td>Entryway Tables</td>\n",
       "      <td>NaN</td>\n",
       "      <td>NaN</td>\n",
       "    </tr>\n",
       "    <tr>\n",
       "      <th>1</th>\n",
       "      <td>accent table</td>\n",
       "      <td>End Tables</td>\n",
       "      <td>Furniture</td>\n",
       "      <td>Living Room Furniture</td>\n",
       "      <td>Accent Tables</td>\n",
       "      <td>End Tables</td>\n",
       "      <td>NaN</td>\n",
       "    </tr>\n",
       "    <tr>\n",
       "      <th>2</th>\n",
       "      <td>accent table</td>\n",
       "      <td>Coffee Tables</td>\n",
       "      <td>Furniture</td>\n",
       "      <td>Living Room Furniture</td>\n",
       "      <td>Accent Tables</td>\n",
       "      <td>Coffee Tables</td>\n",
       "      <td>NaN</td>\n",
       "    </tr>\n",
       "    <tr>\n",
       "      <th>3</th>\n",
       "      <td>accent table</td>\n",
       "      <td>Console Tables</td>\n",
       "      <td>Furniture</td>\n",
       "      <td>Living Room Furniture</td>\n",
       "      <td>Accent Tables</td>\n",
       "      <td>Console Tables</td>\n",
       "      <td>NaN</td>\n",
       "    </tr>\n",
       "    <tr>\n",
       "      <th>4</th>\n",
       "      <td>accent table</td>\n",
       "      <td>Indoor Plant Stands</td>\n",
       "      <td>Furniture</td>\n",
       "      <td>Living Room Furniture</td>\n",
       "      <td>Accent Tables</td>\n",
       "      <td>Indoor Plant Stands</td>\n",
       "      <td>NaN</td>\n",
       "    </tr>\n",
       "  </tbody>\n",
       "</table>\n",
       "</div>"
      ],
      "text/plain": [
       "    Search_term         Display_name         L1                     L2  \\\n",
       "0  accent table  Entryway Tables      Furniture  Entryway Furniture      \n",
       "1  accent table  End Tables           Furniture  Living Room Furniture   \n",
       "2  accent table  Coffee Tables        Furniture  Living Room Furniture   \n",
       "3  accent table  Console Tables       Furniture  Living Room Furniture   \n",
       "4  accent table  Indoor Plant Stands  Furniture  Living Room Furniture   \n",
       "\n",
       "                L3                   L4   L5  \n",
       "0  Entryway Tables  NaN                  NaN  \n",
       "1  Accent Tables    End Tables           NaN  \n",
       "2  Accent Tables    Coffee Tables        NaN  \n",
       "3  Accent Tables    Console Tables       NaN  \n",
       "4  Accent Tables    Indoor Plant Stands  NaN  "
      ]
     },
     "execution_count": 155,
     "metadata": {},
     "output_type": "execute_result"
    }
   ],
   "source": [
    "# Flatten nested category column into separate columns \n",
    "search_cat_path = flatten_categories(navigations['Recommended_category'], df=navigations, drop_col='Recommended_category', sep='>')\n",
    "search_cat_path.head()"
   ]
  },
  {
   "cell_type": "markdown",
   "metadata": {
    "hidden": true
   },
   "source": [
    "### Display Names by Search Term"
   ]
  },
  {
   "cell_type": "code",
   "execution_count": 160,
   "metadata": {
    "ExecuteTime": {
     "end_time": "2019-07-19T00:50:48.850914Z",
     "start_time": "2019-07-19T00:50:48.839855Z"
    },
    "hidden": true
   },
   "outputs": [
    {
     "data": {
      "text/plain": [
       "count    354.0\n",
       "mean     3.0  \n",
       "std      1.0  \n",
       "min      2.0  \n",
       "25%      2.0  \n",
       "50%      3.0  \n",
       "75%      4.0  \n",
       "max      7.0  \n",
       "Name: Display_name, dtype: float64"
      ]
     },
     "execution_count": 160,
     "metadata": {},
     "output_type": "execute_result"
    }
   ],
   "source": [
    "# View number of Display Names per Search Term\n",
    "\n",
    "navigations.groupby('Search_term')['Display_name'].count().describe().round(0)"
   ]
  },
  {
   "cell_type": "code",
   "execution_count": 21,
   "metadata": {
    "ExecuteTime": {
     "end_time": "2019-07-15T19:25:34.577187Z",
     "start_time": "2019-07-15T19:25:34.532018Z"
    },
    "hidden": true
   },
   "outputs": [
    {
     "data": {
      "text/html": [
       "<div>\n",
       "<style scoped>\n",
       "    .dataframe tbody tr th:only-of-type {\n",
       "        vertical-align: middle;\n",
       "    }\n",
       "\n",
       "    .dataframe tbody tr th {\n",
       "        vertical-align: top;\n",
       "    }\n",
       "\n",
       "    .dataframe thead th {\n",
       "        text-align: right;\n",
       "    }\n",
       "</style>\n",
       "<table border=\"1\" class=\"dataframe\">\n",
       "  <thead>\n",
       "    <tr style=\"text-align: right;\">\n",
       "      <th></th>\n",
       "      <th>Display_name</th>\n",
       "    </tr>\n",
       "    <tr>\n",
       "      <th>Search_term</th>\n",
       "      <th></th>\n",
       "    </tr>\n",
       "  </thead>\n",
       "  <tbody>\n",
       "    <tr>\n",
       "      <th>accent table</th>\n",
       "      <td>[Entryway Tables, End Tables, Coffee Tables, Console Tables, Indoor Plant Stands]</td>\n",
       "    </tr>\n",
       "    <tr>\n",
       "      <th>accent tables</th>\n",
       "      <td>[Entryway Tables, End Tables, Coffee Tables, Console Tables, Indoor Plant Stands]</td>\n",
       "    </tr>\n",
       "    <tr>\n",
       "      <th>adhesive backsplash</th>\n",
       "      <td>[Metal Backsplash, Tile Backsplash]</td>\n",
       "    </tr>\n",
       "    <tr>\n",
       "      <th>adhesive tile backsplash</th>\n",
       "      <td>[Metal Backsplash, Tile Backsplash]</td>\n",
       "    </tr>\n",
       "    <tr>\n",
       "      <th>arm chair</th>\n",
       "      <td>[Folding Chairs, Office Chairs, Accent Chairs, Outdoor Dining Chairs]</td>\n",
       "    </tr>\n",
       "  </tbody>\n",
       "</table>\n",
       "</div>"
      ],
      "text/plain": [
       "                                                                                               Display_name\n",
       "Search_term                                                                                                \n",
       "accent table              [Entryway Tables, End Tables, Coffee Tables, Console Tables, Indoor Plant Stands]\n",
       "accent tables             [Entryway Tables, End Tables, Coffee Tables, Console Tables, Indoor Plant Stands]\n",
       "adhesive backsplash       [Metal Backsplash, Tile Backsplash]                                              \n",
       "adhesive tile backsplash  [Metal Backsplash, Tile Backsplash]                                              \n",
       "arm chair                 [Folding Chairs, Office Chairs, Accent Chairs, Outdoor Dining Chairs]            "
      ]
     },
     "execution_count": 21,
     "metadata": {},
     "output_type": "execute_result"
    }
   ],
   "source": [
    "# View Display Names by Search Term (Targets)\n",
    "term_display_names = pd.DataFrame(navigations.groupby('Search_term')['Display_name'].apply(list))\n",
    "term_display_names.head()"
   ]
  },
  {
   "cell_type": "code",
   "execution_count": 162,
   "metadata": {
    "ExecuteTime": {
     "end_time": "2019-07-19T00:52:44.759987Z",
     "start_time": "2019-07-19T00:52:44.756050Z"
    },
    "hidden": true
   },
   "outputs": [],
   "source": [
    "#navigations.pivot_table(index='Search_term', columns='Display_name', aggfunc='count').head()"
   ]
  },
  {
   "cell_type": "markdown",
   "metadata": {
    "hidden": true
   },
   "source": [
    "### Search Impressions"
   ]
  },
  {
   "cell_type": "code",
   "execution_count": 164,
   "metadata": {
    "ExecuteTime": {
     "end_time": "2019-07-19T00:53:02.510207Z",
     "start_time": "2019-07-19T00:53:02.493693Z"
    },
    "hidden": true
   },
   "outputs": [
    {
     "name": "stdout",
     "output_type": "stream",
     "text": [
      "\n",
      "------------ Reading in the following dataset: Search_impression.csv------------\n",
      "\n",
      " Shape: 354 rows and 2 columns\n",
      "\n",
      "------------------------- It has the following columns -------------------------\n",
      "\n",
      "Index(['Search_term', 'Impression'], dtype='object')\n",
      "\n",
      "----------------------- The first 5 rows look like this ------------------------\n",
      "\n",
      "         Search_term  \\\n",
      "0  coffee              \n",
      "1  bag chair           \n",
      "2  kitchen wall tile   \n",
      "3  mirror tile         \n",
      "4  entryway            \n",
      "\n",
      "                                                                                                                                                                                                                                        Impression  \n",
      "0  203054703;207061099;305561354;305561469;301692317;206090043;206090041;300742646;204077166;206090050;305365754;206090042;305365870;302776630;206090598;204077145;305848381;206735001;305974710;206090049;207061098;203299655;206090048;303917139  \n",
      "1  305573411;305608772;301092388;301092383;301092391;305676166;305676517;305676196;305676124;305676969;305676104;207061513;207061509;207061519;206267150;301092396;303324211;300168381;207061486;204624719;305573360;302643392;207061500;207061517  \n",
      "2  205140711;302603437;205762409;204923728;204337886;204695051;204065143;204289147;204170143;300942624;205858982;206638691;203213521;300947962;302570935;206279726;205626148;206635972;300046421;205889117;203447805;205140722;203029952;205960149  \n",
      "3  305696621;304142073;304142126;304142039;303058463;304187832;303383559;305696699;100656412;304188432;304185242;303382986;206822976;303115245;206822972;206822559;206553088;304352832;304188444;303383001;304189009;206553089;304188317;304184997  \n",
      "4  203532713;203532652;300750153;302042988;302042995;302042994;206639873;203532749;300750157;206639875;204749403;204123232;203532743;303569609;304302934;303576547;304257392;303579718;204749370;303582863;204749400;303577515;303576183;304302931  \n"
     ]
    }
   ],
   "source": [
    "search_imp = read_in_dataset('Search_impression.csv', verbose=True)"
   ]
  },
  {
   "cell_type": "code",
   "execution_count": 171,
   "metadata": {
    "ExecuteTime": {
     "end_time": "2019-07-19T00:55:41.405605Z",
     "start_time": "2019-07-19T00:55:41.400278Z"
    },
    "hidden": true
   },
   "outputs": [],
   "source": [
    "#Split impressions into string with space for count vectorizer \n",
    "# (e.g. 203054703;207061099 t0 203054703 207061099)\n",
    "search_imp['Impression']= search_imp['Impression'].str.replace(';',' ')"
   ]
  },
  {
   "cell_type": "code",
   "execution_count": 262,
   "metadata": {
    "ExecuteTime": {
     "end_time": "2019-07-19T01:46:15.775408Z",
     "start_time": "2019-07-19T01:46:15.627738Z"
    },
    "hidden": true
   },
   "outputs": [
    {
     "data": {
      "image/png": "[encoded data removed]",
      "text/plain": [
       "<Figure size 748.8x514.8 with 1 Axes>"
      ]
     },
     "metadata": {},
     "output_type": "display_data"
    }
   ],
   "source": [
    "#Average amount of words per search term\n",
    "search_imp['Search_term'].str.split().apply(len).plot.hist(bins=6)\n",
    "plt.title(\"Histogram for Search Term Length\")\n",
    "plt.xlabel(\"Number of Words\")\n",
    "plt.ylabel(\"Frequency\")\n",
    "plt.box(False)"
   ]
  },
  {
   "cell_type": "markdown",
   "metadata": {
    "heading_collapsed": true
   },
   "source": [
    "# Test"
   ]
  },
  {
   "cell_type": "code",
   "execution_count": 171,
   "metadata": {
    "hidden": true
   },
   "outputs": [],
   "source": [
    "# List of products accent table\n",
    "at_prods = search_imp[search_imp['Search_term'] =='end table']['Impression'].str.split()\n",
    "#a = at_prods.to_list()\n",
    "#at_prods= a[0]\n",
    "\n",
    "# labels\n",
    "def get_labels(prod_lst=at_prods):\n",
    "    \n",
    "    labels = []\n",
    "    for prod in prod_lst:\n",
    "        lst = catalog.loc[int(prod)]\n",
    "        \n",
    "        if len(lst)>1:\n",
    "            lsts = catalog.loc[int(prod)]['Category'].to_list()\n",
    "            for l in lsts:\n",
    "                labels.extend(l)\n",
    "        else:\n",
    "            labels.extend(lst['Category'])\n",
    "        \n",
    "    d = Counter(labels)\n",
    "    \n",
    "    return d \n",
    "    "
   ]
  },
  {
   "cell_type": "code",
   "execution_count": 172,
   "metadata": {
    "hidden": true
   },
   "outputs": [
    {
     "data": {
      "text/plain": [
       "Counter()"
      ]
     },
     "execution_count": 172,
     "metadata": {},
     "output_type": "execute_result"
    }
   ],
   "source": [
    "get_labels()"
   ]
  },
  {
   "cell_type": "code",
   "execution_count": 114,
   "metadata": {
    "hidden": true
   },
   "outputs": [],
   "source": [
    "labels = []\n",
    "for prod in at_prods:\n",
    "    labels.extend(catalog.loc[int(prod)]['Category'])"
   ]
  },
  {
   "cell_type": "code",
   "execution_count": 165,
   "metadata": {
    "hidden": true
   },
   "outputs": [
    {
     "data": {
      "text/plain": [
       "1"
      ]
     },
     "execution_count": 165,
     "metadata": {},
     "output_type": "execute_result"
    }
   ],
   "source": [
    "len(catalog.loc[int(at_prods[0])])"
   ]
  },
  {
   "cell_type": "code",
   "execution_count": 106,
   "metadata": {
    "hidden": true
   },
   "outputs": [],
   "source": [
    "labels.append(catalog.loc[int(at_prods[0])])"
   ]
  },
  {
   "cell_type": "code",
   "execution_count": 111,
   "metadata": {
    "hidden": true
   },
   "outputs": [
    {
     "data": {
      "text/plain": [
       "['Furniture', 'Living Room Furniture', 'Accent Tables', 'End Tables']"
      ]
     },
     "execution_count": 111,
     "metadata": {},
     "output_type": "execute_result"
    }
   ],
   "source": [
    "catalog.loc[int(at_prods[0])]['Category']"
   ]
  },
  {
   "cell_type": "code",
   "execution_count": 85,
   "metadata": {
    "hidden": true
   },
   "outputs": [
    {
     "data": {
      "text/html": [
       "<div>\n",
       "<style scoped>\n",
       "    .dataframe tbody tr th:only-of-type {\n",
       "        vertical-align: middle;\n",
       "    }\n",
       "\n",
       "    .dataframe tbody tr th {\n",
       "        vertical-align: top;\n",
       "    }\n",
       "\n",
       "    .dataframe thead th {\n",
       "        text-align: right;\n",
       "    }\n",
       "</style>\n",
       "<table border=\"1\" class=\"dataframe\">\n",
       "  <thead>\n",
       "    <tr style=\"text-align: right;\">\n",
       "      <th></th>\n",
       "      <th>Category</th>\n",
       "    </tr>\n",
       "    <tr>\n",
       "      <th>SKU_ID</th>\n",
       "      <th></th>\n",
       "    </tr>\n",
       "  </thead>\n",
       "  <tbody>\n",
       "    <tr>\n",
       "      <th>302087889</th>\n",
       "      <td>[Lighting, Sconces]</td>\n",
       "    </tr>\n",
       "  </tbody>\n",
       "</table>\n",
       "</div>"
      ],
      "text/plain": [
       "                      Category\n",
       "SKU_ID                        \n",
       "302087889  [Lighting, Sconces]"
      ]
     },
     "execution_count": 85,
     "metadata": {},
     "output_type": "execute_result"
    }
   ],
   "source": [
    "catalog.head(1)"
   ]
  },
  {
   "cell_type": "code",
   "execution_count": 89,
   "metadata": {
    "hidden": true
   },
   "outputs": [
    {
     "data": {
      "text/plain": [
       "Category    [Lighting, Sconces]\n",
       "Name: 302087889, dtype: object"
      ]
     },
     "execution_count": 89,
     "metadata": {},
     "output_type": "execute_result"
    }
   ],
   "source": [
    "catalog.loc[302087889]"
   ]
  },
  {
   "cell_type": "code",
   "execution_count": 174,
   "metadata": {
    "hidden": true
   },
   "outputs": [
    {
     "data": {
      "text/html": [
       "<div>\n",
       "<style scoped>\n",
       "    .dataframe tbody tr th:only-of-type {\n",
       "        vertical-align: middle;\n",
       "    }\n",
       "\n",
       "    .dataframe tbody tr th {\n",
       "        vertical-align: top;\n",
       "    }\n",
       "\n",
       "    .dataframe thead th {\n",
       "        text-align: right;\n",
       "    }\n",
       "</style>\n",
       "<table border=\"1\" class=\"dataframe\">\n",
       "  <thead>\n",
       "    <tr style=\"text-align: right;\">\n",
       "      <th></th>\n",
       "      <th>Search_term</th>\n",
       "      <th>Impression</th>\n",
       "    </tr>\n",
       "  </thead>\n",
       "  <tbody>\n",
       "  </tbody>\n",
       "</table>\n",
       "</div>"
      ],
      "text/plain": [
       "Empty DataFrame\n",
       "Columns: [Search_term, Impression]\n",
       "Index: []"
      ]
     },
     "execution_count": 174,
     "metadata": {},
     "output_type": "execute_result"
    }
   ],
   "source": [
    "search_imp[search_imp['Search_term'] =='end table']"
   ]
  },
  {
   "cell_type": "code",
   "execution_count": 39,
   "metadata": {
    "hidden": true
   },
   "outputs": [
    {
     "data": {
      "text/html": [
       "<div>\n",
       "<style scoped>\n",
       "    .dataframe tbody tr th:only-of-type {\n",
       "        vertical-align: middle;\n",
       "    }\n",
       "\n",
       "    .dataframe tbody tr th {\n",
       "        vertical-align: top;\n",
       "    }\n",
       "\n",
       "    .dataframe thead th {\n",
       "        text-align: right;\n",
       "    }\n",
       "</style>\n",
       "<table border=\"1\" class=\"dataframe\">\n",
       "  <thead>\n",
       "    <tr style=\"text-align: right;\">\n",
       "      <th></th>\n",
       "      <th>SKU_ID</th>\n",
       "      <th>Product_name</th>\n",
       "      <th>Description</th>\n",
       "      <th>Department</th>\n",
       "      <th>L1</th>\n",
       "      <th>L2</th>\n",
       "      <th>L3</th>\n",
       "      <th>L4</th>\n",
       "      <th>L5</th>\n",
       "      <th>L6</th>\n",
       "    </tr>\n",
       "  </thead>\n",
       "  <tbody>\n",
       "    <tr>\n",
       "      <th>0</th>\n",
       "      <td>202524817</td>\n",
       "      <td>8 in. x 4 in. x 16 in. Concrete Solid Block</td>\n",
       "      <td>This 8 in. x 4 in. x 16 in. Solid Concrete Block makes a great choice for the construction of Piers in Pier and Beam construction or mobile home installation. It is also a great block to use as a spacer block between other units to obtain an optimal height.</td>\n",
       "      <td>Non-Decor</td>\n",
       "      <td>Building Materials</td>\n",
       "      <td>Concrete, Cement &amp; Masonry</td>\n",
       "      <td>Concrete Blocks &amp; Bricks</td>\n",
       "      <td>Cinder Blocks</td>\n",
       "      <td>NaN</td>\n",
       "      <td>NaN</td>\n",
       "    </tr>\n",
       "    <tr>\n",
       "      <th>1</th>\n",
       "      <td>301169855</td>\n",
       "      <td>Hummingbird Stencil</td>\n",
       "      <td>This easy-to-use Hummingbird Stencil from Stencil1 is perfect for walls, home decor, clothing and more. Each stencil is cut high quality in order to provide a long lasting design. The possibilities of what you can create with a Stencil1 stencil are endless.</td>\n",
       "      <td>Non-Decor</td>\n",
       "      <td>Home Decor</td>\n",
       "      <td>Wall Decor</td>\n",
       "      <td>Wall Stencils</td>\n",
       "      <td>NaN</td>\n",
       "      <td>NaN</td>\n",
       "      <td>NaN</td>\n",
       "    </tr>\n",
       "    <tr>\n",
       "      <th>2</th>\n",
       "      <td>301169855</td>\n",
       "      <td>Hummingbird Stencil</td>\n",
       "      <td>This easy-to-use Hummingbird Stencil from Stencil1 is perfect for walls, home decor, clothing and more. Each stencil is cut high quality in order to provide a long lasting design. The possibilities of what you can create with a Stencil1 stencil are endless.</td>\n",
       "      <td>Non-Decor</td>\n",
       "      <td>Paint</td>\n",
       "      <td>Craft &amp; Art Supplies</td>\n",
       "      <td>Stencils</td>\n",
       "      <td>NaN</td>\n",
       "      <td>NaN</td>\n",
       "      <td>NaN</td>\n",
       "    </tr>\n",
       "    <tr>\n",
       "      <th>3</th>\n",
       "      <td>207096840</td>\n",
       "      <td>24 in. x 24 in. x 2 in Acrylic clear/White Dry erase board</td>\n",
       "      <td>The BOOM BOOM board is a high end dry erase board made from acrylic. This product is available in three colors; clear (with white backing), white and black. This can be placed in schools, meeting rooms, cafeterias and anywhere else where dry erase is needed.</td>\n",
       "      <td>Non-Decor</td>\n",
       "      <td>Building Materials</td>\n",
       "      <td>Glass &amp; Plastic Sheets</td>\n",
       "      <td>Acrylic Sheets</td>\n",
       "      <td>NaN</td>\n",
       "      <td>NaN</td>\n",
       "      <td>NaN</td>\n",
       "    </tr>\n",
       "    <tr>\n",
       "      <th>4</th>\n",
       "      <td>207096521</td>\n",
       "      <td>48 in. x 96 in. x 2 in Clear/White Boom Dry erase board</td>\n",
       "      <td>The BOOM BOOM board is a high end dry erase board made from acrylic. This product is available in three colors; clear (with white backing), white and black. This can be placed in schools, meeting rooms, cafeterias and anywhere else where dry erase is needed.</td>\n",
       "      <td>Non-Decor</td>\n",
       "      <td>Building Materials</td>\n",
       "      <td>Glass &amp; Plastic Sheets</td>\n",
       "      <td>Acrylic Sheets</td>\n",
       "      <td>NaN</td>\n",
       "      <td>NaN</td>\n",
       "      <td>NaN</td>\n",
       "    </tr>\n",
       "  </tbody>\n",
       "</table>\n",
       "</div>"
      ],
      "text/plain": [
       "      SKU_ID                                                Product_name  \\\n",
       "0  202524817  8 in. x 4 in. x 16 in. Concrete Solid Block                  \n",
       "1  301169855  Hummingbird Stencil                                          \n",
       "2  301169855  Hummingbird Stencil                                          \n",
       "3  207096840  24 in. x 24 in. x 2 in Acrylic clear/White Dry erase board   \n",
       "4  207096521  48 in. x 96 in. x 2 in Clear/White Boom Dry erase board      \n",
       "\n",
       "                                                                                                                                                                                                                                                          Description  \\\n",
       "0  This 8 in. x 4 in. x 16 in. Solid Concrete Block makes a great choice for the construction of Piers in Pier and Beam construction or mobile home installation. It is also a great block to use as a spacer block between other units to obtain an optimal height.    \n",
       "1  This easy-to-use Hummingbird Stencil from Stencil1 is perfect for walls, home decor, clothing and more. Each stencil is cut high quality in order to provide a long lasting design. The possibilities of what you can create with a Stencil1 stencil are endless.    \n",
       "2  This easy-to-use Hummingbird Stencil from Stencil1 is perfect for walls, home decor, clothing and more. Each stencil is cut high quality in order to provide a long lasting design. The possibilities of what you can create with a Stencil1 stencil are endless.    \n",
       "3  The BOOM BOOM board is a high end dry erase board made from acrylic. This product is available in three colors; clear (with white backing), white and black. This can be placed in schools, meeting rooms, cafeterias and anywhere else where dry erase is needed.   \n",
       "4  The BOOM BOOM board is a high end dry erase board made from acrylic. This product is available in three colors; clear (with white backing), white and black. This can be placed in schools, meeting rooms, cafeterias and anywhere else where dry erase is needed.   \n",
       "\n",
       "  Department                  L1                          L2  \\\n",
       "0  Non-Decor  Building Materials  Concrete, Cement & Masonry   \n",
       "1  Non-Decor  Home Decor          Wall Decor                   \n",
       "2  Non-Decor  Paint               Craft & Art Supplies         \n",
       "3  Non-Decor  Building Materials  Glass & Plastic Sheets       \n",
       "4  Non-Decor  Building Materials  Glass & Plastic Sheets       \n",
       "\n",
       "                         L3             L4   L5   L6  \n",
       "0  Concrete Blocks & Bricks  Cinder Blocks  NaN  NaN  \n",
       "1  Wall Stencils             NaN            NaN  NaN  \n",
       "2  Stencils                  NaN            NaN  NaN  \n",
       "3  Acrylic Sheets            NaN            NaN  NaN  \n",
       "4  Acrylic Sheets            NaN            NaN  NaN  "
      ]
     },
     "execution_count": 39,
     "metadata": {},
     "output_type": "execute_result"
    }
   ],
   "source": [
    "prod_desc_cat"
   ]
  },
  {
   "cell_type": "markdown",
   "metadata": {
    "hidden": true
   },
   "source": [
    "**Sparse Matrix for Search Terms and SKU**"
   ]
  },
  {
   "cell_type": "code",
   "execution_count": 24,
   "metadata": {
    "ExecuteTime": {
     "end_time": "2019-07-15T19:25:43.121109Z",
     "start_time": "2019-07-15T19:25:43.117549Z"
    },
    "hidden": true
   },
   "outputs": [],
   "source": [
    "from sklearn.feature_extraction.text import CountVectorizer "
   ]
  },
  {
   "cell_type": "code",
   "execution_count": 25,
   "metadata": {
    "ExecuteTime": {
     "end_time": "2019-07-15T19:25:43.536557Z",
     "start_time": "2019-07-15T19:25:43.501435Z"
    },
    "hidden": true
   },
   "outputs": [
    {
     "data": {
      "text/plain": [
       "(354, 4764)"
      ]
     },
     "execution_count": 25,
     "metadata": {},
     "output_type": "execute_result"
    }
   ],
   "source": [
    "vectorizer = CountVectorizer()\n",
    "term_sku = vectorizer.fit_transform(search_imp['Impression'])\n",
    "term_sku.shape"
   ]
  },
  {
   "cell_type": "code",
   "execution_count": 26,
   "metadata": {
    "ExecuteTime": {
     "end_time": "2019-07-15T19:25:43.883422Z",
     "start_time": "2019-07-15T19:25:43.859609Z"
    },
    "hidden": true
   },
   "outputs": [
    {
     "data": {
      "text/html": [
       "<div>\n",
       "<style scoped>\n",
       "    .dataframe tbody tr th:only-of-type {\n",
       "        vertical-align: middle;\n",
       "    }\n",
       "\n",
       "    .dataframe tbody tr th {\n",
       "        vertical-align: top;\n",
       "    }\n",
       "\n",
       "    .dataframe thead th {\n",
       "        text-align: right;\n",
       "    }\n",
       "</style>\n",
       "<table border=\"1\" class=\"dataframe\">\n",
       "  <thead>\n",
       "    <tr style=\"text-align: right;\">\n",
       "      <th></th>\n",
       "      <th>100012014</th>\n",
       "      <th>100022800</th>\n",
       "      <th>100023109</th>\n",
       "      <th>100023973</th>\n",
       "      <th>100036137</th>\n",
       "      <th>100044505</th>\n",
       "      <th>100048075</th>\n",
       "      <th>100051570</th>\n",
       "      <th>100061089</th>\n",
       "      <th>100074869</th>\n",
       "      <th>...</th>\n",
       "      <th>307717049</th>\n",
       "      <th>307717219</th>\n",
       "      <th>307717221</th>\n",
       "      <th>307727052</th>\n",
       "      <th>307833295</th>\n",
       "      <th>307920434</th>\n",
       "      <th>307939445</th>\n",
       "      <th>307939707</th>\n",
       "      <th>307940057</th>\n",
       "      <th>307940314</th>\n",
       "    </tr>\n",
       "    <tr>\n",
       "      <th>Search_term</th>\n",
       "      <th></th>\n",
       "      <th></th>\n",
       "      <th></th>\n",
       "      <th></th>\n",
       "      <th></th>\n",
       "      <th></th>\n",
       "      <th></th>\n",
       "      <th></th>\n",
       "      <th></th>\n",
       "      <th></th>\n",
       "      <th></th>\n",
       "      <th></th>\n",
       "      <th></th>\n",
       "      <th></th>\n",
       "      <th></th>\n",
       "      <th></th>\n",
       "      <th></th>\n",
       "      <th></th>\n",
       "      <th></th>\n",
       "      <th></th>\n",
       "      <th></th>\n",
       "    </tr>\n",
       "  </thead>\n",
       "  <tbody>\n",
       "    <tr>\n",
       "      <th>coffee</th>\n",
       "      <td>0</td>\n",
       "      <td>0</td>\n",
       "      <td>0</td>\n",
       "      <td>0</td>\n",
       "      <td>0</td>\n",
       "      <td>0</td>\n",
       "      <td>0</td>\n",
       "      <td>0</td>\n",
       "      <td>0</td>\n",
       "      <td>0</td>\n",
       "      <td>...</td>\n",
       "      <td>0</td>\n",
       "      <td>0</td>\n",
       "      <td>0</td>\n",
       "      <td>0</td>\n",
       "      <td>0</td>\n",
       "      <td>0</td>\n",
       "      <td>0</td>\n",
       "      <td>0</td>\n",
       "      <td>0</td>\n",
       "      <td>0</td>\n",
       "    </tr>\n",
       "    <tr>\n",
       "      <th>bag chair</th>\n",
       "      <td>0</td>\n",
       "      <td>0</td>\n",
       "      <td>0</td>\n",
       "      <td>0</td>\n",
       "      <td>0</td>\n",
       "      <td>0</td>\n",
       "      <td>0</td>\n",
       "      <td>0</td>\n",
       "      <td>0</td>\n",
       "      <td>0</td>\n",
       "      <td>...</td>\n",
       "      <td>0</td>\n",
       "      <td>0</td>\n",
       "      <td>0</td>\n",
       "      <td>0</td>\n",
       "      <td>0</td>\n",
       "      <td>0</td>\n",
       "      <td>0</td>\n",
       "      <td>0</td>\n",
       "      <td>0</td>\n",
       "      <td>0</td>\n",
       "    </tr>\n",
       "    <tr>\n",
       "      <th>kitchen wall tile</th>\n",
       "      <td>0</td>\n",
       "      <td>0</td>\n",
       "      <td>0</td>\n",
       "      <td>0</td>\n",
       "      <td>0</td>\n",
       "      <td>0</td>\n",
       "      <td>0</td>\n",
       "      <td>0</td>\n",
       "      <td>0</td>\n",
       "      <td>0</td>\n",
       "      <td>...</td>\n",
       "      <td>0</td>\n",
       "      <td>0</td>\n",
       "      <td>0</td>\n",
       "      <td>0</td>\n",
       "      <td>0</td>\n",
       "      <td>0</td>\n",
       "      <td>0</td>\n",
       "      <td>0</td>\n",
       "      <td>0</td>\n",
       "      <td>0</td>\n",
       "    </tr>\n",
       "    <tr>\n",
       "      <th>mirror tile</th>\n",
       "      <td>0</td>\n",
       "      <td>0</td>\n",
       "      <td>0</td>\n",
       "      <td>0</td>\n",
       "      <td>0</td>\n",
       "      <td>0</td>\n",
       "      <td>0</td>\n",
       "      <td>0</td>\n",
       "      <td>0</td>\n",
       "      <td>0</td>\n",
       "      <td>...</td>\n",
       "      <td>0</td>\n",
       "      <td>0</td>\n",
       "      <td>0</td>\n",
       "      <td>0</td>\n",
       "      <td>0</td>\n",
       "      <td>0</td>\n",
       "      <td>0</td>\n",
       "      <td>0</td>\n",
       "      <td>0</td>\n",
       "      <td>0</td>\n",
       "    </tr>\n",
       "    <tr>\n",
       "      <th>entryway</th>\n",
       "      <td>0</td>\n",
       "      <td>0</td>\n",
       "      <td>0</td>\n",
       "      <td>0</td>\n",
       "      <td>0</td>\n",
       "      <td>0</td>\n",
       "      <td>0</td>\n",
       "      <td>0</td>\n",
       "      <td>0</td>\n",
       "      <td>0</td>\n",
       "      <td>...</td>\n",
       "      <td>0</td>\n",
       "      <td>0</td>\n",
       "      <td>0</td>\n",
       "      <td>0</td>\n",
       "      <td>0</td>\n",
       "      <td>0</td>\n",
       "      <td>0</td>\n",
       "      <td>0</td>\n",
       "      <td>0</td>\n",
       "      <td>0</td>\n",
       "    </tr>\n",
       "  </tbody>\n",
       "</table>\n",
       "<p>5 rows × 4764 columns</p>\n",
       "</div>"
      ],
      "text/plain": [
       "                   100012014  100022800  100023109  100023973  100036137  \\\n",
       "Search_term                                                                \n",
       "coffee             0          0          0          0          0           \n",
       "bag chair          0          0          0          0          0           \n",
       "kitchen wall tile  0          0          0          0          0           \n",
       "mirror tile        0          0          0          0          0           \n",
       "entryway           0          0          0          0          0           \n",
       "\n",
       "                   100044505  100048075  100051570  100061089  100074869  ...  \\\n",
       "Search_term                                                               ...   \n",
       "coffee             0          0          0          0          0          ...   \n",
       "bag chair          0          0          0          0          0          ...   \n",
       "kitchen wall tile  0          0          0          0          0          ...   \n",
       "mirror tile        0          0          0          0          0          ...   \n",
       "entryway           0          0          0          0          0          ...   \n",
       "\n",
       "                   307717049  307717219  307717221  307727052  307833295  \\\n",
       "Search_term                                                                \n",
       "coffee             0          0          0          0          0           \n",
       "bag chair          0          0          0          0          0           \n",
       "kitchen wall tile  0          0          0          0          0           \n",
       "mirror tile        0          0          0          0          0           \n",
       "entryway           0          0          0          0          0           \n",
       "\n",
       "                   307920434  307939445  307939707  307940057  307940314  \n",
       "Search_term                                                               \n",
       "coffee             0          0          0          0          0          \n",
       "bag chair          0          0          0          0          0          \n",
       "kitchen wall tile  0          0          0          0          0          \n",
       "mirror tile        0          0          0          0          0          \n",
       "entryway           0          0          0          0          0          \n",
       "\n",
       "[5 rows x 4764 columns]"
      ]
     },
     "execution_count": 26,
     "metadata": {},
     "output_type": "execute_result"
    }
   ],
   "source": [
    "term_sku_df = pd.DataFrame(term_sku.toarray(), index=search_imp['Search_term'], columns=vectorizer.get_feature_names())\n",
    "term_sku_df.head()"
   ]
  },
  {
   "cell_type": "code",
   "execution_count": null,
   "metadata": {
    "hidden": true
   },
   "outputs": [],
   "source": []
  }
 ],
 "metadata": {
  "hide_input": false,
  "kernelspec": {
   "display_name": "Python [conda env:thddecor]",
   "language": "python",
   "name": "conda-env-thddecor-py"
  },
  "language_info": {
   "codemirror_mode": {
    "name": "ipython",
    "version": 3
   },
   "file_extension": ".py",
   "mimetype": "text/x-python",
   "name": "python",
   "nbconvert_exporter": "python",
   "pygments_lexer": "ipython3",
   "version": "3.7.3"
  },
  "toc": {
   "base_numbering": 1,
   "nav_menu": {},
   "number_sections": true,
   "sideBar": true,
   "skip_h1_title": false,
   "title_cell": "Table of Contents",
   "title_sidebar": "Contents",
   "toc_cell": false,
   "toc_position": {
    "height": "calc(100% - 180px)",
    "left": "10px",
    "top": "150px",
    "width": "165px"
   },
   "toc_section_display": true,
   "toc_window_display": true
  }
 },
 "nbformat": 4,
 "nbformat_minor": 4
}
