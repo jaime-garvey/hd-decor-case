{
 "cells": [
  {
   "cell_type": "markdown",
   "metadata": {
    "toc-hr-collapsed": false
   },
   "source": [
    "# The Home Depot Decor Case\n",
    "\n",
    "Getting Started |  **Data Exploration**  |  Preprocessing  |  Model Tuning  |  Final Model"
   ]
  },
  {
   "cell_type": "code",
   "execution_count": 1,
   "metadata": {
    "ExecuteTime": {
     "end_time": "2019-07-16T21:35:04.226852Z",
     "start_time": "2019-07-16T21:35:04.185246Z"
    }
   },
   "outputs": [],
   "source": [
    "__author__ = 'Jaime Garvey'\n",
    "__email__ = 'jaimemgarvey@gmail.com'"
   ]
  },
  {
   "cell_type": "code",
   "execution_count": 43,
   "metadata": {
    "ExecuteTime": {
     "end_time": "2019-07-16T21:35:05.097513Z",
     "start_time": "2019-07-16T21:35:05.076856Z"
    }
   },
   "outputs": [],
   "source": [
    "import pandas as pd\n",
    "import numpy as np\n",
    "import matplotlib.pyplot as plt\n",
    "\n",
    "from collections import Counter\n",
    "\n",
    "from sklearn.feature_extraction.text import CountVectorizer\n",
    "\n",
    "pd.set_option('display.max_colwidth', -1)"
   ]
  },
  {
   "cell_type": "markdown",
   "metadata": {},
   "source": [
    "**Import Helper Function**"
   ]
  },
  {
   "cell_type": "code",
   "execution_count": 3,
   "metadata": {
    "ExecuteTime": {
     "end_time": "2019-07-16T21:35:05.935983Z",
     "start_time": "2019-07-16T21:35:05.930053Z"
    }
   },
   "outputs": [],
   "source": [
    "# adding the modules directory to path\n",
    "import sys\n",
    "sys.path.insert(0, '../modules')\n",
    "\n",
    "# reading in functions\n",
    "from helpers import read_in_dataset,get_num_of_levels, flatten_categories"
   ]
  },
  {
   "cell_type": "markdown",
   "metadata": {},
   "source": [
    "## Read in Data"
   ]
  },
  {
   "cell_type": "code",
   "execution_count": 4,
   "metadata": {
    "ExecuteTime": {
     "end_time": "2019-07-16T21:35:10.217383Z",
     "start_time": "2019-07-16T21:35:07.926262Z"
    }
   },
   "outputs": [],
   "source": [
    "# Read in product related data\n",
    "verbose_opt = False\n",
    "catalog = read_in_dataset('Decor_catalog.csv', verbose=verbose_opt)\n",
    "prod_desc = read_in_dataset('Product_name_description.csv', verbose=verbose_opt)\n",
    "prod_engagement = read_in_dataset('Product_engagement.csv', verbose=verbose_opt)\n",
    "\n",
    "# Read in search related data\n",
    "navigations = read_in_dataset('Visual_navigations.csv', verbose=verbose_opt)\n",
    "search_imp = read_in_dataset('Search_impression.csv', verbose=verbose_opt)"
   ]
  },
  {
   "cell_type": "markdown",
   "metadata": {
    "heading_collapsed": true
   },
   "source": [
    "## Explore Raw Data\n",
    "* View \n",
    "* Shape\n",
    "* Describe\n",
    "\n",
    "**Datasets:**\n",
    "* Product Datasets: catalog, prod_desc, prod_engagement\n",
    "* Search Datasets navigations, search_imp "
   ]
  },
  {
   "cell_type": "markdown",
   "metadata": {
    "toc-hr-collapsed": true
   },
   "source": [
    "## Product"
   ]
  },
  {
   "cell_type": "markdown",
   "metadata": {
    "heading_collapsed": true,
    "toc-hr-collapsed": true
   },
   "source": [
    "### Decor Catalog"
   ]
  },
  {
   "cell_type": "code",
   "execution_count": 40,
   "metadata": {
    "ExecuteTime": {
     "end_time": "2019-07-16T21:35:19.334632Z",
     "start_time": "2019-07-16T21:35:19.304683Z"
    },
    "hidden": true
   },
   "outputs": [
    {
     "data": {
      "text/html": [
       "<div>\n",
       "<style scoped>\n",
       "    .dataframe tbody tr th:only-of-type {\n",
       "        vertical-align: middle;\n",
       "    }\n",
       "\n",
       "    .dataframe tbody tr th {\n",
       "        vertical-align: top;\n",
       "    }\n",
       "\n",
       "    .dataframe thead th {\n",
       "        text-align: right;\n",
       "    }\n",
       "</style>\n",
       "<table border=\"1\" class=\"dataframe\">\n",
       "  <thead>\n",
       "    <tr style=\"text-align: right;\">\n",
       "      <th></th>\n",
       "      <th>SKU_ID</th>\n",
       "      <th>Category</th>\n",
       "    </tr>\n",
       "  </thead>\n",
       "  <tbody>\n",
       "    <tr>\n",
       "      <th>0</th>\n",
       "      <td>302087889</td>\n",
       "      <td>Lighting&gt;Sconces</td>\n",
       "    </tr>\n",
       "    <tr>\n",
       "      <th>1</th>\n",
       "      <td>301688935</td>\n",
       "      <td>Lighting&gt;Sconces</td>\n",
       "    </tr>\n",
       "    <tr>\n",
       "      <th>2</th>\n",
       "      <td>206788920</td>\n",
       "      <td>Lighting&gt;Sconces</td>\n",
       "    </tr>\n",
       "    <tr>\n",
       "      <th>3</th>\n",
       "      <td>302087892</td>\n",
       "      <td>Lighting&gt;Sconces</td>\n",
       "    </tr>\n",
       "    <tr>\n",
       "      <th>4</th>\n",
       "      <td>302087891</td>\n",
       "      <td>Lighting&gt;Sconces</td>\n",
       "    </tr>\n",
       "  </tbody>\n",
       "</table>\n",
       "</div>"
      ],
      "text/plain": [
       "      SKU_ID          Category\n",
       "0  302087889  Lighting>Sconces\n",
       "1  301688935  Lighting>Sconces\n",
       "2  206788920  Lighting>Sconces\n",
       "3  302087892  Lighting>Sconces\n",
       "4  302087891  Lighting>Sconces"
      ]
     },
     "execution_count": 40,
     "metadata": {},
     "output_type": "execute_result"
    }
   ],
   "source": [
    "catalog.head()"
   ]
  },
  {
   "cell_type": "code",
   "execution_count": 42,
   "metadata": {},
   "outputs": [],
   "source": [
    "catalog['Category'] = catalog['Category'].str.split('>')"
   ]
  },
  {
   "cell_type": "code",
   "execution_count": 80,
   "metadata": {},
   "outputs": [],
   "source": [
    "catalog.set_index('SKU_ID', inplace=True)"
   ]
  },
  {
   "cell_type": "code",
   "execution_count": 6,
   "metadata": {
    "ExecuteTime": {
     "end_time": "2019-07-16T21:35:21.265763Z",
     "start_time": "2019-07-16T21:35:19.773041Z"
    },
    "hidden": true
   },
   "outputs": [
    {
     "name": "stdout",
     "output_type": "stream",
     "text": [
      "Max Number of Category Levels: 6\n"
     ]
    }
   ],
   "source": [
    "# Number of Level for product categories\n",
    "get_num_of_levels(catalog['Category'], verbose=True);"
   ]
  },
  {
   "cell_type": "markdown",
   "metadata": {
    "hidden": true
   },
   "source": [
    "#### Check for Duplicates"
   ]
  },
  {
   "cell_type": "code",
   "execution_count": 7,
   "metadata": {
    "ExecuteTime": {
     "end_time": "2019-07-16T21:35:21.299077Z",
     "start_time": "2019-07-16T21:35:21.268045Z"
    },
    "hidden": true
   },
   "outputs": [
    {
     "data": {
      "text/plain": [
       "False"
      ]
     },
     "execution_count": 7,
     "metadata": {},
     "output_type": "execute_result"
    }
   ],
   "source": [
    "#check if every SKU is unique\n",
    "len(catalog) == catalog['SKU_ID'].nunique()"
   ]
  },
  {
   "cell_type": "code",
   "execution_count": 8,
   "metadata": {
    "ExecuteTime": {
     "end_time": "2019-07-16T21:35:21.522418Z",
     "start_time": "2019-07-16T21:35:21.304936Z"
    },
    "hidden": true
   },
   "outputs": [],
   "source": [
    "# View product that belongs to more than one path\n",
    "multiple_paths = catalog[catalog.duplicated(subset='SKU_ID', keep=False)].sort_values('SKU_ID')\n",
    "one_path = catalog[catalog.groupby('SKU_ID')['Category'].transform('count') ==1]\n",
    "\n",
    "assert len(catalog) == len(multiple_paths) +len(one_path)"
   ]
  },
  {
   "cell_type": "markdown",
   "metadata": {
    "hidden": true
   },
   "source": [
    "* There is a max depth of 6 levels of product categories\n",
    "* Know some products belong to multiple categories (we'll have to deal with this later)"
   ]
  },
  {
   "cell_type": "markdown",
   "metadata": {
    "heading_collapsed": true
   },
   "source": [
    "### Product Engagement"
   ]
  },
  {
   "cell_type": "code",
   "execution_count": 9,
   "metadata": {
    "ExecuteTime": {
     "end_time": "2019-07-16T21:35:25.235201Z",
     "start_time": "2019-07-16T21:35:25.226229Z"
    },
    "hidden": true
   },
   "outputs": [
    {
     "data": {
      "text/html": [
       "<div>\n",
       "<style scoped>\n",
       "    .dataframe tbody tr th:only-of-type {\n",
       "        vertical-align: middle;\n",
       "    }\n",
       "\n",
       "    .dataframe tbody tr th {\n",
       "        vertical-align: top;\n",
       "    }\n",
       "\n",
       "    .dataframe thead th {\n",
       "        text-align: right;\n",
       "    }\n",
       "</style>\n",
       "<table border=\"1\" class=\"dataframe\">\n",
       "  <thead>\n",
       "    <tr style=\"text-align: right;\">\n",
       "      <th></th>\n",
       "      <th>Search_term</th>\n",
       "      <th>SKU_ID</th>\n",
       "      <th>Product_views</th>\n",
       "    </tr>\n",
       "  </thead>\n",
       "  <tbody>\n",
       "    <tr>\n",
       "      <th>0</th>\n",
       "      <td>accent table</td>\n",
       "      <td>301116997</td>\n",
       "      <td>82</td>\n",
       "    </tr>\n",
       "    <tr>\n",
       "      <th>1</th>\n",
       "      <td>accent table</td>\n",
       "      <td>306775214</td>\n",
       "      <td>65</td>\n",
       "    </tr>\n",
       "    <tr>\n",
       "      <th>2</th>\n",
       "      <td>accent table</td>\n",
       "      <td>301285388</td>\n",
       "      <td>64</td>\n",
       "    </tr>\n",
       "    <tr>\n",
       "      <th>3</th>\n",
       "      <td>accent table</td>\n",
       "      <td>301285396</td>\n",
       "      <td>61</td>\n",
       "    </tr>\n",
       "    <tr>\n",
       "      <th>4</th>\n",
       "      <td>accent table</td>\n",
       "      <td>302987915</td>\n",
       "      <td>51</td>\n",
       "    </tr>\n",
       "  </tbody>\n",
       "</table>\n",
       "</div>"
      ],
      "text/plain": [
       "    Search_term     SKU_ID  Product_views\n",
       "0  accent table  301116997  82           \n",
       "1  accent table  306775214  65           \n",
       "2  accent table  301285388  64           \n",
       "3  accent table  301285396  61           \n",
       "4  accent table  302987915  51           "
      ]
     },
     "execution_count": 9,
     "metadata": {},
     "output_type": "execute_result"
    }
   ],
   "source": [
    "prod_engagement.head()"
   ]
  },
  {
   "cell_type": "code",
   "execution_count": 34,
   "metadata": {
    "ExecuteTime": {
     "end_time": "2019-07-16T21:35:25.803886Z",
     "start_time": "2019-07-16T21:35:25.596039Z"
    },
    "hidden": true
   },
   "outputs": [
    {
     "data": {
      "image/png": "[encoded data removed]",
      "text/plain": [
       "<Figure size 720x288 with 1 Axes>"
      ]
     },
     "metadata": {
      "needs_background": "light"
     },
     "output_type": "display_data"
    }
   ],
   "source": [
    "#view distribution of views\n",
    "plt.figure(figsize=(10,4))\n",
    "plt.hist(prod_engagement['Product_views'], bins=30)\n",
    "plt.title(\"Distribution of Product Views\")\n",
    "plt.xlabel(\"Number of Product Views\")\n",
    "plt.ylabel(\"Frequency\");"
   ]
  },
  {
   "cell_type": "code",
   "execution_count": 35,
   "metadata": {
    "ExecuteTime": {
     "end_time": "2019-07-16T21:35:26.195277Z",
     "start_time": "2019-07-16T21:35:26.020587Z"
    },
    "hidden": true
   },
   "outputs": [
    {
     "data": {
      "image/png": "[encoded data removed]",
      "text/plain": [
       "<Figure size 720x288 with 1 Axes>"
      ]
     },
     "metadata": {
      "needs_background": "light"
     },
     "output_type": "display_data"
    }
   ],
   "source": [
    "#view distribution of views (limited range)\n",
    "plt.figure(figsize=(10,4))\n",
    "plt.hist(prod_engagement['Product_views'], bins=20,range=(0,100))\n",
    "plt.title(\"Distribution of Product Views (Limited Range)\")\n",
    "plt.xlabel(\"Number of Product Views\")\n",
    "plt.ylabel(\"Frequency\");"
   ]
  },
  {
   "cell_type": "code",
   "execution_count": 36,
   "metadata": {
    "ExecuteTime": {
     "end_time": "2019-07-16T21:35:28.088621Z",
     "start_time": "2019-07-16T21:35:28.077832Z"
    },
    "hidden": true
   },
   "outputs": [
    {
     "data": {
      "text/plain": [
       "93.19822485207101"
      ]
     },
     "execution_count": 36,
     "metadata": {},
     "output_type": "execute_result"
    }
   ],
   "source": [
    "# Average Number of Products per Search Term \n",
    "prod_engagement.groupby('Search_term')['SKU_ID'].count().mean()"
   ]
  },
  {
   "cell_type": "markdown",
   "metadata": {
    "hidden": true
   },
   "source": [
    "* Views (implicit rating for products)\n",
    "* The majority of product have under 100 views, which some exceeding 3,000. We will have to be careful with using this data for recommendation to prevent our model form favoring the few products with a larger amount of views. "
   ]
  },
  {
   "cell_type": "markdown",
   "metadata": {},
   "source": [
    "### Product Descriptions"
   ]
  },
  {
   "cell_type": "code",
   "execution_count": 10,
   "metadata": {
    "ExecuteTime": {
     "end_time": "2019-07-16T21:35:31.904983Z",
     "start_time": "2019-07-16T21:35:31.893495Z"
    }
   },
   "outputs": [
    {
     "data": {
      "text/html": [
       "<div>\n",
       "<style scoped>\n",
       "    .dataframe tbody tr th:only-of-type {\n",
       "        vertical-align: middle;\n",
       "    }\n",
       "\n",
       "    .dataframe tbody tr th {\n",
       "        vertical-align: top;\n",
       "    }\n",
       "\n",
       "    .dataframe thead th {\n",
       "        text-align: right;\n",
       "    }\n",
       "</style>\n",
       "<table border=\"1\" class=\"dataframe\">\n",
       "  <thead>\n",
       "    <tr style=\"text-align: right;\">\n",
       "      <th></th>\n",
       "      <th>SKU_ID</th>\n",
       "      <th>Product_name</th>\n",
       "      <th>Description</th>\n",
       "      <th>Department</th>\n",
       "    </tr>\n",
       "  </thead>\n",
       "  <tbody>\n",
       "    <tr>\n",
       "      <th>0</th>\n",
       "      <td>202524817</td>\n",
       "      <td>8 in. x 4 in. x 16 in. Concrete Solid Block</td>\n",
       "      <td>This 8 in. x 4 in. x 16 in. Solid Concrete Block makes a great choice for the construction of Piers in Pier and Beam construction or mobile home installation. It is also a great block to use as a spacer block between other units to obtain an optimal height.</td>\n",
       "      <td>Non-Decor</td>\n",
       "    </tr>\n",
       "    <tr>\n",
       "      <th>1</th>\n",
       "      <td>301169855</td>\n",
       "      <td>Hummingbird Stencil</td>\n",
       "      <td>This easy-to-use Hummingbird Stencil from Stencil1 is perfect for walls, home decor, clothing and more. Each stencil is cut high quality in order to provide a long lasting design. The possibilities of what you can create with a Stencil1 stencil are endless.</td>\n",
       "      <td>Non-Decor</td>\n",
       "    </tr>\n",
       "  </tbody>\n",
       "</table>\n",
       "</div>"
      ],
      "text/plain": [
       "      SKU_ID                                 Product_name  \\\n",
       "0  202524817  8 in. x 4 in. x 16 in. Concrete Solid Block   \n",
       "1  301169855  Hummingbird Stencil                           \n",
       "\n",
       "                                                                                                                                                                                                                                                         Description  \\\n",
       "0  This 8 in. x 4 in. x 16 in. Solid Concrete Block makes a great choice for the construction of Piers in Pier and Beam construction or mobile home installation. It is also a great block to use as a spacer block between other units to obtain an optimal height.   \n",
       "1  This easy-to-use Hummingbird Stencil from Stencil1 is perfect for walls, home decor, clothing and more. Each stencil is cut high quality in order to provide a long lasting design. The possibilities of what you can create with a Stencil1 stencil are endless.   \n",
       "\n",
       "  Department  \n",
       "0  Non-Decor  \n",
       "1  Non-Decor  "
      ]
     },
     "execution_count": 10,
     "metadata": {},
     "output_type": "execute_result"
    }
   ],
   "source": [
    "prod_desc.head(2)"
   ]
  },
  {
   "cell_type": "code",
   "execution_count": 11,
   "metadata": {
    "ExecuteTime": {
     "end_time": "2019-07-16T21:35:32.669281Z",
     "start_time": "2019-07-16T21:35:32.633191Z"
    }
   },
   "outputs": [
    {
     "data": {
      "text/plain": [
       "array(['Non-Decor', 'Core Decor', 'Growth Decor'], dtype=object)"
      ]
     },
     "execution_count": 11,
     "metadata": {},
     "output_type": "execute_result"
    }
   ],
   "source": [
    "prod_desc['Department'].unique()"
   ]
  },
  {
   "cell_type": "code",
   "execution_count": 12,
   "metadata": {
    "ExecuteTime": {
     "end_time": "2019-07-16T21:35:37.053004Z",
     "start_time": "2019-07-16T21:35:34.224410Z"
    }
   },
   "outputs": [
    {
     "data": {
      "text/html": [
       "<div>\n",
       "<style scoped>\n",
       "    .dataframe tbody tr th:only-of-type {\n",
       "        vertical-align: middle;\n",
       "    }\n",
       "\n",
       "    .dataframe tbody tr th {\n",
       "        vertical-align: top;\n",
       "    }\n",
       "\n",
       "    .dataframe thead th {\n",
       "        text-align: right;\n",
       "    }\n",
       "</style>\n",
       "<table border=\"1\" class=\"dataframe\">\n",
       "  <thead>\n",
       "    <tr style=\"text-align: right;\">\n",
       "      <th></th>\n",
       "      <th>SKU_ID</th>\n",
       "      <th>Product_name</th>\n",
       "      <th>Description</th>\n",
       "      <th>Department</th>\n",
       "      <th>L1</th>\n",
       "      <th>L2</th>\n",
       "      <th>L3</th>\n",
       "      <th>L4</th>\n",
       "      <th>L5</th>\n",
       "      <th>L6</th>\n",
       "    </tr>\n",
       "  </thead>\n",
       "  <tbody>\n",
       "    <tr>\n",
       "      <th>0</th>\n",
       "      <td>202524817</td>\n",
       "      <td>8 in. x 4 in. x 16 in. Concrete Solid Block</td>\n",
       "      <td>This 8 in. x 4 in. x 16 in. Solid Concrete Block makes a great choice for the construction of Piers in Pier and Beam construction or mobile home installation. It is also a great block to use as a spacer block between other units to obtain an optimal height.</td>\n",
       "      <td>Non-Decor</td>\n",
       "      <td>Building Materials</td>\n",
       "      <td>Concrete, Cement &amp; Masonry</td>\n",
       "      <td>Concrete Blocks &amp; Bricks</td>\n",
       "      <td>Cinder Blocks</td>\n",
       "      <td>NaN</td>\n",
       "      <td>NaN</td>\n",
       "    </tr>\n",
       "    <tr>\n",
       "      <th>1</th>\n",
       "      <td>301169855</td>\n",
       "      <td>Hummingbird Stencil</td>\n",
       "      <td>This easy-to-use Hummingbird Stencil from Stencil1 is perfect for walls, home decor, clothing and more. Each stencil is cut high quality in order to provide a long lasting design. The possibilities of what you can create with a Stencil1 stencil are endless.</td>\n",
       "      <td>Non-Decor</td>\n",
       "      <td>Home Decor</td>\n",
       "      <td>Wall Decor</td>\n",
       "      <td>Wall Stencils</td>\n",
       "      <td>NaN</td>\n",
       "      <td>NaN</td>\n",
       "      <td>NaN</td>\n",
       "    </tr>\n",
       "    <tr>\n",
       "      <th>2</th>\n",
       "      <td>301169855</td>\n",
       "      <td>Hummingbird Stencil</td>\n",
       "      <td>This easy-to-use Hummingbird Stencil from Stencil1 is perfect for walls, home decor, clothing and more. Each stencil is cut high quality in order to provide a long lasting design. The possibilities of what you can create with a Stencil1 stencil are endless.</td>\n",
       "      <td>Non-Decor</td>\n",
       "      <td>Paint</td>\n",
       "      <td>Craft &amp; Art Supplies</td>\n",
       "      <td>Stencils</td>\n",
       "      <td>NaN</td>\n",
       "      <td>NaN</td>\n",
       "      <td>NaN</td>\n",
       "    </tr>\n",
       "    <tr>\n",
       "      <th>3</th>\n",
       "      <td>207096840</td>\n",
       "      <td>24 in. x 24 in. x 2 in Acrylic clear/White Dry erase board</td>\n",
       "      <td>The BOOM BOOM board is a high end dry erase board made from acrylic. This product is available in three colors; clear (with white backing), white and black. This can be placed in schools, meeting rooms, cafeterias and anywhere else where dry erase is needed.</td>\n",
       "      <td>Non-Decor</td>\n",
       "      <td>Building Materials</td>\n",
       "      <td>Glass &amp; Plastic Sheets</td>\n",
       "      <td>Acrylic Sheets</td>\n",
       "      <td>NaN</td>\n",
       "      <td>NaN</td>\n",
       "      <td>NaN</td>\n",
       "    </tr>\n",
       "    <tr>\n",
       "      <th>4</th>\n",
       "      <td>207096521</td>\n",
       "      <td>48 in. x 96 in. x 2 in Clear/White Boom Dry erase board</td>\n",
       "      <td>The BOOM BOOM board is a high end dry erase board made from acrylic. This product is available in three colors; clear (with white backing), white and black. This can be placed in schools, meeting rooms, cafeterias and anywhere else where dry erase is needed.</td>\n",
       "      <td>Non-Decor</td>\n",
       "      <td>Building Materials</td>\n",
       "      <td>Glass &amp; Plastic Sheets</td>\n",
       "      <td>Acrylic Sheets</td>\n",
       "      <td>NaN</td>\n",
       "      <td>NaN</td>\n",
       "      <td>NaN</td>\n",
       "    </tr>\n",
       "  </tbody>\n",
       "</table>\n",
       "</div>"
      ],
      "text/plain": [
       "      SKU_ID                                                Product_name  \\\n",
       "0  202524817  8 in. x 4 in. x 16 in. Concrete Solid Block                  \n",
       "1  301169855  Hummingbird Stencil                                          \n",
       "2  301169855  Hummingbird Stencil                                          \n",
       "3  207096840  24 in. x 24 in. x 2 in Acrylic clear/White Dry erase board   \n",
       "4  207096521  48 in. x 96 in. x 2 in Clear/White Boom Dry erase board      \n",
       "\n",
       "                                                                                                                                                                                                                                                          Description  \\\n",
       "0  This 8 in. x 4 in. x 16 in. Solid Concrete Block makes a great choice for the construction of Piers in Pier and Beam construction or mobile home installation. It is also a great block to use as a spacer block between other units to obtain an optimal height.    \n",
       "1  This easy-to-use Hummingbird Stencil from Stencil1 is perfect for walls, home decor, clothing and more. Each stencil is cut high quality in order to provide a long lasting design. The possibilities of what you can create with a Stencil1 stencil are endless.    \n",
       "2  This easy-to-use Hummingbird Stencil from Stencil1 is perfect for walls, home decor, clothing and more. Each stencil is cut high quality in order to provide a long lasting design. The possibilities of what you can create with a Stencil1 stencil are endless.    \n",
       "3  The BOOM BOOM board is a high end dry erase board made from acrylic. This product is available in three colors; clear (with white backing), white and black. This can be placed in schools, meeting rooms, cafeterias and anywhere else where dry erase is needed.   \n",
       "4  The BOOM BOOM board is a high end dry erase board made from acrylic. This product is available in three colors; clear (with white backing), white and black. This can be placed in schools, meeting rooms, cafeterias and anywhere else where dry erase is needed.   \n",
       "\n",
       "  Department                  L1                          L2  \\\n",
       "0  Non-Decor  Building Materials  Concrete, Cement & Masonry   \n",
       "1  Non-Decor  Home Decor          Wall Decor                   \n",
       "2  Non-Decor  Paint               Craft & Art Supplies         \n",
       "3  Non-Decor  Building Materials  Glass & Plastic Sheets       \n",
       "4  Non-Decor  Building Materials  Glass & Plastic Sheets       \n",
       "\n",
       "                         L3             L4   L5   L6  \n",
       "0  Concrete Blocks & Bricks  Cinder Blocks  NaN  NaN  \n",
       "1  Wall Stencils             NaN            NaN  NaN  \n",
       "2  Stencils                  NaN            NaN  NaN  \n",
       "3  Acrylic Sheets            NaN            NaN  NaN  \n",
       "4  Acrylic Sheets            NaN            NaN  NaN  "
      ]
     },
     "execution_count": 12,
     "metadata": {},
     "output_type": "execute_result"
    }
   ],
   "source": [
    "# Merge Product Description and Catalog dataframes\n",
    "prod_desc_cat = pd.merge(prod_desc,catalog, on='SKU_ID')\n",
    "\n",
    "# Flatten nested category column into separate columns \n",
    "prod_desc_cat = flatten_categories(prod_desc_cat['Category'], df=prod_desc_cat, drop_col='Category', sep='>')\n",
    "prod_desc_cat.head()"
   ]
  },
  {
   "cell_type": "code",
   "execution_count": 13,
   "metadata": {
    "ExecuteTime": {
     "end_time": "2019-07-16T21:41:57.018483Z",
     "start_time": "2019-07-16T21:41:56.952680Z"
    }
   },
   "outputs": [
    {
     "data": {
      "text/plain": [
       "array(['Living Room Furniture',\n",
       "       'Furniture Accessories & Replacement Parts', 'Entryway Furniture',\n",
       "       'Kids & Baby Furniture', 'Bedroom Furniture',\n",
       "       'Folding Tables & Chairs', 'Kitchen & Dining Room Furniture',\n",
       "       'Home Office Furniture'], dtype=object)"
      ]
     },
     "execution_count": 13,
     "metadata": {},
     "output_type": "execute_result"
    }
   ],
   "source": [
    "prod_desc_cat[prod_desc_cat['L1']== 'Furniture']['L2'].unique()"
   ]
  },
  {
   "cell_type": "code",
   "execution_count": 14,
   "metadata": {},
   "outputs": [
    {
     "data": {
      "text/plain": [
       "<pandas.core.groupby.generic.DataFrameGroupBy object at 0x12e869eb8>"
      ]
     },
     "execution_count": 14,
     "metadata": {},
     "output_type": "execute_result"
    }
   ],
   "source": [
    "prod_desc_cat.groupby('L1')"
   ]
  },
  {
   "cell_type": "code",
   "execution_count": null,
   "metadata": {},
   "outputs": [],
   "source": [
    "#Save to pickle\n",
    "#prod_desc_cat.to_pickle('../data/processed/prod_desc_cat.pkl')"
   ]
  },
  {
   "cell_type": "code",
   "execution_count": 18,
   "metadata": {
    "ExecuteTime": {
     "end_time": "2019-07-16T18:18:57.059812Z",
     "start_time": "2019-07-16T18:18:56.694091Z"
    }
   },
   "outputs": [
    {
     "data": {
      "text/plain": [
       "Text(0.5, 1.0, 'Number of Categories by Level')"
      ]
     },
     "execution_count": 18,
     "metadata": {},
     "output_type": "execute_result"
    },
    {
     "data": {
      "image/png": "[encoded data removed]",
      "text/plain": [
       "<Figure size 432x288 with 1 Axes>"
      ]
     },
     "metadata": {
      "needs_background": "light"
     },
     "output_type": "display_data"
    }
   ],
   "source": [
    "#View all Level 1 Categories\n",
    "plt.bar(x=prod_desc_cat.columns[-6:], height=prod_desc_cat.iloc[:,-6:].nunique())\n",
    "plt.title(\"Number of Categories by Level\")"
   ]
  },
  {
   "cell_type": "code",
   "execution_count": 16,
   "metadata": {
    "ExecuteTime": {
     "end_time": "2019-07-16T18:18:20.330856Z",
     "start_time": "2019-07-16T18:18:20.048373Z"
    }
   },
   "outputs": [
    {
     "data": {
      "image/png": "[encoded data removed]",
      "text/plain": [
       "<Figure size 432x288 with 1 Axes>"
      ]
     },
     "metadata": {
      "needs_background": "light"
     },
     "output_type": "display_data"
    }
   ],
   "source": [
    "plt.bar(x=prod_desc_cat.columns[-6:], height=prod_desc_cat.iloc[:,-6:].count())\n",
    "plt.title(\"Number of Products by Level\");"
   ]
  },
  {
   "cell_type": "markdown",
   "metadata": {},
   "source": [
    "* Majority of product go to 3 levels deep in taxonomy"
   ]
  },
  {
   "cell_type": "markdown",
   "metadata": {},
   "source": [
    "#### Top Words in Product Names"
   ]
  },
  {
   "cell_type": "code",
   "execution_count": null,
   "metadata": {},
   "outputs": [],
   "source": [
    "def get_top_n_words(corpus, n=None):\n",
    "    vec = CountVectorizer().fit(corpus)\n",
    "    bag_of_words = vec.transform(corpus)\n",
    "    sum_words = bag_of_words.sum(axis=0) \n",
    "    words_freq = [(word, sum_words[0, idx]) for word, idx in vec.vocabulary_.items()]\n",
    "    words_freq =sorted(words_freq, key = lambda x: x[1], reverse=True)\n",
    "    return words_freq[:n]\n",
    "\n",
    "common_words = get_top_n_words(df['Product_name'], 20)\n",
    "df1 = pd.DataFrame(common_words, columns = ['Product_name' , 'count'])\n",
    "pd.DataFrame(df1.groupby('Product_name').sum()['count'].sort_values()).plot(kind='barh', y='count', title=\"Top 20 words in Product Names\");"
   ]
  },
  {
   "cell_type": "code",
   "execution_count": null,
   "metadata": {},
   "outputs": [],
   "source": [
    "# Define List of Stop Words\n",
    "new_stop_words = ['in', 'sq','ft', 'yd', 'cm', 'mm','gal','lb' ,'lbs','qt','oz', 'h', 'w', 'ii', 'x']\n",
    "stop_words = set(stopwords.words('english') + new_stop_words)"
   ]
  },
  {
   "cell_type": "code",
   "execution_count": null,
   "metadata": {},
   "outputs": [],
   "source": [
    "# View Top Words without Stop Words\n",
    "def get_top_n_words(corpus, n=None, stop_words=stop_words):\n",
    "    vec = CountVectorizer(stop_words=stop_words, token_pattern='([a-zA-z]+)').fit(corpus)\n",
    "    bag_of_words = vec.transform(corpus)\n",
    "    sum_words = bag_of_words.sum(axis=0) \n",
    "    words_freq = [(word, sum_words[0, idx]) for word, idx in vec.vocabulary_.items()]\n",
    "    words_freq =sorted(words_freq, key = lambda x: x[1], reverse=True)\n",
    "    return words_freq[:n]\n",
    "\n",
    "common_words_no_stopwords = get_top_n_words(df['Product_name'], 20)\n",
    "df2 = pd.DataFrame(common_words_no_stopwords, columns = ['Product_name' , 'count'])\n",
    "pd.DataFrame(df2.groupby('Product_name').sum()['count'].sort_values()).plot(kind='barh', y='count', title=\"Top 20 words in Product Names (w/o Stopwords)\");"
   ]
  },
  {
   "cell_type": "markdown",
   "metadata": {
    "toc-hr-collapsed": true
   },
   "source": [
    "## Search"
   ]
  },
  {
   "cell_type": "markdown",
   "metadata": {
    "toc-hr-collapsed": true
   },
   "source": [
    "### Navigation"
   ]
  },
  {
   "cell_type": "code",
   "execution_count": 15,
   "metadata": {
    "ExecuteTime": {
     "end_time": "2019-07-15T19:25:20.211116Z",
     "start_time": "2019-07-15T19:25:20.200812Z"
    }
   },
   "outputs": [
    {
     "data": {
      "text/html": [
       "<div>\n",
       "<style scoped>\n",
       "    .dataframe tbody tr th:only-of-type {\n",
       "        vertical-align: middle;\n",
       "    }\n",
       "\n",
       "    .dataframe tbody tr th {\n",
       "        vertical-align: top;\n",
       "    }\n",
       "\n",
       "    .dataframe thead th {\n",
       "        text-align: right;\n",
       "    }\n",
       "</style>\n",
       "<table border=\"1\" class=\"dataframe\">\n",
       "  <thead>\n",
       "    <tr style=\"text-align: right;\">\n",
       "      <th></th>\n",
       "      <th>Search_term</th>\n",
       "      <th>Recommended_category</th>\n",
       "      <th>Display_name</th>\n",
       "    </tr>\n",
       "  </thead>\n",
       "  <tbody>\n",
       "    <tr>\n",
       "      <th>0</th>\n",
       "      <td>accent table</td>\n",
       "      <td>Furniture&gt;Entryway Furniture&gt;Entryway Tables</td>\n",
       "      <td>Entryway Tables</td>\n",
       "    </tr>\n",
       "    <tr>\n",
       "      <th>1</th>\n",
       "      <td>accent table</td>\n",
       "      <td>Furniture&gt;Living Room Furniture&gt;Accent Tables&gt;End Tables</td>\n",
       "      <td>End Tables</td>\n",
       "    </tr>\n",
       "  </tbody>\n",
       "</table>\n",
       "</div>"
      ],
      "text/plain": [
       "    Search_term                                      Recommended_category  \\\n",
       "0  accent table  Furniture>Entryway Furniture>Entryway Tables               \n",
       "1  accent table  Furniture>Living Room Furniture>Accent Tables>End Tables   \n",
       "\n",
       "      Display_name  \n",
       "0  Entryway Tables  \n",
       "1  End Tables       "
      ]
     },
     "execution_count": 15,
     "metadata": {},
     "output_type": "execute_result"
    }
   ],
   "source": [
    "navigations.head(2)"
   ]
  },
  {
   "cell_type": "code",
   "execution_count": 16,
   "metadata": {
    "ExecuteTime": {
     "end_time": "2019-07-15T19:25:21.716285Z",
     "start_time": "2019-07-15T19:25:21.708805Z"
    }
   },
   "outputs": [
    {
     "name": "stdout",
     "output_type": "stream",
     "text": [
      "Number of Unique Search Terms: 354\n",
      "Number of Unique Display Names: 233\n"
     ]
    }
   ],
   "source": [
    "# Number of unique search terms\n",
    "print(\"Number of Unique Search Terms: {}\".format(navigations['Search_term'].nunique()))\n",
    "print(\"Number of Unique Display Names: {}\".format(navigations['Display_name'].nunique()))"
   ]
  },
  {
   "cell_type": "code",
   "execution_count": 17,
   "metadata": {
    "ExecuteTime": {
     "end_time": "2019-07-16T04:19:05.053119Z",
     "start_time": "2019-07-16T04:19:05.044399Z"
    }
   },
   "outputs": [
    {
     "name": "stdout",
     "output_type": "stream",
     "text": [
      "Max Number of Category Levels: 5\n"
     ]
    }
   ],
   "source": [
    "# Max Number of Levels\n",
    "get_num_of_levels(navigations['Recommended_category'], verbose=True);"
   ]
  },
  {
   "cell_type": "code",
   "execution_count": 18,
   "metadata": {
    "ExecuteTime": {
     "end_time": "2019-07-16T21:37:33.378847Z",
     "start_time": "2019-07-16T21:37:33.354169Z"
    }
   },
   "outputs": [
    {
     "data": {
      "text/html": [
       "<div>\n",
       "<style scoped>\n",
       "    .dataframe tbody tr th:only-of-type {\n",
       "        vertical-align: middle;\n",
       "    }\n",
       "\n",
       "    .dataframe tbody tr th {\n",
       "        vertical-align: top;\n",
       "    }\n",
       "\n",
       "    .dataframe thead th {\n",
       "        text-align: right;\n",
       "    }\n",
       "</style>\n",
       "<table border=\"1\" class=\"dataframe\">\n",
       "  <thead>\n",
       "    <tr style=\"text-align: right;\">\n",
       "      <th></th>\n",
       "      <th>Search_term</th>\n",
       "      <th>Display_name</th>\n",
       "      <th>L1</th>\n",
       "      <th>L2</th>\n",
       "      <th>L3</th>\n",
       "      <th>L4</th>\n",
       "      <th>L5</th>\n",
       "    </tr>\n",
       "  </thead>\n",
       "  <tbody>\n",
       "    <tr>\n",
       "      <th>0</th>\n",
       "      <td>accent table</td>\n",
       "      <td>Entryway Tables</td>\n",
       "      <td>Furniture</td>\n",
       "      <td>Entryway Furniture</td>\n",
       "      <td>Entryway Tables</td>\n",
       "      <td>NaN</td>\n",
       "      <td>NaN</td>\n",
       "    </tr>\n",
       "    <tr>\n",
       "      <th>1</th>\n",
       "      <td>accent table</td>\n",
       "      <td>End Tables</td>\n",
       "      <td>Furniture</td>\n",
       "      <td>Living Room Furniture</td>\n",
       "      <td>Accent Tables</td>\n",
       "      <td>End Tables</td>\n",
       "      <td>NaN</td>\n",
       "    </tr>\n",
       "    <tr>\n",
       "      <th>2</th>\n",
       "      <td>accent table</td>\n",
       "      <td>Coffee Tables</td>\n",
       "      <td>Furniture</td>\n",
       "      <td>Living Room Furniture</td>\n",
       "      <td>Accent Tables</td>\n",
       "      <td>Coffee Tables</td>\n",
       "      <td>NaN</td>\n",
       "    </tr>\n",
       "    <tr>\n",
       "      <th>3</th>\n",
       "      <td>accent table</td>\n",
       "      <td>Console Tables</td>\n",
       "      <td>Furniture</td>\n",
       "      <td>Living Room Furniture</td>\n",
       "      <td>Accent Tables</td>\n",
       "      <td>Console Tables</td>\n",
       "      <td>NaN</td>\n",
       "    </tr>\n",
       "    <tr>\n",
       "      <th>4</th>\n",
       "      <td>accent table</td>\n",
       "      <td>Indoor Plant Stands</td>\n",
       "      <td>Furniture</td>\n",
       "      <td>Living Room Furniture</td>\n",
       "      <td>Accent Tables</td>\n",
       "      <td>Indoor Plant Stands</td>\n",
       "      <td>NaN</td>\n",
       "    </tr>\n",
       "  </tbody>\n",
       "</table>\n",
       "</div>"
      ],
      "text/plain": [
       "    Search_term         Display_name         L1                     L2  \\\n",
       "0  accent table  Entryway Tables      Furniture  Entryway Furniture      \n",
       "1  accent table  End Tables           Furniture  Living Room Furniture   \n",
       "2  accent table  Coffee Tables        Furniture  Living Room Furniture   \n",
       "3  accent table  Console Tables       Furniture  Living Room Furniture   \n",
       "4  accent table  Indoor Plant Stands  Furniture  Living Room Furniture   \n",
       "\n",
       "                L3                   L4   L5  \n",
       "0  Entryway Tables  NaN                  NaN  \n",
       "1  Accent Tables    End Tables           NaN  \n",
       "2  Accent Tables    Coffee Tables        NaN  \n",
       "3  Accent Tables    Console Tables       NaN  \n",
       "4  Accent Tables    Indoor Plant Stands  NaN  "
      ]
     },
     "execution_count": 18,
     "metadata": {},
     "output_type": "execute_result"
    }
   ],
   "source": [
    "# Flatten nested category column into separate columns \n",
    "search_prod_levels = flatten_categories(navigations['Recommended_category'], df=navigations, drop_col='Recommended_category', sep='>')\n",
    "search_prod_levels.head()"
   ]
  },
  {
   "cell_type": "code",
   "execution_count": 19,
   "metadata": {
    "ExecuteTime": {
     "end_time": "2019-07-16T21:41:46.695568Z",
     "start_time": "2019-07-16T21:41:46.688621Z"
    }
   },
   "outputs": [
    {
     "data": {
      "text/plain": [
       "8"
      ]
     },
     "execution_count": 19,
     "metadata": {},
     "output_type": "execute_result"
    }
   ],
   "source": [
    "search_prod_levels[search_prod_levels['L1'] == 'Furniture']['L2'].nunique()"
   ]
  },
  {
   "cell_type": "code",
   "execution_count": 57,
   "metadata": {
    "ExecuteTime": {
     "end_time": "2019-07-16T05:14:25.264900Z",
     "start_time": "2019-07-16T05:14:25.258578Z"
    }
   },
   "outputs": [],
   "source": [
    "#Save to pickle\n",
    "search_prod_levels.to_pickle('../data/processed/search_prod_levels.pkl')"
   ]
  },
  {
   "cell_type": "code",
   "execution_count": 39,
   "metadata": {
    "ExecuteTime": {
     "end_time": "2019-07-15T19:32:06.087945Z",
     "start_time": "2019-07-15T19:32:05.971542Z"
    }
   },
   "outputs": [
    {
     "data": {
      "image/png": "[encoded data removed]",
      "text/plain": [
       "<Figure size 432x288 with 1 Axes>"
      ]
     },
     "metadata": {
      "needs_background": "light"
     },
     "output_type": "display_data"
    }
   ],
   "source": [
    "# View number of search term per level\n",
    "plt.bar(x=['L1','L2','L3','L4','L5'], height=search_prod_levels[['L1','L2','L3','L4','L5']].count())\n",
    "plt.title(\"Number of Search Terms per Category Level\");"
   ]
  },
  {
   "cell_type": "markdown",
   "metadata": {},
   "source": [
    "#### Display Name"
   ]
  },
  {
   "cell_type": "code",
   "execution_count": 20,
   "metadata": {
    "ExecuteTime": {
     "end_time": "2019-07-15T19:25:34.255737Z",
     "start_time": "2019-07-15T19:25:34.248518Z"
    }
   },
   "outputs": [],
   "source": [
    "# View number of Display Names per Search Term\n",
    "navigations.groupby('Search_term')['Display_name'].count().sort_values(ascending=False).head();"
   ]
  },
  {
   "cell_type": "code",
   "execution_count": 21,
   "metadata": {
    "ExecuteTime": {
     "end_time": "2019-07-15T19:25:34.577187Z",
     "start_time": "2019-07-15T19:25:34.532018Z"
    }
   },
   "outputs": [
    {
     "data": {
      "text/html": [
       "<div>\n",
       "<style scoped>\n",
       "    .dataframe tbody tr th:only-of-type {\n",
       "        vertical-align: middle;\n",
       "    }\n",
       "\n",
       "    .dataframe tbody tr th {\n",
       "        vertical-align: top;\n",
       "    }\n",
       "\n",
       "    .dataframe thead th {\n",
       "        text-align: right;\n",
       "    }\n",
       "</style>\n",
       "<table border=\"1\" class=\"dataframe\">\n",
       "  <thead>\n",
       "    <tr style=\"text-align: right;\">\n",
       "      <th></th>\n",
       "      <th>Display_name</th>\n",
       "    </tr>\n",
       "    <tr>\n",
       "      <th>Search_term</th>\n",
       "      <th></th>\n",
       "    </tr>\n",
       "  </thead>\n",
       "  <tbody>\n",
       "    <tr>\n",
       "      <th>accent table</th>\n",
       "      <td>[Entryway Tables, End Tables, Coffee Tables, Console Tables, Indoor Plant Stands]</td>\n",
       "    </tr>\n",
       "    <tr>\n",
       "      <th>accent tables</th>\n",
       "      <td>[Entryway Tables, End Tables, Coffee Tables, Console Tables, Indoor Plant Stands]</td>\n",
       "    </tr>\n",
       "    <tr>\n",
       "      <th>adhesive backsplash</th>\n",
       "      <td>[Metal Backsplash, Tile Backsplash]</td>\n",
       "    </tr>\n",
       "    <tr>\n",
       "      <th>adhesive tile backsplash</th>\n",
       "      <td>[Metal Backsplash, Tile Backsplash]</td>\n",
       "    </tr>\n",
       "    <tr>\n",
       "      <th>arm chair</th>\n",
       "      <td>[Folding Chairs, Office Chairs, Accent Chairs, Outdoor Dining Chairs]</td>\n",
       "    </tr>\n",
       "  </tbody>\n",
       "</table>\n",
       "</div>"
      ],
      "text/plain": [
       "                                                                                               Display_name\n",
       "Search_term                                                                                                \n",
       "accent table              [Entryway Tables, End Tables, Coffee Tables, Console Tables, Indoor Plant Stands]\n",
       "accent tables             [Entryway Tables, End Tables, Coffee Tables, Console Tables, Indoor Plant Stands]\n",
       "adhesive backsplash       [Metal Backsplash, Tile Backsplash]                                              \n",
       "adhesive tile backsplash  [Metal Backsplash, Tile Backsplash]                                              \n",
       "arm chair                 [Folding Chairs, Office Chairs, Accent Chairs, Outdoor Dining Chairs]            "
      ]
     },
     "execution_count": 21,
     "metadata": {},
     "output_type": "execute_result"
    }
   ],
   "source": [
    "# View Display Names by Search Term \n",
    "# Example of desired input - outputs\n",
    "term_display_names = pd.DataFrame(navigations.groupby('Search_term')['Display_name'].apply(list))\n",
    "term_display_names.head()"
   ]
  },
  {
   "cell_type": "markdown",
   "metadata": {
    "ExecuteTime": {
     "end_time": "2019-07-15T19:25:38.502487Z",
     "start_time": "2019-07-15T19:25:38.403299Z"
    }
   },
   "source": [
    "##### IDEA: Could encode display names and look at similarity of search terms\n",
    "navigations.pivot_table(index='Search_term', columns='Display_name', aggfunc='count').head()"
   ]
  },
  {
   "cell_type": "markdown",
   "metadata": {},
   "source": [
    "### Search Impressions"
   ]
  },
  {
   "cell_type": "code",
   "execution_count": 26,
   "metadata": {
    "ExecuteTime": {
     "end_time": "2019-07-15T19:25:40.011915Z",
     "start_time": "2019-07-15T19:25:40.001823Z"
    }
   },
   "outputs": [
    {
     "data": {
      "text/html": [
       "<div>\n",
       "<style scoped>\n",
       "    .dataframe tbody tr th:only-of-type {\n",
       "        vertical-align: middle;\n",
       "    }\n",
       "\n",
       "    .dataframe tbody tr th {\n",
       "        vertical-align: top;\n",
       "    }\n",
       "\n",
       "    .dataframe thead th {\n",
       "        text-align: right;\n",
       "    }\n",
       "</style>\n",
       "<table border=\"1\" class=\"dataframe\">\n",
       "  <thead>\n",
       "    <tr style=\"text-align: right;\">\n",
       "      <th></th>\n",
       "      <th>Search_term</th>\n",
       "      <th>Impression</th>\n",
       "    </tr>\n",
       "  </thead>\n",
       "  <tbody>\n",
       "    <tr>\n",
       "      <th>0</th>\n",
       "      <td>coffee</td>\n",
       "      <td>203054703;207061099;305561354;305561469;301692317;206090043;206090041;300742646;204077166;206090050;305365754;206090042;305365870;302776630;206090598;204077145;305848381;206735001;305974710;206090049;207061098;203299655;206090048;303917139</td>\n",
       "    </tr>\n",
       "    <tr>\n",
       "      <th>1</th>\n",
       "      <td>bag chair</td>\n",
       "      <td>305573411;305608772;301092388;301092383;301092391;305676166;305676517;305676196;305676124;305676969;305676104;207061513;207061509;207061519;206267150;301092396;303324211;300168381;207061486;204624719;305573360;302643392;207061500;207061517</td>\n",
       "    </tr>\n",
       "    <tr>\n",
       "      <th>2</th>\n",
       "      <td>kitchen wall tile</td>\n",
       "      <td>205140711;302603437;205762409;204923728;204337886;204695051;204065143;204289147;204170143;300942624;205858982;206638691;203213521;300947962;302570935;206279726;205626148;206635972;300046421;205889117;203447805;205140722;203029952;205960149</td>\n",
       "    </tr>\n",
       "    <tr>\n",
       "      <th>3</th>\n",
       "      <td>mirror tile</td>\n",
       "      <td>305696621;304142073;304142126;304142039;303058463;304187832;303383559;305696699;100656412;304188432;304185242;303382986;206822976;303115245;206822972;206822559;206553088;304352832;304188444;303383001;304189009;206553089;304188317;304184997</td>\n",
       "    </tr>\n",
       "    <tr>\n",
       "      <th>4</th>\n",
       "      <td>entryway</td>\n",
       "      <td>203532713;203532652;300750153;302042988;302042995;302042994;206639873;203532749;300750157;206639875;204749403;204123232;203532743;303569609;304302934;303576547;304257392;303579718;204749370;303582863;204749400;303577515;303576183;304302931</td>\n",
       "    </tr>\n",
       "  </tbody>\n",
       "</table>\n",
       "</div>"
      ],
      "text/plain": [
       "         Search_term  \\\n",
       "0  coffee              \n",
       "1  bag chair           \n",
       "2  kitchen wall tile   \n",
       "3  mirror tile         \n",
       "4  entryway            \n",
       "\n",
       "                                                                                                                                                                                                                                        Impression  \n",
       "0  203054703;207061099;305561354;305561469;301692317;206090043;206090041;300742646;204077166;206090050;305365754;206090042;305365870;302776630;206090598;204077145;305848381;206735001;305974710;206090049;207061098;203299655;206090048;303917139  \n",
       "1  305573411;305608772;301092388;301092383;301092391;305676166;305676517;305676196;305676124;305676969;305676104;207061513;207061509;207061519;206267150;301092396;303324211;300168381;207061486;204624719;305573360;302643392;207061500;207061517  \n",
       "2  205140711;302603437;205762409;204923728;204337886;204695051;204065143;204289147;204170143;300942624;205858982;206638691;203213521;300947962;302570935;206279726;205626148;206635972;300046421;205889117;203447805;205140722;203029952;205960149  \n",
       "3  305696621;304142073;304142126;304142039;303058463;304187832;303383559;305696699;100656412;304188432;304185242;303382986;206822976;303115245;206822972;206822559;206553088;304352832;304188444;303383001;304189009;206553089;304188317;304184997  \n",
       "4  203532713;203532652;300750153;302042988;302042995;302042994;206639873;203532749;300750157;206639875;204749403;204123232;203532743;303569609;304302934;303576547;304257392;303579718;204749370;303582863;204749400;303577515;303576183;304302931  "
      ]
     },
     "execution_count": 26,
     "metadata": {},
     "output_type": "execute_result"
    }
   ],
   "source": [
    "search_imp.head()"
   ]
  },
  {
   "cell_type": "code",
   "execution_count": 38,
   "metadata": {},
   "outputs": [],
   "source": [
    "search_imp['Search_term'].unique();"
   ]
  },
  {
   "cell_type": "code",
   "execution_count": 27,
   "metadata": {
    "ExecuteTime": {
     "end_time": "2019-07-15T19:25:40.268605Z",
     "start_time": "2019-07-15T19:25:40.261615Z"
    }
   },
   "outputs": [],
   "source": [
    "#Split impressions into string with space for count vectorizer \n",
    "# (e.g. 203054703;207061099 t0 203054703 207061099)\n",
    "search_imp['Impression']= search_imp['Impression'].str.replace(';',' ')"
   ]
  },
  {
   "cell_type": "code",
   "execution_count": 28,
   "metadata": {
    "ExecuteTime": {
     "end_time": "2019-07-15T19:25:42.354199Z",
     "start_time": "2019-07-15T19:25:42.345799Z"
    }
   },
   "outputs": [
    {
     "data": {
      "text/plain": [
       "2.1129943502824857"
      ]
     },
     "execution_count": 28,
     "metadata": {},
     "output_type": "execute_result"
    }
   ],
   "source": [
    "#Average amount of words per search term\n",
    "search_imp['Search_term'].str.split().apply(len).mean()"
   ]
  },
  {
   "cell_type": "markdown",
   "metadata": {},
   "source": [
    "# Test"
   ]
  },
  {
   "cell_type": "code",
   "execution_count": 171,
   "metadata": {},
   "outputs": [],
   "source": [
    "# List of products accent table\n",
    "at_prods = search_imp[search_imp['Search_term'] =='end table']['Impression'].str.split()\n",
    "#a = at_prods.to_list()\n",
    "#at_prods= a[0]\n",
    "\n",
    "# labels\n",
    "def get_labels(prod_lst=at_prods):\n",
    "    \n",
    "    labels = []\n",
    "    for prod in prod_lst:\n",
    "        lst = catalog.loc[int(prod)]\n",
    "        \n",
    "        if len(lst)>1:\n",
    "            lsts = catalog.loc[int(prod)]['Category'].to_list()\n",
    "            for l in lsts:\n",
    "                labels.extend(l)\n",
    "        else:\n",
    "            labels.extend(lst['Category'])\n",
    "        \n",
    "    d = Counter(labels)\n",
    "    \n",
    "    return d \n",
    "    "
   ]
  },
  {
   "cell_type": "code",
   "execution_count": 172,
   "metadata": {},
   "outputs": [
    {
     "data": {
      "text/plain": [
       "Counter()"
      ]
     },
     "execution_count": 172,
     "metadata": {},
     "output_type": "execute_result"
    }
   ],
   "source": [
    "get_labels()"
   ]
  },
  {
   "cell_type": "code",
   "execution_count": 114,
   "metadata": {},
   "outputs": [],
   "source": [
    "labels = []\n",
    "for prod in at_prods:\n",
    "    labels.extend(catalog.loc[int(prod)]['Category'])"
   ]
  },
  {
   "cell_type": "code",
   "execution_count": 165,
   "metadata": {},
   "outputs": [
    {
     "data": {
      "text/plain": [
       "1"
      ]
     },
     "execution_count": 165,
     "metadata": {},
     "output_type": "execute_result"
    }
   ],
   "source": [
    "len(catalog.loc[int(at_prods[0])])"
   ]
  },
  {
   "cell_type": "code",
   "execution_count": 106,
   "metadata": {},
   "outputs": [],
   "source": [
    "labels.append(catalog.loc[int(at_prods[0])])"
   ]
  },
  {
   "cell_type": "code",
   "execution_count": 111,
   "metadata": {},
   "outputs": [
    {
     "data": {
      "text/plain": [
       "['Furniture', 'Living Room Furniture', 'Accent Tables', 'End Tables']"
      ]
     },
     "execution_count": 111,
     "metadata": {},
     "output_type": "execute_result"
    }
   ],
   "source": [
    "catalog.loc[int(at_prods[0])]['Category']"
   ]
  },
  {
   "cell_type": "code",
   "execution_count": 85,
   "metadata": {},
   "outputs": [
    {
     "data": {
      "text/html": [
       "<div>\n",
       "<style scoped>\n",
       "    .dataframe tbody tr th:only-of-type {\n",
       "        vertical-align: middle;\n",
       "    }\n",
       "\n",
       "    .dataframe tbody tr th {\n",
       "        vertical-align: top;\n",
       "    }\n",
       "\n",
       "    .dataframe thead th {\n",
       "        text-align: right;\n",
       "    }\n",
       "</style>\n",
       "<table border=\"1\" class=\"dataframe\">\n",
       "  <thead>\n",
       "    <tr style=\"text-align: right;\">\n",
       "      <th></th>\n",
       "      <th>Category</th>\n",
       "    </tr>\n",
       "    <tr>\n",
       "      <th>SKU_ID</th>\n",
       "      <th></th>\n",
       "    </tr>\n",
       "  </thead>\n",
       "  <tbody>\n",
       "    <tr>\n",
       "      <th>302087889</th>\n",
       "      <td>[Lighting, Sconces]</td>\n",
       "    </tr>\n",
       "  </tbody>\n",
       "</table>\n",
       "</div>"
      ],
      "text/plain": [
       "                      Category\n",
       "SKU_ID                        \n",
       "302087889  [Lighting, Sconces]"
      ]
     },
     "execution_count": 85,
     "metadata": {},
     "output_type": "execute_result"
    }
   ],
   "source": [
    "catalog.head(1)"
   ]
  },
  {
   "cell_type": "code",
   "execution_count": 89,
   "metadata": {},
   "outputs": [
    {
     "data": {
      "text/plain": [
       "Category    [Lighting, Sconces]\n",
       "Name: 302087889, dtype: object"
      ]
     },
     "execution_count": 89,
     "metadata": {},
     "output_type": "execute_result"
    }
   ],
   "source": [
    "catalog.loc[302087889]"
   ]
  },
  {
   "cell_type": "code",
   "execution_count": 174,
   "metadata": {},
   "outputs": [
    {
     "data": {
      "text/html": [
       "<div>\n",
       "<style scoped>\n",
       "    .dataframe tbody tr th:only-of-type {\n",
       "        vertical-align: middle;\n",
       "    }\n",
       "\n",
       "    .dataframe tbody tr th {\n",
       "        vertical-align: top;\n",
       "    }\n",
       "\n",
       "    .dataframe thead th {\n",
       "        text-align: right;\n",
       "    }\n",
       "</style>\n",
       "<table border=\"1\" class=\"dataframe\">\n",
       "  <thead>\n",
       "    <tr style=\"text-align: right;\">\n",
       "      <th></th>\n",
       "      <th>Search_term</th>\n",
       "      <th>Impression</th>\n",
       "    </tr>\n",
       "  </thead>\n",
       "  <tbody>\n",
       "  </tbody>\n",
       "</table>\n",
       "</div>"
      ],
      "text/plain": [
       "Empty DataFrame\n",
       "Columns: [Search_term, Impression]\n",
       "Index: []"
      ]
     },
     "execution_count": 174,
     "metadata": {},
     "output_type": "execute_result"
    }
   ],
   "source": [
    "search_imp[search_imp['Search_term'] =='end table']"
   ]
  },
  {
   "cell_type": "code",
   "execution_count": 39,
   "metadata": {},
   "outputs": [
    {
     "data": {
      "text/html": [
       "<div>\n",
       "<style scoped>\n",
       "    .dataframe tbody tr th:only-of-type {\n",
       "        vertical-align: middle;\n",
       "    }\n",
       "\n",
       "    .dataframe tbody tr th {\n",
       "        vertical-align: top;\n",
       "    }\n",
       "\n",
       "    .dataframe thead th {\n",
       "        text-align: right;\n",
       "    }\n",
       "</style>\n",
       "<table border=\"1\" class=\"dataframe\">\n",
       "  <thead>\n",
       "    <tr style=\"text-align: right;\">\n",
       "      <th></th>\n",
       "      <th>SKU_ID</th>\n",
       "      <th>Product_name</th>\n",
       "      <th>Description</th>\n",
       "      <th>Department</th>\n",
       "      <th>L1</th>\n",
       "      <th>L2</th>\n",
       "      <th>L3</th>\n",
       "      <th>L4</th>\n",
       "      <th>L5</th>\n",
       "      <th>L6</th>\n",
       "    </tr>\n",
       "  </thead>\n",
       "  <tbody>\n",
       "    <tr>\n",
       "      <th>0</th>\n",
       "      <td>202524817</td>\n",
       "      <td>8 in. x 4 in. x 16 in. Concrete Solid Block</td>\n",
       "      <td>This 8 in. x 4 in. x 16 in. Solid Concrete Block makes a great choice for the construction of Piers in Pier and Beam construction or mobile home installation. It is also a great block to use as a spacer block between other units to obtain an optimal height.</td>\n",
       "      <td>Non-Decor</td>\n",
       "      <td>Building Materials</td>\n",
       "      <td>Concrete, Cement &amp; Masonry</td>\n",
       "      <td>Concrete Blocks &amp; Bricks</td>\n",
       "      <td>Cinder Blocks</td>\n",
       "      <td>NaN</td>\n",
       "      <td>NaN</td>\n",
       "    </tr>\n",
       "    <tr>\n",
       "      <th>1</th>\n",
       "      <td>301169855</td>\n",
       "      <td>Hummingbird Stencil</td>\n",
       "      <td>This easy-to-use Hummingbird Stencil from Stencil1 is perfect for walls, home decor, clothing and more. Each stencil is cut high quality in order to provide a long lasting design. The possibilities of what you can create with a Stencil1 stencil are endless.</td>\n",
       "      <td>Non-Decor</td>\n",
       "      <td>Home Decor</td>\n",
       "      <td>Wall Decor</td>\n",
       "      <td>Wall Stencils</td>\n",
       "      <td>NaN</td>\n",
       "      <td>NaN</td>\n",
       "      <td>NaN</td>\n",
       "    </tr>\n",
       "    <tr>\n",
       "      <th>2</th>\n",
       "      <td>301169855</td>\n",
       "      <td>Hummingbird Stencil</td>\n",
       "      <td>This easy-to-use Hummingbird Stencil from Stencil1 is perfect for walls, home decor, clothing and more. Each stencil is cut high quality in order to provide a long lasting design. The possibilities of what you can create with a Stencil1 stencil are endless.</td>\n",
       "      <td>Non-Decor</td>\n",
       "      <td>Paint</td>\n",
       "      <td>Craft &amp; Art Supplies</td>\n",
       "      <td>Stencils</td>\n",
       "      <td>NaN</td>\n",
       "      <td>NaN</td>\n",
       "      <td>NaN</td>\n",
       "    </tr>\n",
       "    <tr>\n",
       "      <th>3</th>\n",
       "      <td>207096840</td>\n",
       "      <td>24 in. x 24 in. x 2 in Acrylic clear/White Dry erase board</td>\n",
       "      <td>The BOOM BOOM board is a high end dry erase board made from acrylic. This product is available in three colors; clear (with white backing), white and black. This can be placed in schools, meeting rooms, cafeterias and anywhere else where dry erase is needed.</td>\n",
       "      <td>Non-Decor</td>\n",
       "      <td>Building Materials</td>\n",
       "      <td>Glass &amp; Plastic Sheets</td>\n",
       "      <td>Acrylic Sheets</td>\n",
       "      <td>NaN</td>\n",
       "      <td>NaN</td>\n",
       "      <td>NaN</td>\n",
       "    </tr>\n",
       "    <tr>\n",
       "      <th>4</th>\n",
       "      <td>207096521</td>\n",
       "      <td>48 in. x 96 in. x 2 in Clear/White Boom Dry erase board</td>\n",
       "      <td>The BOOM BOOM board is a high end dry erase board made from acrylic. This product is available in three colors; clear (with white backing), white and black. This can be placed in schools, meeting rooms, cafeterias and anywhere else where dry erase is needed.</td>\n",
       "      <td>Non-Decor</td>\n",
       "      <td>Building Materials</td>\n",
       "      <td>Glass &amp; Plastic Sheets</td>\n",
       "      <td>Acrylic Sheets</td>\n",
       "      <td>NaN</td>\n",
       "      <td>NaN</td>\n",
       "      <td>NaN</td>\n",
       "    </tr>\n",
       "  </tbody>\n",
       "</table>\n",
       "</div>"
      ],
      "text/plain": [
       "      SKU_ID                                                Product_name  \\\n",
       "0  202524817  8 in. x 4 in. x 16 in. Concrete Solid Block                  \n",
       "1  301169855  Hummingbird Stencil                                          \n",
       "2  301169855  Hummingbird Stencil                                          \n",
       "3  207096840  24 in. x 24 in. x 2 in Acrylic clear/White Dry erase board   \n",
       "4  207096521  48 in. x 96 in. x 2 in Clear/White Boom Dry erase board      \n",
       "\n",
       "                                                                                                                                                                                                                                                          Description  \\\n",
       "0  This 8 in. x 4 in. x 16 in. Solid Concrete Block makes a great choice for the construction of Piers in Pier and Beam construction or mobile home installation. It is also a great block to use as a spacer block between other units to obtain an optimal height.    \n",
       "1  This easy-to-use Hummingbird Stencil from Stencil1 is perfect for walls, home decor, clothing and more. Each stencil is cut high quality in order to provide a long lasting design. The possibilities of what you can create with a Stencil1 stencil are endless.    \n",
       "2  This easy-to-use Hummingbird Stencil from Stencil1 is perfect for walls, home decor, clothing and more. Each stencil is cut high quality in order to provide a long lasting design. The possibilities of what you can create with a Stencil1 stencil are endless.    \n",
       "3  The BOOM BOOM board is a high end dry erase board made from acrylic. This product is available in three colors; clear (with white backing), white and black. This can be placed in schools, meeting rooms, cafeterias and anywhere else where dry erase is needed.   \n",
       "4  The BOOM BOOM board is a high end dry erase board made from acrylic. This product is available in three colors; clear (with white backing), white and black. This can be placed in schools, meeting rooms, cafeterias and anywhere else where dry erase is needed.   \n",
       "\n",
       "  Department                  L1                          L2  \\\n",
       "0  Non-Decor  Building Materials  Concrete, Cement & Masonry   \n",
       "1  Non-Decor  Home Decor          Wall Decor                   \n",
       "2  Non-Decor  Paint               Craft & Art Supplies         \n",
       "3  Non-Decor  Building Materials  Glass & Plastic Sheets       \n",
       "4  Non-Decor  Building Materials  Glass & Plastic Sheets       \n",
       "\n",
       "                         L3             L4   L5   L6  \n",
       "0  Concrete Blocks & Bricks  Cinder Blocks  NaN  NaN  \n",
       "1  Wall Stencils             NaN            NaN  NaN  \n",
       "2  Stencils                  NaN            NaN  NaN  \n",
       "3  Acrylic Sheets            NaN            NaN  NaN  \n",
       "4  Acrylic Sheets            NaN            NaN  NaN  "
      ]
     },
     "execution_count": 39,
     "metadata": {},
     "output_type": "execute_result"
    }
   ],
   "source": [
    "prod_desc_cat"
   ]
  },
  {
   "cell_type": "markdown",
   "metadata": {},
   "source": [
    "**Sparse Matrix for Search Terms and SKU**"
   ]
  },
  {
   "cell_type": "code",
   "execution_count": 24,
   "metadata": {
    "ExecuteTime": {
     "end_time": "2019-07-15T19:25:43.121109Z",
     "start_time": "2019-07-15T19:25:43.117549Z"
    }
   },
   "outputs": [],
   "source": [
    "from sklearn.feature_extraction.text import CountVectorizer "
   ]
  },
  {
   "cell_type": "code",
   "execution_count": 25,
   "metadata": {
    "ExecuteTime": {
     "end_time": "2019-07-15T19:25:43.536557Z",
     "start_time": "2019-07-15T19:25:43.501435Z"
    }
   },
   "outputs": [
    {
     "data": {
      "text/plain": [
       "(354, 4764)"
      ]
     },
     "execution_count": 25,
     "metadata": {},
     "output_type": "execute_result"
    }
   ],
   "source": [
    "vectorizer = CountVectorizer()\n",
    "term_sku = vectorizer.fit_transform(search_imp['Impression'])\n",
    "term_sku.shape"
   ]
  },
  {
   "cell_type": "code",
   "execution_count": 26,
   "metadata": {
    "ExecuteTime": {
     "end_time": "2019-07-15T19:25:43.883422Z",
     "start_time": "2019-07-15T19:25:43.859609Z"
    }
   },
   "outputs": [
    {
     "data": {
      "text/html": [
       "<div>\n",
       "<style scoped>\n",
       "    .dataframe tbody tr th:only-of-type {\n",
       "        vertical-align: middle;\n",
       "    }\n",
       "\n",
       "    .dataframe tbody tr th {\n",
       "        vertical-align: top;\n",
       "    }\n",
       "\n",
       "    .dataframe thead th {\n",
       "        text-align: right;\n",
       "    }\n",
       "</style>\n",
       "<table border=\"1\" class=\"dataframe\">\n",
       "  <thead>\n",
       "    <tr style=\"text-align: right;\">\n",
       "      <th></th>\n",
       "      <th>100012014</th>\n",
       "      <th>100022800</th>\n",
       "      <th>100023109</th>\n",
       "      <th>100023973</th>\n",
       "      <th>100036137</th>\n",
       "      <th>100044505</th>\n",
       "      <th>100048075</th>\n",
       "      <th>100051570</th>\n",
       "      <th>100061089</th>\n",
       "      <th>100074869</th>\n",
       "      <th>...</th>\n",
       "      <th>307717049</th>\n",
       "      <th>307717219</th>\n",
       "      <th>307717221</th>\n",
       "      <th>307727052</th>\n",
       "      <th>307833295</th>\n",
       "      <th>307920434</th>\n",
       "      <th>307939445</th>\n",
       "      <th>307939707</th>\n",
       "      <th>307940057</th>\n",
       "      <th>307940314</th>\n",
       "    </tr>\n",
       "    <tr>\n",
       "      <th>Search_term</th>\n",
       "      <th></th>\n",
       "      <th></th>\n",
       "      <th></th>\n",
       "      <th></th>\n",
       "      <th></th>\n",
       "      <th></th>\n",
       "      <th></th>\n",
       "      <th></th>\n",
       "      <th></th>\n",
       "      <th></th>\n",
       "      <th></th>\n",
       "      <th></th>\n",
       "      <th></th>\n",
       "      <th></th>\n",
       "      <th></th>\n",
       "      <th></th>\n",
       "      <th></th>\n",
       "      <th></th>\n",
       "      <th></th>\n",
       "      <th></th>\n",
       "      <th></th>\n",
       "    </tr>\n",
       "  </thead>\n",
       "  <tbody>\n",
       "    <tr>\n",
       "      <th>coffee</th>\n",
       "      <td>0</td>\n",
       "      <td>0</td>\n",
       "      <td>0</td>\n",
       "      <td>0</td>\n",
       "      <td>0</td>\n",
       "      <td>0</td>\n",
       "      <td>0</td>\n",
       "      <td>0</td>\n",
       "      <td>0</td>\n",
       "      <td>0</td>\n",
       "      <td>...</td>\n",
       "      <td>0</td>\n",
       "      <td>0</td>\n",
       "      <td>0</td>\n",
       "      <td>0</td>\n",
       "      <td>0</td>\n",
       "      <td>0</td>\n",
       "      <td>0</td>\n",
       "      <td>0</td>\n",
       "      <td>0</td>\n",
       "      <td>0</td>\n",
       "    </tr>\n",
       "    <tr>\n",
       "      <th>bag chair</th>\n",
       "      <td>0</td>\n",
       "      <td>0</td>\n",
       "      <td>0</td>\n",
       "      <td>0</td>\n",
       "      <td>0</td>\n",
       "      <td>0</td>\n",
       "      <td>0</td>\n",
       "      <td>0</td>\n",
       "      <td>0</td>\n",
       "      <td>0</td>\n",
       "      <td>...</td>\n",
       "      <td>0</td>\n",
       "      <td>0</td>\n",
       "      <td>0</td>\n",
       "      <td>0</td>\n",
       "      <td>0</td>\n",
       "      <td>0</td>\n",
       "      <td>0</td>\n",
       "      <td>0</td>\n",
       "      <td>0</td>\n",
       "      <td>0</td>\n",
       "    </tr>\n",
       "    <tr>\n",
       "      <th>kitchen wall tile</th>\n",
       "      <td>0</td>\n",
       "      <td>0</td>\n",
       "      <td>0</td>\n",
       "      <td>0</td>\n",
       "      <td>0</td>\n",
       "      <td>0</td>\n",
       "      <td>0</td>\n",
       "      <td>0</td>\n",
       "      <td>0</td>\n",
       "      <td>0</td>\n",
       "      <td>...</td>\n",
       "      <td>0</td>\n",
       "      <td>0</td>\n",
       "      <td>0</td>\n",
       "      <td>0</td>\n",
       "      <td>0</td>\n",
       "      <td>0</td>\n",
       "      <td>0</td>\n",
       "      <td>0</td>\n",
       "      <td>0</td>\n",
       "      <td>0</td>\n",
       "    </tr>\n",
       "    <tr>\n",
       "      <th>mirror tile</th>\n",
       "      <td>0</td>\n",
       "      <td>0</td>\n",
       "      <td>0</td>\n",
       "      <td>0</td>\n",
       "      <td>0</td>\n",
       "      <td>0</td>\n",
       "      <td>0</td>\n",
       "      <td>0</td>\n",
       "      <td>0</td>\n",
       "      <td>0</td>\n",
       "      <td>...</td>\n",
       "      <td>0</td>\n",
       "      <td>0</td>\n",
       "      <td>0</td>\n",
       "      <td>0</td>\n",
       "      <td>0</td>\n",
       "      <td>0</td>\n",
       "      <td>0</td>\n",
       "      <td>0</td>\n",
       "      <td>0</td>\n",
       "      <td>0</td>\n",
       "    </tr>\n",
       "    <tr>\n",
       "      <th>entryway</th>\n",
       "      <td>0</td>\n",
       "      <td>0</td>\n",
       "      <td>0</td>\n",
       "      <td>0</td>\n",
       "      <td>0</td>\n",
       "      <td>0</td>\n",
       "      <td>0</td>\n",
       "      <td>0</td>\n",
       "      <td>0</td>\n",
       "      <td>0</td>\n",
       "      <td>...</td>\n",
       "      <td>0</td>\n",
       "      <td>0</td>\n",
       "      <td>0</td>\n",
       "      <td>0</td>\n",
       "      <td>0</td>\n",
       "      <td>0</td>\n",
       "      <td>0</td>\n",
       "      <td>0</td>\n",
       "      <td>0</td>\n",
       "      <td>0</td>\n",
       "    </tr>\n",
       "  </tbody>\n",
       "</table>\n",
       "<p>5 rows × 4764 columns</p>\n",
       "</div>"
      ],
      "text/plain": [
       "                   100012014  100022800  100023109  100023973  100036137  \\\n",
       "Search_term                                                                \n",
       "coffee             0          0          0          0          0           \n",
       "bag chair          0          0          0          0          0           \n",
       "kitchen wall tile  0          0          0          0          0           \n",
       "mirror tile        0          0          0          0          0           \n",
       "entryway           0          0          0          0          0           \n",
       "\n",
       "                   100044505  100048075  100051570  100061089  100074869  ...  \\\n",
       "Search_term                                                               ...   \n",
       "coffee             0          0          0          0          0          ...   \n",
       "bag chair          0          0          0          0          0          ...   \n",
       "kitchen wall tile  0          0          0          0          0          ...   \n",
       "mirror tile        0          0          0          0          0          ...   \n",
       "entryway           0          0          0          0          0          ...   \n",
       "\n",
       "                   307717049  307717219  307717221  307727052  307833295  \\\n",
       "Search_term                                                                \n",
       "coffee             0          0          0          0          0           \n",
       "bag chair          0          0          0          0          0           \n",
       "kitchen wall tile  0          0          0          0          0           \n",
       "mirror tile        0          0          0          0          0           \n",
       "entryway           0          0          0          0          0           \n",
       "\n",
       "                   307920434  307939445  307939707  307940057  307940314  \n",
       "Search_term                                                               \n",
       "coffee             0          0          0          0          0          \n",
       "bag chair          0          0          0          0          0          \n",
       "kitchen wall tile  0          0          0          0          0          \n",
       "mirror tile        0          0          0          0          0          \n",
       "entryway           0          0          0          0          0          \n",
       "\n",
       "[5 rows x 4764 columns]"
      ]
     },
     "execution_count": 26,
     "metadata": {},
     "output_type": "execute_result"
    }
   ],
   "source": [
    "term_sku_df = pd.DataFrame(term_sku.toarray(), index=search_imp['Search_term'], columns=vectorizer.get_feature_names())\n",
    "term_sku_df.head()"
   ]
  },
  {
   "cell_type": "code",
   "execution_count": null,
   "metadata": {},
   "outputs": [],
   "source": []
  }
 ],
 "metadata": {
  "kernelspec": {
   "display_name": "Python [conda env:thddecor]",
   "language": "python",
   "name": "conda-env-thddecor-py"
  },
  "language_info": {
   "codemirror_mode": {
    "name": "ipython",
    "version": 3
   },
   "file_extension": ".py",
   "mimetype": "text/x-python",
   "name": "python",
   "nbconvert_exporter": "python",
   "pygments_lexer": "ipython3",
   "version": "3.7.3"
  },
  "toc": {
   "base_numbering": 1,
   "nav_menu": {},
   "number_sections": true,
   "sideBar": true,
   "skip_h1_title": false,
   "title_cell": "Table of Contents",
   "title_sidebar": "Contents",
   "toc_cell": false,
   "toc_position": {
    "height": "calc(100% - 180px)",
    "left": "10px",
    "top": "150px",
    "width": "165px"
   },
   "toc_section_display": true,
   "toc_window_display": true
  }
 },
 "nbformat": 4,
 "nbformat_minor": 4
}
