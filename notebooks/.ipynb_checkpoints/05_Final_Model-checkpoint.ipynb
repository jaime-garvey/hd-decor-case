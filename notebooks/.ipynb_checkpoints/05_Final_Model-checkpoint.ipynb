{
 "cells": [
  {
   "cell_type": "markdown",
   "metadata": {},
   "source": [
    "# [Project Name]\n",
    "\n",
    "Getting Started  |  Data Prep  |  Data Exploration  |  Preprocessing  |  Model Tuning  |  **Final Model**"
   ]
  },
  {
   "cell_type": "code",
   "execution_count": 2,
   "metadata": {},
   "outputs": [],
   "source": [
    "import pandas as pd\n",
    "import numpy as np\n",
    "import matplotlib.pyplot as plt\n",
    "\n",
    "#import sys\n",
    "#sys.path.insert(0, './scripts')\n",
    "\n",
    "# now read in the new function\n",
    "#from helpers #import \n",
    "#from preprocessor # import preprocessor"
   ]
  },
  {
   "cell_type": "markdown",
   "metadata": {},
   "source": [
    "# Create Tree"
   ]
  },
  {
   "cell_type": "code",
   "execution_count": 3,
   "metadata": {},
   "outputs": [],
   "source": [
    "from sklearn import preprocessing"
   ]
  },
  {
   "cell_type": "code",
   "execution_count": 4,
   "metadata": {},
   "outputs": [],
   "source": [
    "prod_desc_cat = pd.read_pickle('../data/processed/prod_desc_cat.pkl')"
   ]
  },
  {
   "cell_type": "code",
   "execution_count": 8,
   "metadata": {},
   "outputs": [],
   "source": [
    "class Tree:\n",
    "    '''\n",
    "    Build parent, child dictionary \n",
    "    '''\n",
    "    def __init__(self, data, num_levels):\n",
    "        '''\n",
    "        \n",
    "        Keyword Arguments:\n",
    "        ------------------\n",
    "        \n",
    "        '''\n",
    "        self.data= data\n",
    "        self.num_levels = num_levels\n",
    "        self.level_cols = data.columns[-self.num_levels:]\n",
    "        self.was_fit=False\n",
    "        \n",
    "    def fit(self):\n",
    "        # get notes\n",
    "        self.nodes = pd.unique(self.data.iloc[:,-self.num_levels].values.ravel())\n",
    "        \n",
    "        #encode nodes\n",
    "        le = preprocessing.LabelEncoder()\n",
    "        le.fit(list(self.nodes))\n",
    "        \n",
    "        #save mapping\n",
    "        self.node2id = dict(zip(le.classes_, le.transform(le.classes_)))\n",
    "        self.id2node = dict(zip(le.transform(le.classes_),le.classes_))\n",
    "        \n",
    "        return self\n",
    "        \n",
    "    def get_mappings(self, map_direction='encode'):\n",
    "        '''\n",
    "        Get mapping for nodes and ids\n",
    "        '''\n",
    "        if map_direction == 'encode':\n",
    "            return self.node2id\n",
    "        elif map_direct == 'decode':\n",
    "            return self.id2node\n",
    "        else: \n",
    "            return self.node2id, self.id2node\n",
    "        \n",
    "        \n",
    "    def transform(self):\n",
    "        '''\n",
    "        '''\n",
    "        if not self.was_fit:\n",
    "            raise Error(\"Need to fit data first\")\n",
    "            \n",
    "        data_new = self.data\n",
    "        for col in self.cols:\n",
    "            data_new[col] = pd.Series(le.transform(data_new[col].to_list()))\n",
    "            \n",
    "        return self.data_new\n",
    "            \n",
    "        \n",
    "    def fit_transform(self):\n",
    "        '''\n",
    "        '''\n",
    "        return self.fit().transform()\n",
    "        \n",
    "    \n",
    "    def get_parent_child_dict(self):\n",
    "        '''\n",
    "        '''\n",
    "        def parent_child_dict(col_lst):\n",
    "            for i in range(len(col_lst)-1):\n",
    "                j=i+1\n",
    "                yield(self.data_new.groupby(col_lst[i])[col_lst[j]].apply(set).to_dict())\n",
    "            \n",
    "        level_dicts = list(parent_child_dict(self.level_cols))\n",
    "        \n",
    "        # Add dictionaries together\n",
    "        for i in range(1, len(level_dicts)):\n",
    "            level_dicts[0].update(level_dicts[i])\n",
    "    \n",
    "        self.prod_map = level_dicts[0]\n",
    "        \n",
    "        return self.prod_map"
   ]
  },
  {
   "cell_type": "code",
   "execution_count": 9,
   "metadata": {},
   "outputs": [],
   "source": [
    "t = Tree(data= prod_desc_cat, num_levels=6)"
   ]
  },
  {
   "cell_type": "code",
   "execution_count": 11,
   "metadata": {},
   "outputs": [
    {
     "data": {
      "text/plain": [
       "Index(['L1', 'L2', 'L3', 'L4', 'L5', 'L6'], dtype='object')"
      ]
     },
     "execution_count": 11,
     "metadata": {},
     "output_type": "execute_result"
    }
   ],
   "source": [
    "t.level_cols"
   ]
  },
  {
   "cell_type": "markdown",
   "metadata": {},
   "source": [
    "## Create Model Object"
   ]
  },
  {
   "cell_type": "markdown",
   "metadata": {},
   "source": [
    "## Fit Final Model"
   ]
  },
  {
   "cell_type": "markdown",
   "metadata": {},
   "source": [
    "## Score Test Data"
   ]
  },
  {
   "cell_type": "markdown",
   "metadata": {},
   "source": [
    "## Model Evaluation"
   ]
  },
  {
   "cell_type": "markdown",
   "metadata": {},
   "source": [
    "## Plot Results"
   ]
  },
  {
   "cell_type": "code",
   "execution_count": null,
   "metadata": {},
   "outputs": [],
   "source": []
  }
 ],
 "metadata": {
  "kernelspec": {
   "display_name": "Python [conda env:thddecor]",
   "language": "python",
   "name": "conda-env-thddecor-py"
  },
  "language_info": {
   "codemirror_mode": {
    "name": "ipython",
    "version": 3
   },
   "file_extension": ".py",
   "mimetype": "text/x-python",
   "name": "python",
   "nbconvert_exporter": "python",
   "pygments_lexer": "ipython3",
   "version": "3.7.3"
  }
 },
 "nbformat": 4,
 "nbformat_minor": 4
}
