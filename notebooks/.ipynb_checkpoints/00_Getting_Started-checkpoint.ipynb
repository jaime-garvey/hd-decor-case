{
 "cells": [
  {
   "cell_type": "markdown",
   "metadata": {},
   "source": [
    "# The Home Depot Decor Case\n",
    "\n",
    "**Getting Started** | Data Exploration  |  Preprocessing  | Benchmark Model"
   ]
  },
  {
   "cell_type": "markdown",
   "metadata": {},
   "source": [
    "## Understanding the Context\n",
    "\n",
    "Think about your favorite online retailer. In contrast, maybe consider the sites you tend to avoid. Why might that be?\n",
    "\n",
    "Whether it's a diverse selection or the ease of navigation, a great online experience is one many customers are willing to pay for. If fact, navigation alone can yield over an 83% ROI. \n",
    "\n",
    "In this case, we'll be exploring a one aspect of the online customer experience for The Home Depot's decor business.Since nearly half of customers are using search to navigate homedepot.com, the team would like to introduce Visual Navigation to help narrow down customer search queries. \n",
    "\n",
    "\n",
    "### Problem Statement\n",
    "> How can recommend relevant product attributes and subcategories to help customers navigate homedepot.com?\n",
    "\n",
    "### Benchmark\n",
    "\n",
    "* Current solution uses customer behavior and business knowledge (not scalable)\n",
    "\n",
    "### Objectives\n",
    "\n",
    "* Recommend product subcategories and attributes to narrow down customer search queries \n",
    "* Explore a scable solution that leverages a content-based approach"
   ]
  },
  {
   "cell_type": "markdown",
   "metadata": {},
   "source": [
    "## Datasets\n",
    "* Product Catalog\n",
    "* Product Engagement\n",
    "* Product Descriptions\n",
    "* Search Impressions\n",
    "* Navigation Visualization "
   ]
  },
  {
   "cell_type": "markdown",
   "metadata": {},
   "source": [
    "## Organization\n",
    "\n",
    "* Notebooks\n",
    "    - 00 - Getting Started\n",
    "    - 01 - Data Exploration\n",
    "    - 02 - Preprocessing\n",
    "    - 03 - Benchmark Model\n",
    "* Data\n",
    "    - Raw\n",
    "    - Processed\n",
    "* Modules\n",
    "    - ```helpers.py```\n",
    "    - ```textprocessor.py```\n",
    "    - ```hierarchy.py```\n",
    "    - ```evaluator.py```\n"
   ]
  },
  {
   "cell_type": "code",
   "execution_count": null,
   "metadata": {},
   "outputs": [],
   "source": []
  }
 ],
 "metadata": {
  "hide_input": false,
  "kernelspec": {
   "display_name": "Python [conda env:thddecor]",
   "language": "python",
   "name": "conda-env-thddecor-py"
  },
  "language_info": {
   "codemirror_mode": {
    "name": "ipython",
    "version": 3
   },
   "file_extension": ".py",
   "mimetype": "text/x-python",
   "name": "python",
   "nbconvert_exporter": "python",
   "pygments_lexer": "ipython3",
   "version": "3.7.3"
  },
  "toc": {
   "base_numbering": 1,
   "nav_menu": {},
   "number_sections": true,
   "sideBar": true,
   "skip_h1_title": false,
   "title_cell": "Table of Contents",
   "title_sidebar": "Contents",
   "toc_cell": false,
   "toc_position": {},
   "toc_section_display": true,
   "toc_window_display": false
  }
 },
 "nbformat": 4,
 "nbformat_minor": 4
}
