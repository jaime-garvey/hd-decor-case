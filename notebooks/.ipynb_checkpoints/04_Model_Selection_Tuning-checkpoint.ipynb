{
 "cells": [
  {
   "cell_type": "markdown",
   "metadata": {},
   "source": [
    "# The Home Depot Decor Case\n",
    "\n",
    "Getting Started  |  Data Prep  |  Data Exploration  |  Preprocessing  |  **Model Selection & Tuning**  |  Final Model"
   ]
  },
  {
   "cell_type": "code",
   "execution_count": 2,
   "metadata": {
    "ExecuteTime": {
     "end_time": "2019-07-21T03:14:29.830709Z",
     "start_time": "2019-07-21T03:14:27.199284Z"
    }
   },
   "outputs": [],
   "source": [
    "import pandas as pd\n",
    "import numpy as np\n",
    "import matplotlib.pyplot as plt\n",
    "import math\n",
    "\n",
    "import gensim\n",
    "from nltk.corpus import stopwords\n",
    "from sklearn.feature_extraction.text import TfidfVectorizer, CountVectorizer\n",
    "from sklearn.metrics.pairwise import cosine_similarity\n",
    "\n",
    "import surprise\n",
    "\n",
    "# other imports\n",
    "%matplotlib inline"
   ]
  },
  {
   "cell_type": "code",
   "execution_count": 3,
   "metadata": {
    "ExecuteTime": {
     "end_time": "2019-07-21T03:14:29.849061Z",
     "start_time": "2019-07-21T03:14:29.832915Z"
    }
   },
   "outputs": [],
   "source": [
    "import sys\n",
    "import inspect\n",
    "sys.path.insert(0, '../modules')\n",
    "\n",
    "\n",
    "# now read in new functions\n",
    "from helpers import read_in_dataset, get_num_of_levels, flatten_categories, search_cons_status\n",
    "from hierarchy import Hierarchy\n",
    "from textpreprocessor import TextPreprocessor"
   ]
  },
  {
   "cell_type": "markdown",
   "metadata": {},
   "source": [
    "**Read in Data**"
   ]
  },
  {
   "cell_type": "code",
   "execution_count": 4,
   "metadata": {
    "ExecuteTime": {
     "end_time": "2019-07-21T03:14:56.517315Z",
     "start_time": "2019-07-21T03:14:56.295853Z"
    }
   },
   "outputs": [],
   "source": [
    "# Read in product related data\n",
    "verbose_opt = False\n",
    "catalog = read_in_dataset('Decor_catalog.csv', verbose=verbose_opt)\n",
    "#prod_desc = read_in_dataset('Product_name_description.csv', verbose=verbose_opt)\n",
    "#prod_engagement = read_in_dataset('Product_engagement.csv', verbose=verbose_opt)\n",
    "\n",
    "# Read in search related data\n",
    "#navigations = read_in_dataset('Visual_navigations.csv', verbose=verbose_opt)\n",
    "search_imp = read_in_dataset('Search_impression.csv', verbose=verbose_opt)"
   ]
  },
  {
   "cell_type": "markdown",
   "metadata": {
    "ExecuteTime": {
     "end_time": "2019-07-19T18:30:33.125314Z",
     "start_time": "2019-07-19T18:30:33.121633Z"
    },
    "heading_collapsed": true
   },
   "source": [
    "# Get Hierarchy"
   ]
  },
  {
   "cell_type": "code",
   "execution_count": null,
   "metadata": {
    "hidden": true
   },
   "outputs": [],
   "source": [
    "# Get Product Taxonomy \n",
    "\n",
    "h = Hierarchy\n",
    "\n",
    "h\n"
   ]
  },
  {
   "cell_type": "markdown",
   "metadata": {
    "heading_collapsed": true
   },
   "source": [
    "# Preprocess & Vectorize Training Data"
   ]
  },
  {
   "cell_type": "code",
   "execution_count": 5,
   "metadata": {
    "ExecuteTime": {
     "end_time": "2019-07-21T03:14:59.627882Z",
     "start_time": "2019-07-21T03:14:59.621797Z"
    },
    "hidden": true
   },
   "outputs": [],
   "source": [
    "# Define List of Stop Words\n",
    "new_stop_words = ['in', 'sq','ft', 'yd', 'cm', 'mm','gal','lb' ,'lbs','qt','oz', 'h', 'w', 'ii', 'x']\n",
    "stopwords = set(stopwords.words('english') + new_stop_words)"
   ]
  },
  {
   "cell_type": "code",
   "execution_count": 6,
   "metadata": {
    "ExecuteTime": {
     "end_time": "2019-07-21T03:15:03.392648Z",
     "start_time": "2019-07-21T03:15:02.064425Z"
    },
    "hidden": true
   },
   "outputs": [
    {
     "name": "stderr",
     "output_type": "stream",
     "text": [
      "/Users/Jaime/miniconda3/envs/thddecor/lib/python3.7/site-packages/gensim/models/phrases.py:494: UserWarning: For a faster implementation, use the gensim.models.phrases.Phraser class\n",
      "  warnings.warn(\"For a faster implementation, use the gensim.models.phrases.Phraser class\")\n"
     ]
    }
   ],
   "source": [
    "# Search\n",
    "search_corpus = search_imp['Search_term'].values\n",
    "\n",
    "# Use preprocessor on searches\n",
    "tps = TextPreprocessor\n",
    "search = tps()\n",
    "clean_searches = list(search.preprocess(search_corpus))\n",
    "searches_trigram = search.trigram_model(clean_searches, verbose=False)\n",
    "searches_vec, searches_matrix = search.vectorize(searches_trigram)"
   ]
  },
  {
   "cell_type": "code",
   "execution_count": 20,
   "metadata": {
    "ExecuteTime": {
     "end_time": "2019-07-21T02:48:02.834476Z",
     "start_time": "2019-07-21T02:47:00.243804Z"
    },
    "hidden": true
   },
   "outputs": [
    {
     "name": "stderr",
     "output_type": "stream",
     "text": [
      "/Users/Jaime/miniconda3/envs/thddecor/lib/python3.7/site-packages/gensim/models/phrases.py:494: UserWarning: For a faster implementation, use the gensim.models.phrases.Phraser class\n",
      "  warnings.warn(\"For a faster implementation, use the gensim.models.phrases.Phraser class\")\n"
     ]
    }
   ],
   "source": [
    "# Product Names\n",
    "names_corpus = prod_desc['Product_name'].values\n",
    "\n",
    "# Use preprocessor on product names\n",
    "\n",
    "tpp = TextPreprocessor\n",
    "\n",
    "name = tpp()\n",
    "clean_names = list(search.preprocess(names_corpus))\n",
    "names_trigram = search.trigram_model(clean_names, verbose=False)\n",
    "names_vec, names_matrix = search.vectorize(names_trigram)"
   ]
  },
  {
   "cell_type": "markdown",
   "metadata": {},
   "source": [
    "# Search Term - Product (Impressions) Matrix"
   ]
  },
  {
   "cell_type": "code",
   "execution_count": 7,
   "metadata": {
    "ExecuteTime": {
     "end_time": "2019-07-21T03:15:08.338552Z",
     "start_time": "2019-07-21T03:15:08.333092Z"
    }
   },
   "outputs": [],
   "source": [
    "# Get impresions as document of sku ids\n",
    "search_imp['Impression'] = search_imp['Impression'].str.replace(';', ' ')\n",
    "\n",
    "# impressions array\n",
    "imp = search_imp['Impression'].values"
   ]
  },
  {
   "cell_type": "code",
   "execution_count": 8,
   "metadata": {
    "ExecuteTime": {
     "end_time": "2019-07-21T03:15:09.412185Z",
     "start_time": "2019-07-21T03:15:09.371287Z"
    }
   },
   "outputs": [
    {
     "data": {
      "text/html": [
       "<div>\n",
       "<style scoped>\n",
       "    .dataframe tbody tr th:only-of-type {\n",
       "        vertical-align: middle;\n",
       "    }\n",
       "\n",
       "    .dataframe tbody tr th {\n",
       "        vertical-align: top;\n",
       "    }\n",
       "\n",
       "    .dataframe thead th {\n",
       "        text-align: right;\n",
       "    }\n",
       "</style>\n",
       "<table border=\"1\" class=\"dataframe\">\n",
       "  <thead>\n",
       "    <tr style=\"text-align: right;\">\n",
       "      <th></th>\n",
       "      <th>100012014</th>\n",
       "      <th>100022800</th>\n",
       "      <th>100023109</th>\n",
       "      <th>100023973</th>\n",
       "      <th>100036137</th>\n",
       "      <th>100044505</th>\n",
       "      <th>100048075</th>\n",
       "      <th>100051570</th>\n",
       "      <th>100061089</th>\n",
       "      <th>100074869</th>\n",
       "      <th>...</th>\n",
       "      <th>307717049</th>\n",
       "      <th>307717219</th>\n",
       "      <th>307717221</th>\n",
       "      <th>307727052</th>\n",
       "      <th>307833295</th>\n",
       "      <th>307920434</th>\n",
       "      <th>307939445</th>\n",
       "      <th>307939707</th>\n",
       "      <th>307940057</th>\n",
       "      <th>307940314</th>\n",
       "    </tr>\n",
       "  </thead>\n",
       "  <tbody>\n",
       "    <tr>\n",
       "      <th>coffee</th>\n",
       "      <td>0</td>\n",
       "      <td>0</td>\n",
       "      <td>0</td>\n",
       "      <td>0</td>\n",
       "      <td>0</td>\n",
       "      <td>0</td>\n",
       "      <td>0</td>\n",
       "      <td>0</td>\n",
       "      <td>0</td>\n",
       "      <td>0</td>\n",
       "      <td>...</td>\n",
       "      <td>0</td>\n",
       "      <td>0</td>\n",
       "      <td>0</td>\n",
       "      <td>0</td>\n",
       "      <td>0</td>\n",
       "      <td>0</td>\n",
       "      <td>0</td>\n",
       "      <td>0</td>\n",
       "      <td>0</td>\n",
       "      <td>0</td>\n",
       "    </tr>\n",
       "    <tr>\n",
       "      <th>bag chair</th>\n",
       "      <td>0</td>\n",
       "      <td>0</td>\n",
       "      <td>0</td>\n",
       "      <td>0</td>\n",
       "      <td>0</td>\n",
       "      <td>0</td>\n",
       "      <td>0</td>\n",
       "      <td>0</td>\n",
       "      <td>0</td>\n",
       "      <td>0</td>\n",
       "      <td>...</td>\n",
       "      <td>0</td>\n",
       "      <td>0</td>\n",
       "      <td>0</td>\n",
       "      <td>0</td>\n",
       "      <td>0</td>\n",
       "      <td>0</td>\n",
       "      <td>0</td>\n",
       "      <td>0</td>\n",
       "      <td>0</td>\n",
       "      <td>0</td>\n",
       "    </tr>\n",
       "    <tr>\n",
       "      <th>kitchen wall tile</th>\n",
       "      <td>0</td>\n",
       "      <td>0</td>\n",
       "      <td>0</td>\n",
       "      <td>0</td>\n",
       "      <td>0</td>\n",
       "      <td>0</td>\n",
       "      <td>0</td>\n",
       "      <td>0</td>\n",
       "      <td>0</td>\n",
       "      <td>0</td>\n",
       "      <td>...</td>\n",
       "      <td>0</td>\n",
       "      <td>0</td>\n",
       "      <td>0</td>\n",
       "      <td>0</td>\n",
       "      <td>0</td>\n",
       "      <td>0</td>\n",
       "      <td>0</td>\n",
       "      <td>0</td>\n",
       "      <td>0</td>\n",
       "      <td>0</td>\n",
       "    </tr>\n",
       "    <tr>\n",
       "      <th>mirror tile</th>\n",
       "      <td>0</td>\n",
       "      <td>0</td>\n",
       "      <td>0</td>\n",
       "      <td>0</td>\n",
       "      <td>0</td>\n",
       "      <td>0</td>\n",
       "      <td>0</td>\n",
       "      <td>0</td>\n",
       "      <td>0</td>\n",
       "      <td>0</td>\n",
       "      <td>...</td>\n",
       "      <td>0</td>\n",
       "      <td>0</td>\n",
       "      <td>0</td>\n",
       "      <td>0</td>\n",
       "      <td>0</td>\n",
       "      <td>0</td>\n",
       "      <td>0</td>\n",
       "      <td>0</td>\n",
       "      <td>0</td>\n",
       "      <td>0</td>\n",
       "    </tr>\n",
       "    <tr>\n",
       "      <th>entryway</th>\n",
       "      <td>0</td>\n",
       "      <td>0</td>\n",
       "      <td>0</td>\n",
       "      <td>0</td>\n",
       "      <td>0</td>\n",
       "      <td>0</td>\n",
       "      <td>0</td>\n",
       "      <td>0</td>\n",
       "      <td>0</td>\n",
       "      <td>0</td>\n",
       "      <td>...</td>\n",
       "      <td>0</td>\n",
       "      <td>0</td>\n",
       "      <td>0</td>\n",
       "      <td>0</td>\n",
       "      <td>0</td>\n",
       "      <td>0</td>\n",
       "      <td>0</td>\n",
       "      <td>0</td>\n",
       "      <td>0</td>\n",
       "      <td>0</td>\n",
       "    </tr>\n",
       "  </tbody>\n",
       "</table>\n",
       "<p>5 rows × 4764 columns</p>\n",
       "</div>"
      ],
      "text/plain": [
       "                   100012014  100022800  100023109  100023973  100036137  \\\n",
       "coffee                     0          0          0          0          0   \n",
       "bag chair                  0          0          0          0          0   \n",
       "kitchen wall tile          0          0          0          0          0   \n",
       "mirror tile                0          0          0          0          0   \n",
       "entryway                   0          0          0          0          0   \n",
       "\n",
       "                   100044505  100048075  100051570  100061089  100074869  ...  \\\n",
       "coffee                     0          0          0          0          0  ...   \n",
       "bag chair                  0          0          0          0          0  ...   \n",
       "kitchen wall tile          0          0          0          0          0  ...   \n",
       "mirror tile                0          0          0          0          0  ...   \n",
       "entryway                   0          0          0          0          0  ...   \n",
       "\n",
       "                   307717049  307717219  307717221  307727052  307833295  \\\n",
       "coffee                     0          0          0          0          0   \n",
       "bag chair                  0          0          0          0          0   \n",
       "kitchen wall tile          0          0          0          0          0   \n",
       "mirror tile                0          0          0          0          0   \n",
       "entryway                   0          0          0          0          0   \n",
       "\n",
       "                   307920434  307939445  307939707  307940057  307940314  \n",
       "coffee                     0          0          0          0          0  \n",
       "bag chair                  0          0          0          0          0  \n",
       "kitchen wall tile          0          0          0          0          0  \n",
       "mirror tile                0          0          0          0          0  \n",
       "entryway                   0          0          0          0          0  \n",
       "\n",
       "[5 rows x 4764 columns]"
      ]
     },
     "execution_count": 8,
     "metadata": {},
     "output_type": "execute_result"
    }
   ],
   "source": [
    "# Vectorize Data\n",
    "vec = CountVectorizer()\n",
    "\n",
    "#Fit Transform\n",
    "seach_prod = vec.fit_transform(imp)\n",
    "\n",
    "# Preview Sparse Matrix\n",
    "pd.DataFrame(seach_prod.toarray(), index=search_imp['Search_term'].values, columns=vec.get_feature_names()).head()"
   ]
  },
  {
   "cell_type": "markdown",
   "metadata": {},
   "source": [
    "### Category - Product Matrix"
   ]
  },
  {
   "cell_type": "code",
   "execution_count": 9,
   "metadata": {
    "ExecuteTime": {
     "end_time": "2019-07-21T03:15:15.603625Z",
     "start_time": "2019-07-21T03:15:15.004798Z"
    }
   },
   "outputs": [],
   "source": [
    "# Expand Nested Columns\n",
    "catalog['Category'] = catalog['Category'].str.split('>')\n",
    "\n",
    "cat = catalog['Category'].values"
   ]
  },
  {
   "cell_type": "code",
   "execution_count": 10,
   "metadata": {
    "ExecuteTime": {
     "end_time": "2019-07-21T03:15:18.765185Z",
     "start_time": "2019-07-21T03:15:16.235441Z"
    }
   },
   "outputs": [
    {
     "data": {
      "text/html": [
       "<div>\n",
       "<style scoped>\n",
       "    .dataframe tbody tr th:only-of-type {\n",
       "        vertical-align: middle;\n",
       "    }\n",
       "\n",
       "    .dataframe tbody tr th {\n",
       "        vertical-align: top;\n",
       "    }\n",
       "\n",
       "    .dataframe thead th {\n",
       "        text-align: right;\n",
       "    }\n",
       "</style>\n",
       "<table border=\"1\" class=\"dataframe\">\n",
       "  <thead>\n",
       "    <tr style=\"text-align: right;\">\n",
       "      <th></th>\n",
       "      <th>AV Accessories</th>\n",
       "      <th>Abrasives</th>\n",
       "      <th>Accent Chairs</th>\n",
       "      <th>Accent Tables</th>\n",
       "      <th>Accessories</th>\n",
       "      <th>Acoustic Wall Paneling</th>\n",
       "      <th>Acrylic Sheets</th>\n",
       "      <th>Activity Tables</th>\n",
       "      <th>Address Plaques</th>\n",
       "      <th>Address Signs</th>\n",
       "      <th>...</th>\n",
       "      <th>Work Aprons</th>\n",
       "      <th>Work Gloves</th>\n",
       "      <th>Work Hats</th>\n",
       "      <th>Work Hoodies &amp; Sweatshirts</th>\n",
       "      <th>Work Lights</th>\n",
       "      <th>Workbenches &amp; Workbench Accessories</th>\n",
       "      <th>Workwear</th>\n",
       "      <th>Writing Utensils</th>\n",
       "      <th>Yoga Mats</th>\n",
       "      <th>Yogurt Makers</th>\n",
       "    </tr>\n",
       "  </thead>\n",
       "  <tbody>\n",
       "    <tr>\n",
       "      <th>302087889</th>\n",
       "      <td>0</td>\n",
       "      <td>0</td>\n",
       "      <td>0</td>\n",
       "      <td>0</td>\n",
       "      <td>0</td>\n",
       "      <td>0</td>\n",
       "      <td>0</td>\n",
       "      <td>0</td>\n",
       "      <td>0</td>\n",
       "      <td>0</td>\n",
       "      <td>...</td>\n",
       "      <td>0</td>\n",
       "      <td>0</td>\n",
       "      <td>0</td>\n",
       "      <td>0</td>\n",
       "      <td>0</td>\n",
       "      <td>0</td>\n",
       "      <td>0</td>\n",
       "      <td>0</td>\n",
       "      <td>0</td>\n",
       "      <td>0</td>\n",
       "    </tr>\n",
       "    <tr>\n",
       "      <th>301688935</th>\n",
       "      <td>0</td>\n",
       "      <td>0</td>\n",
       "      <td>0</td>\n",
       "      <td>0</td>\n",
       "      <td>0</td>\n",
       "      <td>0</td>\n",
       "      <td>0</td>\n",
       "      <td>0</td>\n",
       "      <td>0</td>\n",
       "      <td>0</td>\n",
       "      <td>...</td>\n",
       "      <td>0</td>\n",
       "      <td>0</td>\n",
       "      <td>0</td>\n",
       "      <td>0</td>\n",
       "      <td>0</td>\n",
       "      <td>0</td>\n",
       "      <td>0</td>\n",
       "      <td>0</td>\n",
       "      <td>0</td>\n",
       "      <td>0</td>\n",
       "    </tr>\n",
       "    <tr>\n",
       "      <th>206788920</th>\n",
       "      <td>0</td>\n",
       "      <td>0</td>\n",
       "      <td>0</td>\n",
       "      <td>0</td>\n",
       "      <td>0</td>\n",
       "      <td>0</td>\n",
       "      <td>0</td>\n",
       "      <td>0</td>\n",
       "      <td>0</td>\n",
       "      <td>0</td>\n",
       "      <td>...</td>\n",
       "      <td>0</td>\n",
       "      <td>0</td>\n",
       "      <td>0</td>\n",
       "      <td>0</td>\n",
       "      <td>0</td>\n",
       "      <td>0</td>\n",
       "      <td>0</td>\n",
       "      <td>0</td>\n",
       "      <td>0</td>\n",
       "      <td>0</td>\n",
       "    </tr>\n",
       "    <tr>\n",
       "      <th>302087892</th>\n",
       "      <td>0</td>\n",
       "      <td>0</td>\n",
       "      <td>0</td>\n",
       "      <td>0</td>\n",
       "      <td>0</td>\n",
       "      <td>0</td>\n",
       "      <td>0</td>\n",
       "      <td>0</td>\n",
       "      <td>0</td>\n",
       "      <td>0</td>\n",
       "      <td>...</td>\n",
       "      <td>0</td>\n",
       "      <td>0</td>\n",
       "      <td>0</td>\n",
       "      <td>0</td>\n",
       "      <td>0</td>\n",
       "      <td>0</td>\n",
       "      <td>0</td>\n",
       "      <td>0</td>\n",
       "      <td>0</td>\n",
       "      <td>0</td>\n",
       "    </tr>\n",
       "    <tr>\n",
       "      <th>302087891</th>\n",
       "      <td>0</td>\n",
       "      <td>0</td>\n",
       "      <td>0</td>\n",
       "      <td>0</td>\n",
       "      <td>0</td>\n",
       "      <td>0</td>\n",
       "      <td>0</td>\n",
       "      <td>0</td>\n",
       "      <td>0</td>\n",
       "      <td>0</td>\n",
       "      <td>...</td>\n",
       "      <td>0</td>\n",
       "      <td>0</td>\n",
       "      <td>0</td>\n",
       "      <td>0</td>\n",
       "      <td>0</td>\n",
       "      <td>0</td>\n",
       "      <td>0</td>\n",
       "      <td>0</td>\n",
       "      <td>0</td>\n",
       "      <td>0</td>\n",
       "    </tr>\n",
       "  </tbody>\n",
       "</table>\n",
       "<p>5 rows × 1431 columns</p>\n",
       "</div>"
      ],
      "text/plain": [
       "           AV Accessories  Abrasives  Accent Chairs  Accent Tables  \\\n",
       "302087889               0          0              0              0   \n",
       "301688935               0          0              0              0   \n",
       "206788920               0          0              0              0   \n",
       "302087892               0          0              0              0   \n",
       "302087891               0          0              0              0   \n",
       "\n",
       "           Accessories  Acoustic Wall Paneling  Acrylic Sheets  \\\n",
       "302087889            0                       0               0   \n",
       "301688935            0                       0               0   \n",
       "206788920            0                       0               0   \n",
       "302087892            0                       0               0   \n",
       "302087891            0                       0               0   \n",
       "\n",
       "           Activity Tables  Address Plaques  Address Signs  ...  Work Aprons  \\\n",
       "302087889                0                0              0  ...            0   \n",
       "301688935                0                0              0  ...            0   \n",
       "206788920                0                0              0  ...            0   \n",
       "302087892                0                0              0  ...            0   \n",
       "302087891                0                0              0  ...            0   \n",
       "\n",
       "           Work Gloves  Work Hats  Work Hoodies & Sweatshirts  Work Lights  \\\n",
       "302087889            0          0                           0            0   \n",
       "301688935            0          0                           0            0   \n",
       "206788920            0          0                           0            0   \n",
       "302087892            0          0                           0            0   \n",
       "302087891            0          0                           0            0   \n",
       "\n",
       "           Workbenches & Workbench Accessories  Workwear  Writing Utensils  \\\n",
       "302087889                                    0         0                 0   \n",
       "301688935                                    0         0                 0   \n",
       "206788920                                    0         0                 0   \n",
       "302087892                                    0         0                 0   \n",
       "302087891                                    0         0                 0   \n",
       "\n",
       "           Yoga Mats  Yogurt Makers  \n",
       "302087889          0              0  \n",
       "301688935          0              0  \n",
       "206788920          0              0  \n",
       "302087892          0              0  \n",
       "302087891          0              0  \n",
       "\n",
       "[5 rows x 1431 columns]"
      ]
     },
     "execution_count": 10,
     "metadata": {},
     "output_type": "execute_result"
    }
   ],
   "source": [
    "# Vectorize Data\n",
    "\n",
    "def dummy(doc):\n",
    "    return doc\n",
    "\n",
    "vec_cat = CountVectorizer(lowercase=False, preprocessor=dummy,tokenizer=dummy)\n",
    "\n",
    "#Fit Transform\n",
    "prod_cat = vec_cat.fit_transform(cat)\n",
    "\n",
    "# Preview Sparse Matrix\n",
    "prod_cat_df  = pd.DataFrame(prod_cat.toarray(), index=catalog['SKU_ID'].values, columns=vec_cat.get_feature_names())\n",
    "\n",
    "prod_cat_df.head()"
   ]
  },
  {
   "cell_type": "code",
   "execution_count": 11,
   "metadata": {
    "ExecuteTime": {
     "end_time": "2019-07-21T03:15:23.872127Z",
     "start_time": "2019-07-21T03:15:23.861548Z"
    }
   },
   "outputs": [],
   "source": [
    "#get search terms \n",
    "search_labels = pd.Series(vec.get_feature_names(), name='prod')\n",
    "\n",
    "#Get category list \n",
    "cat_labels = vec_cat.get_feature_names()"
   ]
  },
  {
   "cell_type": "code",
   "execution_count": 12,
   "metadata": {
    "ExecuteTime": {
     "end_time": "2019-07-21T03:15:26.434519Z",
     "start_time": "2019-07-21T03:15:26.430911Z"
    }
   },
   "outputs": [],
   "source": [
    "search_labels.index = search_labels"
   ]
  },
  {
   "cell_type": "code",
   "execution_count": 13,
   "metadata": {
    "ExecuteTime": {
     "end_time": "2019-07-21T03:15:30.853562Z",
     "start_time": "2019-07-21T03:15:30.055564Z"
    }
   },
   "outputs": [],
   "source": [
    "prod_cat_reduced = prod_cat_df.join(search_labels, how='right').drop('prod', axis=1)"
   ]
  },
  {
   "cell_type": "code",
   "execution_count": 15,
   "metadata": {
    "ExecuteTime": {
     "end_time": "2019-07-21T03:15:43.968007Z",
     "start_time": "2019-07-21T03:15:43.959068Z"
    }
   },
   "outputs": [
    {
     "data": {
      "text/plain": [
       "<354x4764 sparse matrix of type '<class 'numpy.int64'>'\n",
       "\twith 8696 stored elements in Compressed Sparse Row format>"
      ]
     },
     "execution_count": 15,
     "metadata": {},
     "output_type": "execute_result"
    }
   ],
   "source": [
    "seach_prod"
   ]
  },
  {
   "cell_type": "code",
   "execution_count": null,
   "metadata": {
    "ExecuteTime": {
     "start_time": "2019-07-21T04:07:15.403Z"
    }
   },
   "outputs": [],
   "source": [
    "term_cat_matrix = np.dot(seach_prod, prod_cat_reduced)"
   ]
  },
  {
   "cell_type": "code",
   "execution_count": null,
   "metadata": {},
   "outputs": [],
   "source": [
    "# List of products accent table\n",
    "at_prods = search_imp[search_imp['Search_term'] =='end table']['Impression'].str.split()\n",
    "#a = at_prods.to_list()\n",
    "#at_prods= a[0]\n",
    "\n",
    "# labels\n",
    "def get_labels(prod_lst=at_prods):\n",
    "    \n",
    "    labels = []\n",
    "    for prod in prod_lst:\n",
    "        lst = catalog.loc[int(prod)]\n",
    "        \n",
    "        if len(lst)>1:\n",
    "            lsts = catalog.loc[int(prod)]['Category'].to_list()\n",
    "            for l in lsts:\n",
    "                labels.extend(l)\n",
    "        else:\n",
    "            labels.extend(lst['Category'])\n",
    "        \n",
    "    d = Counter(labels)\n",
    "    \n",
    "    return d \n",
    "    "
   ]
  },
  {
   "cell_type": "code",
   "execution_count": null,
   "metadata": {},
   "outputs": [],
   "source": [
    "labels = []\n",
    "for prod in at_prods:\n",
    "    labels.extend(catalog.loc[int(prod)]['Category'])"
   ]
  },
  {
   "cell_type": "code",
   "execution_count": null,
   "metadata": {},
   "outputs": [],
   "source": [
    "labels.append(catalog.loc[int(at_prods[0])])"
   ]
  },
  {
   "cell_type": "code",
   "execution_count": null,
   "metadata": {},
   "outputs": [],
   "source": [
    "catalog.loc[int(at_prods[0])]['Category']"
   ]
  },
  {
   "cell_type": "markdown",
   "metadata": {},
   "source": [
    "### New heading"
   ]
  },
  {
   "cell_type": "markdown",
   "metadata": {},
   "source": [
    "# Get Top Categories"
   ]
  },
  {
   "cell_type": "code",
   "execution_count": 12,
   "metadata": {
    "ExecuteTime": {
     "end_time": "2019-07-20T23:10:02.189019Z",
     "start_time": "2019-07-20T23:10:02.185618Z"
    }
   },
   "outputs": [],
   "source": [
    "# get index and col labels\n",
    "cat_labels = prod_cat_df.columns.to_list()"
   ]
  },
  {
   "cell_type": "code",
   "execution_count": 16,
   "metadata": {
    "ExecuteTime": {
     "end_time": "2019-07-20T22:27:11.760792Z",
     "start_time": "2019-07-20T22:27:11.755556Z"
    }
   },
   "outputs": [],
   "source": [
    "# Similarity Matrix of Products\n",
    " \n",
    "def get_prod_similarity(prod1, prod2, categories):\n",
    "    cat1 = categories[prod1]\n",
    "    cat2 = categories[prod2]\n",
    "    \n",
    "    sum_xy, sum_xx, sum_yy = 0, 0, 0\n",
    "    \n",
    "    for i in range(len(cat1)):\n",
    "        x = cat1[i]\n",
    "        y = cat2[i]\n",
    "        \n",
    "        sum_xx += x * y\n",
    "        sum_yy += y * y\n",
    "        sum_xy += x * y\n",
    "        \n",
    "    return sum_xy/math.sqrt(sum_xx*sum_yy)"
   ]
  },
  {
   "cell_type": "code",
   "execution_count": 24,
   "metadata": {
    "ExecuteTime": {
     "end_time": "2019-07-20T22:34:55.765998Z",
     "start_time": "2019-07-20T22:34:55.561085Z"
    }
   },
   "outputs": [],
   "source": [
    "# create empty df\n",
    "prod_similarity_matrix = pd.DataFrame(index=cat_labels, columns=cat_labels)"
   ]
  },
  {
   "cell_type": "code",
   "execution_count": null,
   "metadata": {},
   "outputs": [],
   "source": []
  },
  {
   "cell_type": "code",
   "execution_count": null,
   "metadata": {},
   "outputs": [],
   "source": []
  },
  {
   "cell_type": "code",
   "execution_count": 26,
   "metadata": {
    "ExecuteTime": {
     "end_time": "2019-07-20T22:45:21.917206Z",
     "start_time": "2019-07-20T22:45:21.899774Z"
    }
   },
   "outputs": [],
   "source": [
    "class Recommender: \n",
    "    def __init__(self, data, prod_col, search_terms, products, cf_method='item', similarity='pearson'):\n",
    "        self.data = data\n",
    "        self.search_terms = search_terms\n",
    "        self.products = products\n",
    "        self.cf_method = cf_method\n",
    "        self.similarity = similarity\n",
    "        self.similarity_matrix = []\n",
    "        self.term_prod_scores = []\n",
    "        self.recs = []\n",
    "        \n",
    "    def create_similarity_matrix(self):\n",
    "        '''Create correlation/similarity matrix for all items and stores result as self.similarity_matrix'''\n",
    "        \n",
    "        self.similarity_matrix = self._create_empty_df(self.cf_method)\n",
    "        self._fill_similarity_matrix(self.similarity_matrix, self.similarity)\n",
    "        \n",
    "    def _create_empty_df(self, cf_type):\n",
    "        '''creates and returns empty df with items as rows and columns'''\n",
    "        if cf_type == 'item':\n",
    "            labels = self.item_cols\n",
    "        elif cf_type == 'user':\n",
    "            labels = self.data[user_col]\n",
    "        else:\n",
    "            raise ValueError('Invalid collaborative filtering technique.  Please specify \"item\" or \"user\".')\n",
    "        return pd.DataFrame(index=labels, columns=labels)\n",
    "    \n",
    "    def _fill_similarity_matrix(self, similarity_matrix, similarity):\n",
    "        '''calculates correlation between items using specified similarity and saves results in similarity_matrix\n",
    "           valid similarity types: jaccard, pearson, cosine'''\n",
    "        k=0\n",
    "        item_df = self.data[self.item_cols] \n",
    "        #print(item_df)\n",
    "        progress_bar = tqdm(total = similarity_matrix.shape[0], mininterval=5)\n",
    "        for i in range(similarity_matrix.shape[0]):\n",
    "            progress_bar.update()\n",
    "            similarity_matrix.ix[i,i] = 1.0\n",
    "            x = item_df.ix[:,i]\n",
    "            for j in range(i,similarity_matrix.shape[1]):\n",
    "                y = item_df.ix[:,j]\n",
    "                similarity_matrix.ix[i,j] = self._get_similarity(x, y, similarity)\n",
    "                similarity_matrix.ix[j,i] = similarity_matrix.ix[i, j]\n",
    "                \n",
    "    def _get_similarity(self, x, y, similarity):\n",
    "        '''calculated specified correlation between two vectors and returns result'''\n",
    "        if similarity == 'pearson':\n",
    "            return self._pearson_similarity(x, y)\n",
    "        elif similarity == 'jaccard':\n",
    "            return self._jaccard_similarity(x, y)\n",
    "        elif similarity == 'cosine':\n",
    "            return self._cosine_similarity(x, y)\n",
    "        else:\n",
    "            raise ValueError('Invalid similarity type.  Please specify \"cosine\", \"pearson\", or \"jaccard\".')\n",
    "        \n",
    "    def _pearson_similarity(self, x, y):\n",
    "        '''returns pearson correlation between x and y: covariance(x,y)/(std_dev(x)*std_dev(y))'''\n",
    "        #effective if data can be transformed to normal distribution \n",
    "        pass\n",
    "\n",
    "    def _jaccard_similarity(self, x, y):\n",
    "        '''returns jaccard correlation between x and y: |intsection(x,y)|/|union(x,y)|'''\n",
    "        #ideal for binary data, e.g. buy vs non-buy\n",
    "        nonzero_x = set(np.nonzero(x)[0])\n",
    "        nonzero_y = set(np.nonzero(y)[0])\n",
    "        intersection_size = len(nonzero_x.intersection(nonzero_y))\n",
    "        union_size = len(nonzero_x.union(nonzero_y))\n",
    "        if union_size == 0:\n",
    "            return 0\n",
    "        else:\n",
    "            return intersection_size/union_size\n",
    "\n",
    "    def _cosine_similarity(self, x, y):\n",
    "        '''returns cosine of angles between x and y'''\n",
    "        pass\n",
    "    "
   ]
  },
  {
   "cell_type": "code",
   "execution_count": 1,
   "metadata": {
    "ExecuteTime": {
     "end_time": "2019-07-20T23:08:19.760724Z",
     "start_time": "2019-07-20T23:08:19.687413Z"
    }
   },
   "outputs": [
    {
     "ename": "NameError",
     "evalue": "name 'cosine_similarity' is not defined",
     "output_type": "error",
     "traceback": [
      "\u001b[0;31m---------------------------------------------------------------------------\u001b[0m",
      "\u001b[0;31mNameError\u001b[0m                                 Traceback (most recent call last)",
      "\u001b[0;32m<ipython-input-1-c9e7330f8ac1>\u001b[0m in \u001b[0;36m<module>\u001b[0;34m\u001b[0m\n\u001b[1;32m      1\u001b[0m \u001b[0;31m# Get Prod Similarity\u001b[0m\u001b[0;34m\u001b[0m\u001b[0;34m\u001b[0m\u001b[0;34m\u001b[0m\u001b[0m\n\u001b[0;32m----> 2\u001b[0;31m \u001b[0mprod_sim_matrix\u001b[0m \u001b[0;34m=\u001b[0m \u001b[0mcosine_similarity\u001b[0m\u001b[0;34m(\u001b[0m\u001b[0mprod_cat\u001b[0m\u001b[0;34m,\u001b[0m\u001b[0mprod_cat\u001b[0m\u001b[0;34m)\u001b[0m\u001b[0;34m\u001b[0m\u001b[0;34m\u001b[0m\u001b[0m\n\u001b[0m",
      "\u001b[0;31mNameError\u001b[0m: name 'cosine_similarity' is not defined"
     ]
    }
   ],
   "source": []
  },
  {
   "cell_type": "code",
   "execution_count": null,
   "metadata": {},
   "outputs": [],
   "source": []
  },
  {
   "cell_type": "code",
   "execution_count": null,
   "metadata": {},
   "outputs": [],
   "source": [
    "rec_engine.create_similarity_matrix()\n"
   ]
  },
  {
   "cell_type": "markdown",
   "metadata": {
    "heading_collapsed": true
   },
   "source": [
    "# Recommender"
   ]
  },
  {
   "cell_type": "code",
   "execution_count": null,
   "metadata": {
    "hidden": true
   },
   "outputs": [],
   "source": [
    "class Recommender:\n",
    "    def __init__(self, data, search_terms, products, similarity='pearson'):\n",
    "        self.data = data\n",
    "        self.search_terms = search_terms\n",
    "        self.products = products\n",
    "        self.similarity = similarity\n",
    "        self.similarity_matrix = []\n",
    "        self.term_prod_scores = []\n",
    "        self.recs = []\n",
    "    \n",
    "    def create_similarity_matrix(self):\n",
    "        '''Create correlation/similarity matrix for all items and stores result as self.similarity_matrix'''\n",
    "        \n",
    "        self.similarity_matrix = self._create_empty_df(self.cf_method)\n",
    "        self._fill_similarity_matrix(self.similarity_matrix, self.similarity)\n",
    "        \n",
    "    def "
   ]
  },
  {
   "cell_type": "code",
   "execution_count": null,
   "metadata": {
    "hidden": true
   },
   "outputs": [],
   "source": []
  },
  {
   "cell_type": "markdown",
   "metadata": {},
   "source": [
    "# Model Selection"
   ]
  },
  {
   "cell_type": "code",
   "execution_count": 37,
   "metadata": {
    "ExecuteTime": {
     "end_time": "2019-07-20T02:50:28.058755Z",
     "start_time": "2019-07-20T02:50:28.049302Z"
    }
   },
   "outputs": [
    {
     "data": {
      "text/html": [
       "<div>\n",
       "<style scoped>\n",
       "    .dataframe tbody tr th:only-of-type {\n",
       "        vertical-align: middle;\n",
       "    }\n",
       "\n",
       "    .dataframe tbody tr th {\n",
       "        vertical-align: top;\n",
       "    }\n",
       "\n",
       "    .dataframe thead th {\n",
       "        text-align: right;\n",
       "    }\n",
       "</style>\n",
       "<table border=\"1\" class=\"dataframe\">\n",
       "  <thead>\n",
       "    <tr style=\"text-align: right;\">\n",
       "      <th></th>\n",
       "      <th>Search_term</th>\n",
       "      <th>Impression</th>\n",
       "    </tr>\n",
       "  </thead>\n",
       "  <tbody>\n",
       "    <tr>\n",
       "      <th>0</th>\n",
       "      <td>coffee</td>\n",
       "      <td>203054703;207061099;305561354;305561469;301692...</td>\n",
       "    </tr>\n",
       "    <tr>\n",
       "      <th>1</th>\n",
       "      <td>bag chair</td>\n",
       "      <td>305573411;305608772;301092388;301092383;301092...</td>\n",
       "    </tr>\n",
       "    <tr>\n",
       "      <th>2</th>\n",
       "      <td>kitchen wall tile</td>\n",
       "      <td>205140711;302603437;205762409;204923728;204337...</td>\n",
       "    </tr>\n",
       "    <tr>\n",
       "      <th>3</th>\n",
       "      <td>mirror tile</td>\n",
       "      <td>305696621;304142073;304142126;304142039;303058...</td>\n",
       "    </tr>\n",
       "    <tr>\n",
       "      <th>4</th>\n",
       "      <td>entryway</td>\n",
       "      <td>203532713;203532652;300750153;302042988;302042...</td>\n",
       "    </tr>\n",
       "  </tbody>\n",
       "</table>\n",
       "</div>"
      ],
      "text/plain": [
       "         Search_term                                         Impression\n",
       "0             coffee  203054703;207061099;305561354;305561469;301692...\n",
       "1          bag chair  305573411;305608772;301092388;301092383;301092...\n",
       "2  kitchen wall tile  205140711;302603437;205762409;204923728;204337...\n",
       "3        mirror tile  305696621;304142073;304142126;304142039;303058...\n",
       "4           entryway  203532713;203532652;300750153;302042988;302042..."
      ]
     },
     "execution_count": 37,
     "metadata": {},
     "output_type": "execute_result"
    }
   ],
   "source": [
    "search_imp.head()"
   ]
  },
  {
   "cell_type": "code",
   "execution_count": 38,
   "metadata": {
    "ExecuteTime": {
     "end_time": "2019-07-20T02:51:55.859739Z",
     "start_time": "2019-07-20T02:51:55.834311Z"
    }
   },
   "outputs": [
    {
     "data": {
      "text/html": [
       "<div>\n",
       "<style scoped>\n",
       "    .dataframe tbody tr th:only-of-type {\n",
       "        vertical-align: middle;\n",
       "    }\n",
       "\n",
       "    .dataframe tbody tr th {\n",
       "        vertical-align: top;\n",
       "    }\n",
       "\n",
       "    .dataframe thead th {\n",
       "        text-align: right;\n",
       "    }\n",
       "</style>\n",
       "<table border=\"1\" class=\"dataframe\">\n",
       "  <thead>\n",
       "    <tr style=\"text-align: right;\">\n",
       "      <th></th>\n",
       "      <th>Search_term</th>\n",
       "      <th>L1</th>\n",
       "      <th>L2</th>\n",
       "      <th>L3</th>\n",
       "      <th>L4</th>\n",
       "      <th>L5</th>\n",
       "      <th>L6</th>\n",
       "      <th>L7</th>\n",
       "      <th>L8</th>\n",
       "      <th>L9</th>\n",
       "      <th>...</th>\n",
       "      <th>L48</th>\n",
       "      <th>L49</th>\n",
       "      <th>L50</th>\n",
       "      <th>L51</th>\n",
       "      <th>L52</th>\n",
       "      <th>L53</th>\n",
       "      <th>L54</th>\n",
       "      <th>L55</th>\n",
       "      <th>L56</th>\n",
       "      <th>L57</th>\n",
       "    </tr>\n",
       "  </thead>\n",
       "  <tbody>\n",
       "    <tr>\n",
       "      <th>0</th>\n",
       "      <td>coffee</td>\n",
       "      <td>203054703</td>\n",
       "      <td>207061099</td>\n",
       "      <td>305561354</td>\n",
       "      <td>305561469</td>\n",
       "      <td>301692317</td>\n",
       "      <td>206090043</td>\n",
       "      <td>206090041</td>\n",
       "      <td>300742646</td>\n",
       "      <td>204077166</td>\n",
       "      <td>...</td>\n",
       "      <td>NaN</td>\n",
       "      <td>NaN</td>\n",
       "      <td>NaN</td>\n",
       "      <td>NaN</td>\n",
       "      <td>NaN</td>\n",
       "      <td>NaN</td>\n",
       "      <td>NaN</td>\n",
       "      <td>NaN</td>\n",
       "      <td>NaN</td>\n",
       "      <td>NaN</td>\n",
       "    </tr>\n",
       "    <tr>\n",
       "      <th>1</th>\n",
       "      <td>bag chair</td>\n",
       "      <td>305573411</td>\n",
       "      <td>305608772</td>\n",
       "      <td>301092388</td>\n",
       "      <td>301092383</td>\n",
       "      <td>301092391</td>\n",
       "      <td>305676166</td>\n",
       "      <td>305676517</td>\n",
       "      <td>305676196</td>\n",
       "      <td>305676124</td>\n",
       "      <td>...</td>\n",
       "      <td>NaN</td>\n",
       "      <td>NaN</td>\n",
       "      <td>NaN</td>\n",
       "      <td>NaN</td>\n",
       "      <td>NaN</td>\n",
       "      <td>NaN</td>\n",
       "      <td>NaN</td>\n",
       "      <td>NaN</td>\n",
       "      <td>NaN</td>\n",
       "      <td>NaN</td>\n",
       "    </tr>\n",
       "    <tr>\n",
       "      <th>2</th>\n",
       "      <td>kitchen wall tile</td>\n",
       "      <td>205140711</td>\n",
       "      <td>302603437</td>\n",
       "      <td>205762409</td>\n",
       "      <td>204923728</td>\n",
       "      <td>204337886</td>\n",
       "      <td>204695051</td>\n",
       "      <td>204065143</td>\n",
       "      <td>204289147</td>\n",
       "      <td>204170143</td>\n",
       "      <td>...</td>\n",
       "      <td>NaN</td>\n",
       "      <td>NaN</td>\n",
       "      <td>NaN</td>\n",
       "      <td>NaN</td>\n",
       "      <td>NaN</td>\n",
       "      <td>NaN</td>\n",
       "      <td>NaN</td>\n",
       "      <td>NaN</td>\n",
       "      <td>NaN</td>\n",
       "      <td>NaN</td>\n",
       "    </tr>\n",
       "    <tr>\n",
       "      <th>3</th>\n",
       "      <td>mirror tile</td>\n",
       "      <td>305696621</td>\n",
       "      <td>304142073</td>\n",
       "      <td>304142126</td>\n",
       "      <td>304142039</td>\n",
       "      <td>303058463</td>\n",
       "      <td>304187832</td>\n",
       "      <td>303383559</td>\n",
       "      <td>305696699</td>\n",
       "      <td>100656412</td>\n",
       "      <td>...</td>\n",
       "      <td>NaN</td>\n",
       "      <td>NaN</td>\n",
       "      <td>NaN</td>\n",
       "      <td>NaN</td>\n",
       "      <td>NaN</td>\n",
       "      <td>NaN</td>\n",
       "      <td>NaN</td>\n",
       "      <td>NaN</td>\n",
       "      <td>NaN</td>\n",
       "      <td>NaN</td>\n",
       "    </tr>\n",
       "    <tr>\n",
       "      <th>4</th>\n",
       "      <td>entryway</td>\n",
       "      <td>203532713</td>\n",
       "      <td>203532652</td>\n",
       "      <td>300750153</td>\n",
       "      <td>302042988</td>\n",
       "      <td>302042995</td>\n",
       "      <td>302042994</td>\n",
       "      <td>206639873</td>\n",
       "      <td>203532749</td>\n",
       "      <td>300750157</td>\n",
       "      <td>...</td>\n",
       "      <td>NaN</td>\n",
       "      <td>NaN</td>\n",
       "      <td>NaN</td>\n",
       "      <td>NaN</td>\n",
       "      <td>NaN</td>\n",
       "      <td>NaN</td>\n",
       "      <td>NaN</td>\n",
       "      <td>NaN</td>\n",
       "      <td>NaN</td>\n",
       "      <td>NaN</td>\n",
       "    </tr>\n",
       "  </tbody>\n",
       "</table>\n",
       "<p>5 rows × 58 columns</p>\n",
       "</div>"
      ],
      "text/plain": [
       "         Search_term         L1         L2         L3         L4         L5  \\\n",
       "0             coffee  203054703  207061099  305561354  305561469  301692317   \n",
       "1          bag chair  305573411  305608772  301092388  301092383  301092391   \n",
       "2  kitchen wall tile  205140711  302603437  205762409  204923728  204337886   \n",
       "3        mirror tile  305696621  304142073  304142126  304142039  303058463   \n",
       "4           entryway  203532713  203532652  300750153  302042988  302042995   \n",
       "\n",
       "          L6         L7         L8         L9  ...  L48  L49  L50  L51  L52  \\\n",
       "0  206090043  206090041  300742646  204077166  ...  NaN  NaN  NaN  NaN  NaN   \n",
       "1  305676166  305676517  305676196  305676124  ...  NaN  NaN  NaN  NaN  NaN   \n",
       "2  204695051  204065143  204289147  204170143  ...  NaN  NaN  NaN  NaN  NaN   \n",
       "3  304187832  303383559  305696699  100656412  ...  NaN  NaN  NaN  NaN  NaN   \n",
       "4  302042994  206639873  203532749  300750157  ...  NaN  NaN  NaN  NaN  NaN   \n",
       "\n",
       "   L53  L54  L55  L56  L57  \n",
       "0  NaN  NaN  NaN  NaN  NaN  \n",
       "1  NaN  NaN  NaN  NaN  NaN  \n",
       "2  NaN  NaN  NaN  NaN  NaN  \n",
       "3  NaN  NaN  NaN  NaN  NaN  \n",
       "4  NaN  NaN  NaN  NaN  NaN  \n",
       "\n",
       "[5 rows x 58 columns]"
      ]
     },
     "execution_count": 38,
     "metadata": {},
     "output_type": "execute_result"
    }
   ],
   "source": [
    "\n",
    "imp_expan.head()"
   ]
  },
  {
   "cell_type": "code",
   "execution_count": 26,
   "metadata": {
    "ExecuteTime": {
     "end_time": "2019-07-20T02:42:49.094441Z",
     "start_time": "2019-07-20T02:42:49.080819Z"
    }
   },
   "outputs": [
    {
     "data": {
      "text/html": [
       "<div>\n",
       "<style scoped>\n",
       "    .dataframe tbody tr th:only-of-type {\n",
       "        vertical-align: middle;\n",
       "    }\n",
       "\n",
       "    .dataframe tbody tr th {\n",
       "        vertical-align: top;\n",
       "    }\n",
       "\n",
       "    .dataframe thead th {\n",
       "        text-align: right;\n",
       "    }\n",
       "</style>\n",
       "<table border=\"1\" class=\"dataframe\">\n",
       "  <thead>\n",
       "    <tr style=\"text-align: right;\">\n",
       "      <th></th>\n",
       "      <th>SKU_ID</th>\n",
       "      <th>L1</th>\n",
       "      <th>L2</th>\n",
       "      <th>L3</th>\n",
       "      <th>L4</th>\n",
       "      <th>L5</th>\n",
       "      <th>L6</th>\n",
       "    </tr>\n",
       "  </thead>\n",
       "  <tbody>\n",
       "    <tr>\n",
       "      <th>0</th>\n",
       "      <td>302087889</td>\n",
       "      <td>Lighting</td>\n",
       "      <td>Sconces</td>\n",
       "      <td>NaN</td>\n",
       "      <td>NaN</td>\n",
       "      <td>NaN</td>\n",
       "      <td>NaN</td>\n",
       "    </tr>\n",
       "    <tr>\n",
       "      <th>1</th>\n",
       "      <td>301688935</td>\n",
       "      <td>Lighting</td>\n",
       "      <td>Sconces</td>\n",
       "      <td>NaN</td>\n",
       "      <td>NaN</td>\n",
       "      <td>NaN</td>\n",
       "      <td>NaN</td>\n",
       "    </tr>\n",
       "    <tr>\n",
       "      <th>2</th>\n",
       "      <td>206788920</td>\n",
       "      <td>Lighting</td>\n",
       "      <td>Sconces</td>\n",
       "      <td>NaN</td>\n",
       "      <td>NaN</td>\n",
       "      <td>NaN</td>\n",
       "      <td>NaN</td>\n",
       "    </tr>\n",
       "    <tr>\n",
       "      <th>3</th>\n",
       "      <td>302087892</td>\n",
       "      <td>Lighting</td>\n",
       "      <td>Sconces</td>\n",
       "      <td>NaN</td>\n",
       "      <td>NaN</td>\n",
       "      <td>NaN</td>\n",
       "      <td>NaN</td>\n",
       "    </tr>\n",
       "    <tr>\n",
       "      <th>4</th>\n",
       "      <td>302087891</td>\n",
       "      <td>Lighting</td>\n",
       "      <td>Sconces</td>\n",
       "      <td>NaN</td>\n",
       "      <td>NaN</td>\n",
       "      <td>NaN</td>\n",
       "      <td>NaN</td>\n",
       "    </tr>\n",
       "  </tbody>\n",
       "</table>\n",
       "</div>"
      ],
      "text/plain": [
       "      SKU_ID        L1       L2   L3   L4   L5   L6\n",
       "0  302087889  Lighting  Sconces  NaN  NaN  NaN  NaN\n",
       "1  301688935  Lighting  Sconces  NaN  NaN  NaN  NaN\n",
       "2  206788920  Lighting  Sconces  NaN  NaN  NaN  NaN\n",
       "3  302087892  Lighting  Sconces  NaN  NaN  NaN  NaN\n",
       "4  302087891  Lighting  Sconces  NaN  NaN  NaN  NaN"
      ]
     },
     "execution_count": 26,
     "metadata": {},
     "output_type": "execute_result"
    }
   ],
   "source": [
    "catalog_expanded.head()"
   ]
  },
  {
   "cell_type": "code",
   "execution_count": null,
   "metadata": {},
   "outputs": [],
   "source": []
  },
  {
   "cell_type": "code",
   "execution_count": 1,
   "metadata": {
    "ExecuteTime": {
     "end_time": "2019-07-16T23:06:38.016457Z",
     "start_time": "2019-07-16T23:06:38.009573Z"
    }
   },
   "outputs": [],
   "source": [
    "# Define Variables\n"
   ]
  },
  {
   "cell_type": "code",
   "execution_count": null,
   "metadata": {},
   "outputs": [],
   "source": [
    "# Build Hierarchy \n"
   ]
  },
  {
   "cell_type": "code",
   "execution_count": null,
   "metadata": {},
   "outputs": [],
   "source": [
    "# Save Hierarchy\n"
   ]
  },
  {
   "cell_type": "markdown",
   "metadata": {},
   "source": []
  },
  {
   "cell_type": "markdown",
   "metadata": {},
   "source": [
    "## Parameter Tuning and Model Selection"
   ]
  },
  {
   "cell_type": "markdown",
   "metadata": {},
   "source": [
    "## Final Parameters"
   ]
  },
  {
   "cell_type": "code",
   "execution_count": null,
   "metadata": {},
   "outputs": [],
   "source": []
  }
 ],
 "metadata": {
  "hide_input": false,
  "kernelspec": {
   "display_name": "Python [conda env:thddecor]",
   "language": "python",
   "name": "conda-env-thddecor-py"
  },
  "language_info": {
   "codemirror_mode": {
    "name": "ipython",
    "version": 3
   },
   "file_extension": ".py",
   "mimetype": "text/x-python",
   "name": "python",
   "nbconvert_exporter": "python",
   "pygments_lexer": "ipython3",
   "version": "3.7.3"
  },
  "toc": {
   "base_numbering": 1,
   "nav_menu": {},
   "number_sections": true,
   "sideBar": true,
   "skip_h1_title": false,
   "title_cell": "Table of Contents",
   "title_sidebar": "Contents",
   "toc_cell": false,
   "toc_position": {},
   "toc_section_display": true,
   "toc_window_display": false
  }
 },
 "nbformat": 4,
 "nbformat_minor": 2
}
